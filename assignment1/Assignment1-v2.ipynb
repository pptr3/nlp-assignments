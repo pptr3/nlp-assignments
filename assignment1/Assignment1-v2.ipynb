{
 "cells": [
  {
   "cell_type": "markdown",
   "metadata": {
    "id": "CnHoYqQS5eV1"
   },
   "source": [
    "# Intro\n",
    "In this assignement you will see a little example about\n",
    "*   How to download a dataset\n",
    "*   How to load it into dataframes\n",
    "*   How to use extract basic features from the corpus\n",
    "*   How to train a classifier on those features\n",
    "\n",
    "You are advised to look at the code and understand it.\n",
    "\n",
    "You will be then asked to perform feature extraction and classification yourself.\n",
    "\n",
    "The task that will be addressed is document classification, specifically tasks related to sentiment classification.\n"
   ]
  },
  {
   "cell_type": "markdown",
   "metadata": {
    "id": "ARCKuf1S5GKg"
   },
   "source": [
    "# Document Classification Tutorial"
   ]
  },
  {
   "cell_type": "markdown",
   "metadata": {
    "id": "F8aVUWrD3LeW"
   },
   "source": [
    "## Preliminary Steps\n",
    "These are some preliminary steps before addressing the task.\n",
    "Import some basic libraries and set a variable that will be used in multiple steps."
   ]
  },
  {
   "cell_type": "code",
   "execution_count": 1,
   "metadata": {
    "id": "of3D92OeWV8_"
   },
   "outputs": [],
   "source": [
    "# The libraries we will use are imported here, in case of runtime problems\n",
    "import os, shutil  #  file management\n",
    "import sys\n",
    "import pandas as pd  #  dataframe management\n",
    "import numpy as np  #  data manipulation"
   ]
  },
  {
   "cell_type": "code",
   "execution_count": 2,
   "metadata": {
    "id": "AgXmCToDOAbQ"
   },
   "outputs": [],
   "source": [
    "dataset_name = \"aclImdb\""
   ]
  },
  {
   "cell_type": "markdown",
   "metadata": {
    "id": "LCjPTD4a6uTb"
   },
   "source": [
    "CHANGED: If it is necessary, clean all the data that are in the DATASETS directory and wipe out all the subdirectories.\n",
    "\n",
    "IMPORTANT: DO NOT RUN THIS SECTION UNLESS YOU NEED IT.\n"
   ]
  },
  {
   "cell_type": "code",
   "execution_count": null,
   "metadata": {
    "colab": {
     "base_uri": "https://localhost:8080/",
     "height": 50
    },
    "id": "iSbT57Bo6wkV",
    "outputId": "f5093bf5-cc61-4b0d-e8c4-59f92bc690d3"
   },
   "outputs": [
    {
     "name": "stdout",
     "output_type": "stream",
     "text": [
      "Current work directory: /content\n",
      "Cleaned\n"
     ]
    }
   ],
   "source": [
    "folder = os.getcwd()\n",
    "\n",
    "print(\"Current work directory: \" + str(folder))\n",
    "\n",
    "dataset_folder = os.path.join(os.getcwd(), \"Datasets\")\n",
    "\n",
    "if not os.path.exists(dataset_folder):\n",
    "    os.makedirs(dataset_folder)\n",
    "\n",
    "for filename in os.listdir(dataset_folder):\n",
    "    file_path = os.path.join(dataset_folder, filename)\n",
    "    try:\n",
    "        if os.path.isfile(file_path) or os.path.islink(file_path):\n",
    "            os.unlink(file_path)\n",
    "        elif os.path.isdir(file_path):\n",
    "            shutil.rmtree(file_path)\n",
    "    except Exception as e:\n",
    "        print('Failed to delete %s. Reason: %s' % (file_path, e))\n",
    "\n",
    "print(\"Cleaned\")"
   ]
  },
  {
   "cell_type": "markdown",
   "metadata": {
    "id": "d--rS8W95i62"
   },
   "source": [
    "## Dataset Download\n",
    "Dowload the Imdb movie reviews dataset\n"
   ]
  },
  {
   "cell_type": "code",
   "execution_count": 3,
   "metadata": {
    "colab": {
     "base_uri": "https://localhost:8080/",
     "height": 50
    },
    "id": "aLNJIfZg4_d9",
    "outputId": "1c820649-b716-4b07-9b76-ed0407bfda14"
   },
   "outputs": [
    {
     "name": "stdout",
     "output_type": "stream",
     "text": [
      "Successful download\n",
      "Successful extraction\n"
     ]
    }
   ],
   "source": [
    "import urllib.request  #  download files\n",
    "import tarfile  #  unzip files\n",
    "\n",
    "dataset_folder = os.path.join(os.getcwd(), \"Datasets\", \"Original\")\n",
    "\n",
    "if not os.path.exists(dataset_folder):\n",
    "    os.makedirs(dataset_folder)\n",
    "\n",
    "url = 'http://ai.stanford.edu/~amaas/data/sentiment/aclImdb_v1.tar.gz'\n",
    "\n",
    "dataset_path = os.path.join(dataset_folder, \"Movies.tar.gz\")\n",
    "\n",
    "if not os.path.exists(dataset_path):\n",
    "    urllib.request.urlretrieve(url, dataset_path)\n",
    "    print(\"Successful download\")\n",
    "\n",
    "tar = tarfile.open(dataset_path)\n",
    "tar.extractall(dataset_folder)\n",
    "tar.close()\n",
    "print(\"Successful extraction\")"
   ]
  },
  {
   "cell_type": "markdown",
   "metadata": {
    "id": "I3f93BOW3ziB"
   },
   "source": [
    "Look at the files you have downloaded to understand the structure of the dataset."
   ]
  },
  {
   "cell_type": "markdown",
   "metadata": {
    "id": "-FexYdgu87Q3"
   },
   "source": [
    "## Create the dataframe\n",
    "Now the dataset is loaded into a dataframe to be more accessible.\n",
    "During the creation some data will be printed as an example."
   ]
  },
  {
   "cell_type": "code",
   "execution_count": 4,
   "metadata": {
    "colab": {
     "base_uri": "https://localhost:8080/",
     "height": 171
    },
    "id": "4u8aN92x9Aw1",
    "outputId": "ddcc9778-9cd3-4d6d-8e0f-401c365835a1"
   },
   "outputs": [
    {
     "name": "stdout",
     "output_type": "stream",
     "text": [
      "/home/pptr/master/2year/1sem/NLP/assignments/assignment1/Datasets/Original/aclImdb/train/pos/10589_10.txt\n",
      "10589_10.txt\n",
      "10589\n",
      "I enjoyed Longstreet, which followed in the steps of Raymond Burr's successful Ironside TV series and was intended to give it competition. But this show was canceled after one season because it was decided--I believe wrongly--that Longstreet was not able to compete with Mr. Burr's Ironside.<br /><br />I may add that the pilot for this show was especially well done and very memorable. I hope that a box set of Longstreet will appear.<br /><br />Writers should note that this story idea was only briefly explored here and that much more could and should be done to show the play and interplay of disabilities on TV.\n",
      "10\n",
      "pos\n",
      "train\n",
      "{'file_id': '10589', 'score': '10', 'sentiment': 1, 'split': 'train', 'text': \"I enjoyed Longstreet, which followed in the steps of Raymond Burr's successful Ironside TV series and was intended to give it competition. But this show was canceled after one season because it was decided--I believe wrongly--that Longstreet was not able to compete with Mr. Burr's Ironside.<br /><br />I may add that the pilot for this show was especially well done and very memorable. I hope that a box set of Longstreet will appear.<br /><br />Writers should note that this story idea was only briefly explored here and that much more could and should be done to show the play and interplay of disabilities on TV.\"}\n"
     ]
    }
   ],
   "source": [
    "dataset_name = \"aclImdb\"\n",
    "\n",
    "debug = True\n",
    "\n",
    "dataframe_rows = []\n",
    "\n",
    "for split in ['train', 'test']:\n",
    "    for sentiment in ['pos', 'neg']:\n",
    "        folder = os.path.join(os.getcwd(), \"Datasets\", \"Original\", dataset_name, split, sentiment)\n",
    "        for filename in os.listdir(folder):\n",
    "            file_path = os.path.join(folder, filename)\n",
    "            try:\n",
    "                if os.path.isfile(file_path):\n",
    "                    # open the file\n",
    "                    with open(file_path, mode='r', encoding='utf-8') as text_file:\n",
    "                        # read it and extract informations\n",
    "                        text = text_file.read()\n",
    "                        score = filename.split(\"_\")[1].split(\".\")[0]\n",
    "                        file_id = filename.split(\"_\")[0]\n",
    "\n",
    "                        num_sentiment = -1\n",
    "\n",
    "                        if sentiment == \"pos\" : num_sentiment = 1\n",
    "                        elif sentiment == \"neg\" : num_sentiment = 0\n",
    "\n",
    "                        # create single dataframe row\n",
    "                        dataframe_row = {\n",
    "                            \"file_id\": file_id,\n",
    "                            \"score\": score,\n",
    "                            \"sentiment\": num_sentiment,\n",
    "                            \"split\": split,\n",
    "                            \"text\": text\n",
    "                        }\n",
    "\n",
    "                        # print detailed info for the first file\n",
    "                        if debug:\n",
    "                            print(file_path)\n",
    "                            print(filename)\n",
    "                            print(file_id)\n",
    "                            print(text)\n",
    "                            print(score)\n",
    "                            print(sentiment)\n",
    "                            print(split)\n",
    "                            print(dataframe_row)\n",
    "                            debug = False\n",
    "                        dataframe_rows.append(dataframe_row)\n",
    "\n",
    "            except Exception as e:\n",
    "                print('Failed to process %s. Reason: %s' % (file_path, e))\n",
    "                sys.exit(0)\n",
    "\n",
    "folder = os.path.join(os.getcwd(), \"Datasets\", \"Dataframes\", dataset_name)\n",
    "if not os.path.exists(folder):\n",
    "    os.makedirs(folder)\n",
    "\n",
    "# transform the list of rows in a proper dataframe\n",
    "dataframe = pd.DataFrame(dataframe_rows)\n",
    "dataframe = dataframe[[\"file_id\",\n",
    "                       \"score\",\n",
    "                       \"sentiment\",\n",
    "                       \"split\",\n",
    "                       \"text\"]]\n",
    "dataframe_path = os.path.join(folder, dataset_name + \".pkl\")\n",
    "dataframe.to_pickle(dataframe_path)"
   ]
  },
  {
   "cell_type": "markdown",
   "metadata": {
    "id": "fH_BAvFKF76g"
   },
   "source": [
    "Little analysis of the dataframe"
   ]
  },
  {
   "cell_type": "code",
   "execution_count": 5,
   "metadata": {
    "colab": {
     "base_uri": "https://localhost:8080/",
     "height": 958
    },
    "id": "GCs9IEO5F-Vt",
    "outputId": "a3a5252c-0d67-4d21-b925-ead27d50a820"
   },
   "outputs": [
    {
     "name": "stdout",
     "output_type": "stream",
     "text": [
      "Dataframe structure:\n",
      "      file_id score  sentiment  split  \\\n",
      "0       10589    10          1  train   \n",
      "1        2964     8          1  train   \n",
      "2        7886    10          1  train   \n",
      "3        4267     8          1  train   \n",
      "4        4910     8          1  train   \n",
      "...       ...   ...        ...    ...   \n",
      "49995    1893     2          0   test   \n",
      "49996    4164     1          0   test   \n",
      "49997   12475     2          0   test   \n",
      "49998     957     2          0   test   \n",
      "49999   12416     2          0   test   \n",
      "\n",
      "                                                    text  \n",
      "0      I enjoyed Longstreet, which followed in the st...  \n",
      "1      BASEketball is an extremely funny movie that d...  \n",
      "2      Okay, I am a fan of the Nightmare series and e...  \n",
      "3      During a Kurt Weill celebration in Brooklyn, W...  \n",
      "4      This very good movie crackles with tension. Th...  \n",
      "...                                                  ...  \n",
      "49995  I can't believe they do this kind of filth out...  \n",
      "49996  The film disappointed me for many reasons: fir...  \n",
      "49997  A film by Almodovar- sends a tingle down my sp...  \n",
      "49998  POSSIBLE SPOILERS --<br /><br />I love Dennis ...  \n",
      "49999  Probably the biggest thing about Wild Rebels t...  \n",
      "\n",
      "[50000 rows x 5 columns]\n",
      "\n",
      "Total rows 50000\n",
      "\n",
      "Distribution of scores: \n",
      "1     10122\n",
      "10     9731\n",
      "8      5859\n",
      "4      5331\n",
      "3      4961\n",
      "7      4803\n",
      "9      4607\n",
      "2      4586\n",
      "Name: score, dtype: int64\n",
      "\n",
      "Distribution of sentiment: \n",
      "1    25000\n",
      "0    25000\n",
      "Name: sentiment, dtype: int64\n",
      "\n",
      "Distribution of scores in train: \n",
      "1     5100\n",
      "10    4732\n",
      "8     3009\n",
      "4     2696\n",
      "7     2496\n",
      "3     2420\n",
      "2     2284\n",
      "9     2263\n",
      "Name: score, dtype: int64\n",
      "\n",
      "Distribution of scores in test: \n",
      "1     5022\n",
      "10    4999\n",
      "8     2850\n",
      "4     2635\n",
      "3     2541\n",
      "9     2344\n",
      "7     2307\n",
      "2     2302\n",
      "Name: score, dtype: int64\n",
      "\n"
     ]
    }
   ],
   "source": [
    "dataframe_path = os.path.join(os.getcwd(), \"Datasets\", \"Dataframes\", dataset_name, dataset_name + \".pkl\")\n",
    "df = pd.read_pickle(dataframe_path)\n",
    "\n",
    "print(\"Dataframe structure:\")\n",
    "print(df)\n",
    "print()\n",
    "\n",
    "\n",
    "print(\"Total rows %d\" % (len(df)))\n",
    "print()\n",
    "\n",
    "column = 'score'\n",
    "print(\"Distribution of scores: \")\n",
    "print(df[column].value_counts())\n",
    "print()\n",
    "\n",
    "column = 'sentiment'\n",
    "print(\"Distribution of sentiment: \")\n",
    "print(df[column].value_counts())\n",
    "print()\n",
    "\n",
    "\n",
    "for split in [\"train\", \"test\"]:\n",
    "    df1 = df.loc[df['split'] == split]\n",
    "    column = 'score'\n",
    "    print(\"Distribution of scores in %s: \" % (split))\n",
    "    print(df1[column].value_counts())\n",
    "    print()"
   ]
  },
  {
   "cell_type": "markdown",
   "metadata": {
    "id": "mzoExTTDxqwz"
   },
   "source": [
    "A little game: let's create a word cloud for the two sentiments and see if there is something interesting."
   ]
  },
  {
   "cell_type": "code",
   "execution_count": null,
   "metadata": {
    "id": "m6FNPW5lx4R5"
   },
   "outputs": [],
   "source": [
    "from wordcloud import WordCloud, STOPWORDS\n",
    "import matplotlib.pyplot as plt\n",
    "\n",
    "dataframe_path = os.path.join(os.getcwd(), \"Datasets\", \"Dataframes\", dataset_name, dataset_name + \".pkl\")\n",
    "df = pd.read_pickle(dataframe_path)\n",
    "\n",
    "positive_corpus = df.loc[df['sentiment'] == 1]\n",
    "positive_corpus = positive_corpus[\"text\"].tolist()\n",
    "\n",
    "negative_corpus = df.loc[df['sentiment'] == 0]\n",
    "negative_corpus = negative_corpus[\"text\"].tolist()\n",
    "\n",
    "print(\"Negative:\")\n",
    "wordcloud1 = WordCloud(width = 3000, height = 2000, collocations=False, stopwords = STOPWORDS).generate(\" \".join(negative_corpus))\n",
    "plt.figure(figsize=(10, 10))\n",
    "plt.imshow(wordcloud1) \n",
    "plt.axis(\"off\");\n",
    "plt.show()\n",
    "\n",
    "print(\"Positive:\")\n",
    "wordcloud2 = WordCloud(width = 3000, height = 2000, collocations=False, stopwords = STOPWORDS).generate(\" \".join(positive_corpus))\n",
    "plt.figure(figsize=(10, 10))\n",
    "plt.imshow(wordcloud2) \n",
    "plt.axis(\"off\");\n",
    "plt.show()"
   ]
  },
  {
   "cell_type": "markdown",
   "metadata": {
    "id": "vFhnc_g4y00b"
   },
   "source": [
    "Is there something weird about these words? You can repeat the process multiple times to test your observations.\n",
    "Is there something that will influence our approach? Think about it..."
   ]
  },
  {
   "cell_type": "markdown",
   "metadata": {
    "id": "APy7Yb83H5Is"
   },
   "source": [
    "## Features extraction\n",
    "Let's tackle the Sentiment Analysis task.\n",
    "\n",
    "The scikit-learn library offers *TfidfVectorizer*, a class that performs both tokenization and the creation of the BoW representation (as tf-idf) of a corpus.\n",
    "\n",
    "The class has plenty of options: it can be used also to count n-grams, excluding stop-words, and cutting off most and/or less frequent terms."
   ]
  },
  {
   "cell_type": "code",
   "execution_count": 6,
   "metadata": {
    "id": "ZsuUwTjqH72Q"
   },
   "outputs": [
    {
     "name": "stdout",
     "output_type": "stream",
     "text": [
      "Processing corpus\n",
      "\n",
      "Shape of the matrix: (data points, features)\n",
      "(25000, 74849)\n",
      "\n"
     ]
    }
   ],
   "source": [
    "from sklearn.feature_extraction.text import  TfidfVectorizer\n",
    "\n",
    "dataframe_path = os.path.join(os.getcwd(), \"Datasets\", \"Dataframes\", dataset_name, dataset_name + \".pkl\")\n",
    "df = pd.read_pickle(dataframe_path)\n",
    "\n",
    "# select only the training sentences\n",
    "df_train = df.loc[df['split'] == \"train\"]\n",
    "\n",
    "train_corpus = df_train['text'].tolist()\n",
    "\n",
    "print(\"Processing corpus\\n\")\n",
    "vectorizer =  TfidfVectorizer()\n",
    "# tokenization and creation of Bag of Words representation\n",
    "X_train = vectorizer.fit_transform(train_corpus)\n",
    "\n",
    "print(\"Shape of the matrix: (data points, features)\")\n",
    "print(X_train.shape)\n",
    "print()\n",
    "\n",
    "# targets for the training set\n",
    "Y_train = np.array(df_train['sentiment'].tolist())"
   ]
  },
  {
   "cell_type": "markdown",
   "metadata": {
    "id": "PajnwZslUg-p"
   },
   "source": [
    "Fitting on a corpus, the vectorizer creates an internal vocabulary that will be used to create the BoW representation.\n",
    "The vocabulary is a dictionary that associates to each word a corresponding column in the feature matrix.\n",
    "\n",
    "Do not try to print the whole vocabulary: it is quite large ;)"
   ]
  },
  {
   "cell_type": "code",
   "execution_count": 7,
   "metadata": {
    "id": "7fMTG5wqUfhL"
   },
   "outputs": [
    {
     "name": "stdout",
     "output_type": "stream",
     "text": [
      "74849\n"
     ]
    }
   ],
   "source": [
    "print(len(vectorizer.vocabulary_))"
   ]
  },
  {
   "cell_type": "markdown",
   "metadata": {
    "id": "g2KIWtBzMYef"
   },
   "source": [
    "Since the vocabulary will be quite big, by default X will be a *sparse* matrix (see scipy.sparse for more info)."
   ]
  },
  {
   "cell_type": "code",
   "execution_count": 8,
   "metadata": {
    "id": "CfcEWJaeNLWc"
   },
   "outputs": [
    {
     "name": "stdout",
     "output_type": "stream",
     "text": [
      "  (0, 46916)\t0.02685475785618598\n",
      "  (0, 18609)\t0.16590142726678464\n",
      "  (0, 34155)\t0.13685300039671194\n",
      "  (0, 50310)\t0.06729113546139573\n",
      "  (0, 6334)\t0.02878652198366281\n",
      "  (0, 15056)\t0.044593178443591036\n",
      "  (0, 43838)\t0.0369362788375918\n",
      "  (0, 44241)\t0.04144902720000357\n",
      "  (0, 30670)\t0.05032864595267759\n",
      "  (0, 23226)\t0.11940401518985132\n",
      "  (0, 9072)\t0.11421971735971774\n",
      "  (0, 46957)\t0.0384183740725224\n",
      "  (0, 32435)\t0.06694504015680879\n",
      "  (0, 63422)\t0.040122082198092004\n",
      "  (0, 46061)\t0.08478932270778987\n",
      "  (0, 59848)\t0.10306901856908\n",
      "  (0, 73830)\t0.08682242882343007\n",
      "  (0, 3851)\t0.08735217419291397\n",
      "  (0, 73091)\t0.0437647094704153\n",
      "  (0, 59025)\t0.0634637573202085\n",
      "  (0, 8690)\t0.08763894870202808\n",
      "  (0, 31595)\t0.07249599052817066\n",
      "  (0, 42134)\t0.08604072220809923\n",
      "  (0, 71159)\t0.037753057275815384\n",
      "  (0, 19585)\t0.11888847639888621\n",
      "  :\t:\n",
      "  (24999, 34585)\t0.07858926625912015\n",
      "  (24999, 46916)\t0.017302312804280465\n",
      "  (24999, 6334)\t0.03709386698446057\n",
      "  (24999, 15056)\t0.028731040007883714\n",
      "  (24999, 43838)\t0.04759551761342176\n",
      "  (24999, 30670)\t0.03242635736849599\n",
      "  (24999, 71159)\t0.024324002837866083\n",
      "  (24999, 25450)\t0.07885611334763606\n",
      "  (24999, 1715)\t0.05278008100908573\n",
      "  (24999, 8724)\t0.07246178352167858\n",
      "  (24999, 44205)\t0.05027778891524256\n",
      "  (24999, 73342)\t0.06420243660427878\n",
      "  (24999, 46050)\t0.03579353956530309\n",
      "  (24999, 66322)\t0.08556208071994661\n",
      "  (24999, 46932)\t0.018526064873573455\n",
      "  (24999, 66562)\t0.012986532018003594\n",
      "  (24999, 9881)\t0.09424787795393595\n",
      "  (24999, 34683)\t0.05269301820944547\n",
      "  (24999, 67125)\t0.1130231864557743\n",
      "  (24999, 72196)\t0.05089730705044451\n",
      "  (24999, 3258)\t0.07329825538106038\n",
      "  (24999, 46680)\t0.11188787295931837\n",
      "  (24999, 66339)\t0.1548661987813029\n",
      "  (24999, 33004)\t0.03991158712492118\n",
      "  (24999, 72773)\t0.02591875653172586\n"
     ]
    }
   ],
   "source": [
    "print(X_train)"
   ]
  },
  {
   "cell_type": "markdown",
   "metadata": {
    "id": "kr38ssKTNMeQ"
   },
   "source": [
    "All the scipy tools are compatible with sparse matrices, but if you somehow need the traditional representation it is possible to convert it with the following command. Keep in mind that if the vocabulary and/or the dataset are large, the resulting array will be quite large, possibly occupying all the RAM.\n",
    "\n",
    "\n",
    "```\n",
    "X.toarray()\n",
    "```\n",
    "\n"
   ]
  },
  {
   "cell_type": "markdown",
   "metadata": {
    "id": "evLd40iCWZ8q"
   },
   "source": [
    "It is then possible to parse the test split likewise. Remember to use the transform function and not the fit_transform when working on the test set."
   ]
  },
  {
   "cell_type": "code",
   "execution_count": 9,
   "metadata": {
    "id": "jNz23Ep2Y3iB"
   },
   "outputs": [],
   "source": [
    "# select only the test sentences\n",
    "df_test = df.loc[df['split'] == \"test\"]\n",
    "test_corpus = df_test['text'].tolist()\n",
    "X_test = vectorizer.transform(test_corpus)\n",
    "Y_test = np.array(df_test['sentiment'].tolist())"
   ]
  },
  {
   "cell_type": "markdown",
   "metadata": {
    "id": "Xe5NPH5Gb5FI"
   },
   "source": [
    "## Training and Testing\n",
    "It is now possible to choose one of the many models available in the sci-kit learn library, train it and test it."
   ]
  },
  {
   "cell_type": "code",
   "execution_count": 10,
   "metadata": {
    "id": "lTnd0-X2b3ke"
   },
   "outputs": [],
   "source": [
    "# training and testing\n",
    "from sklearn.svm import LinearSVC\n",
    "\n",
    "classifier = LinearSVC()\n",
    "\n",
    "classifier.fit(X_train, Y_train)\n",
    "\n",
    "Y_pred_train = classifier.predict(X_train)\n",
    "Y_pred_test = classifier.predict(X_test)"
   ]
  },
  {
   "cell_type": "code",
   "execution_count": 11,
   "metadata": {
    "id": "vG4oUWA0k3yS"
   },
   "outputs": [
    {
     "name": "stdout",
     "output_type": "stream",
     "text": [
      "Train\n",
      "              precision    recall  f1-score   support\n",
      "\n",
      "         neg       0.99      0.99      0.99     12500\n",
      "         pos       0.99      0.99      0.99     12500\n",
      "\n",
      "    accuracy                           0.99     25000\n",
      "   macro avg       0.99      0.99      0.99     25000\n",
      "weighted avg       0.99      0.99      0.99     25000\n",
      "\n",
      "Test\n",
      "              precision    recall  f1-score   support\n",
      "\n",
      "         neg       0.87      0.89      0.88     12500\n",
      "         pos       0.89      0.87      0.88     12500\n",
      "\n",
      "    accuracy                           0.88     25000\n",
      "   macro avg       0.88      0.88      0.88     25000\n",
      "weighted avg       0.88      0.88      0.88     25000\n",
      "\n"
     ]
    }
   ],
   "source": [
    "# print results\n",
    "from sklearn.metrics import classification_report\n",
    "\n",
    "report_train = classification_report(Y_train, Y_pred_train, target_names=[\"neg\", \"pos\"])\n",
    "report_test = classification_report(Y_test, Y_pred_test, target_names=[\"neg\", \"pos\"])\n",
    "print(\"Train\")\n",
    "print(report_train)\n",
    "print(\"Test\")\n",
    "print(report_test)"
   ]
  },
  {
   "cell_type": "code",
   "execution_count": 12,
   "metadata": {
    "id": "OgtGYwjncFpn"
   },
   "outputs": [
    {
     "data": {
      "text/plain": [
       "<sklearn.metrics._plot.confusion_matrix.ConfusionMatrixDisplay at 0x7fbe09ddb5f8>"
      ]
     },
     "execution_count": 12,
     "metadata": {},
     "output_type": "execute_result"
    },
    {
     "data": {
      "image/png": "[encoded data removed]",
      "text/plain": [
       "<Figure size 432x288 with 1 Axes>"
      ]
     },
     "metadata": {
      "needs_background": "light"
     },
     "output_type": "display_data"
    },
    {
     "data": {
      "image/png": "[encoded data removed]",
      "text/plain": [
       "<Figure size 432x288 with 2 Axes>"
      ]
     },
     "metadata": {
      "needs_background": "light"
     },
     "output_type": "display_data"
    }
   ],
   "source": [
    "# more advanced tools\n",
    "# plot precision/recall curve and confusion matrix\n",
    "from sklearn.metrics import precision_recall_curve, plot_precision_recall_curve, plot_confusion_matrix\n",
    "import matplotlib.pyplot as plt\n",
    "\n",
    "disp = plot_precision_recall_curve(classifier, X_test, Y_test)\n",
    "plot_confusion_matrix(classifier, X_test, Y_test, normalize='true', cmap=plt.cm.Blues, values_format=\".2f\")"
   ]
  },
  {
   "cell_type": "markdown",
   "metadata": {
    "id": "HlY-i4Yug6Dx"
   },
   "source": [
    "# Now...do it yourself!\n",
    "\n",
    "Now, rather then sentiment classification, try to address the task of score prediction on the same dataset: based on the text of the reviews, try to predict the score assigned by the reviewer."
   ]
  },
  {
   "cell_type": "markdown",
   "metadata": {
    "id": "lMaK5y9OiTj4"
   },
   "source": [
    "## First part\n",
    "As first part, experiment with the options of the vectorizer to improve the classification using logistic regression. You are required to look at the documentation of the functions.\n",
    "You can also use or add other pre-processing steps to the text if you feel like it, you are not obliged to use TfidfVectorizer.\n",
    "\n",
    "Obviously, you will need to use the variable names declared in the first block, so to make our evaluation blocks work.\n",
    "\n",
    "\n",
    "Some notes:\n",
    "* Between the problem as regression and the problem as multi-class classification, the priority is the problem as regression. Indeed, the classification perspective does penalize each error in the same way, while the regression perspective considers the difference between the predicted value and the real value (prediction 8 for real value 2 is way worse than prediction 3 for value 2). The classification perspective is a tool to understand the problem better and experiment.\n",
    "* In the multi-class classification, the most important measures are F1s (especially macro and micro), since it is a complex measure that considers more aspects than the simple accuracy. \n",
    "* It is not unusual to not reach a \"satisfying\" score, especially in the first step: our code makes use of a pretty simple classifier. Our purpose is to show you both the impact of the pre-processing and the choice of the classifier.\n",
    "* There are no threshold values that you have to reach with the measurements to obtain a certain score. The score will be assigned based on the correctness of the methodology and the extent to which different solutions have been explored and discussed.\n",
    "* In each code section, you have to deliver a single approach, but if you have observations or interesting alternative approaches, you can mention them in the .txt file"
   ]
  },
  {
   "cell_type": "code",
   "execution_count": 21,
   "metadata": {
    "id": "xtraxB8Chf9X"
   },
   "outputs": [],
   "source": [
    "# write your code here\n",
    "X_train = vectorizer.fit_transform(train_corpus)\n",
    "Y_train = np.array(df_train['score'].astype('int').tolist())\n",
    "X_test = vectorizer.transform(test_corpus)\n",
    "Y_test = np.array(df_test['score'].astype('int').tolist())"
   ]
  },
  {
   "cell_type": "markdown",
   "metadata": {
    "id": "s5_WXt_P6MFN"
   },
   "source": [
    "Now run the code below to train your classifier:"
   ]
  },
  {
   "cell_type": "code",
   "execution_count": 22,
   "metadata": {
    "id": "BIN03hrxizjj"
   },
   "outputs": [],
   "source": [
    "####################################################################\n",
    "###################### DO NOT MODIFY THIS PART #####################\n",
    "from sklearn.linear_model import LogisticRegression\n",
    "\n",
    "classifier = LogisticRegression(max_iter=1000)\n",
    "\n",
    "classifier.fit(X_train, Y_train)\n",
    "\n",
    "Y_pred_test = classifier.predict(X_test)\n",
    "Y_pred_test_class = np.around(Y_pred_test)\n",
    "\n",
    "####################################################################"
   ]
  },
  {
   "cell_type": "markdown",
   "metadata": {
    "id": "7WgN0DZ0ofDf"
   },
   "source": [
    "Now test your results running the code below:"
   ]
  },
  {
   "cell_type": "code",
   "execution_count": 23,
   "metadata": {
    "id": "Q_S4aZW4k08D"
   },
   "outputs": [
    {
     "name": "stdout",
     "output_type": "stream",
     "text": [
      "R2 score 0.484529\n",
      "MAE 1.468120\n",
      "MSE 6.281480\n",
      "\n",
      "              precision    recall  f1-score   support\n",
      "\n",
      "           1       0.53      0.84      0.65      5022\n",
      "           2       0.21      0.05      0.08      2302\n",
      "           3       0.27      0.12      0.17      2541\n",
      "           4       0.32      0.34      0.33      2635\n",
      "           7       0.32      0.24      0.27      2307\n",
      "           8       0.27      0.25      0.26      2850\n",
      "           9       0.23      0.04      0.07      2344\n",
      "          10       0.49      0.77      0.59      4999\n",
      "\n",
      "    accuracy                           0.43     25000\n",
      "   macro avg       0.33      0.33      0.30     25000\n",
      "weighted avg       0.37      0.43      0.37     25000\n",
      "\n",
      "[[4201  125  142  236   33   52    6  227]\n",
      " [1415  120  202  327   45   36    8  149]\n",
      " [1028  143  303  638  115   93   12  209]\n",
      " [ 715  110  278  891  221  181   20  219]\n",
      " [ 128   24   72  291  552  566   58  616]\n",
      " [ 141   11   47  173  430  699   80 1269]\n",
      " [ 113    8   28  102  155  470   89 1379]\n",
      " [ 255   18   39   89  171  475  119 3833]]\n",
      "\n"
     ]
    },
    {
     "data": {
      "text/plain": [
       "<sklearn.metrics._plot.confusion_matrix.ConfusionMatrixDisplay at 0x7fbe0699e860>"
      ]
     },
     "execution_count": 23,
     "metadata": {},
     "output_type": "execute_result"
    },
    {
     "data": {
      "image/png": "[encoded data removed]",
      "text/plain": [
       "<Figure size 432x288 with 2 Axes>"
      ]
     },
     "metadata": {
      "needs_background": "light"
     },
     "output_type": "display_data"
    }
   ],
   "source": [
    "####################################################################\n",
    "###################### DO NOT MODIFY THIS PART #####################\n",
    "from sklearn.metrics import r2_score, mean_absolute_error, mean_squared_error\n",
    "from sklearn.metrics import classification_report, confusion_matrix, plot_confusion_matrix\n",
    "import matplotlib.pyplot as plt\n",
    "\n",
    "\n",
    "# task as regression\n",
    "\n",
    "print(\"R2 score %f\" % (r2_score(Y_test, Y_pred_test)))\n",
    "print(\"MAE %f\" % (mean_absolute_error(Y_test, Y_pred_test)))\n",
    "print(\"MSE %f\" % (mean_squared_error(Y_test, Y_pred_test)))\n",
    "print()\n",
    "\n",
    "# task as multiclass classification\n",
    "\n",
    "report = classification_report(Y_test.astype('int'), Y_pred_test_class.astype('int'), labels=[1,2,3,4,7,8,9,10])\n",
    "print(report)\n",
    "\n",
    "confusion_matrix = confusion_matrix(Y_test.astype('int'), Y_pred_test_class.astype('int'), labels=[1,2,3,4,7,8,9,10])\n",
    "print(confusion_matrix)\n",
    "print()\n",
    "\n",
    "# fancy confusion matrix\n",
    "plot_confusion_matrix(classifier, X_test, Y_test, normalize='true', cmap=plt.cm.Blues, values_format=\".2f\")\n",
    "\n",
    "####################################################################"
   ]
  },
  {
   "cell_type": "code",
   "execution_count": 24,
   "metadata": {},
   "outputs": [
    {
     "data": {
      "text/plain": [
       "(0.42752, 0.99996)"
      ]
     },
     "execution_count": 24,
     "metadata": {},
     "output_type": "execute_result"
    }
   ],
   "source": [
    "from sklearn.metrics import accuracy_score\n",
    "\n",
    "accuracy_score(Y_test, Y_pred_test_class), accuracy_score(Y_train, Y_pred_train)"
   ]
  },
  {
   "cell_type": "markdown",
   "metadata": {
    "id": "MKKVP4aPoogk"
   },
   "source": [
    "## Second part\n",
    "Now experiment both with the processing (the vectorizer) and the classifier to obtain the best result."
   ]
  },
  {
   "cell_type": "markdown",
   "metadata": {},
   "source": [
    "### Feature Importance"
   ]
  },
  {
   "cell_type": "code",
   "execution_count": 25,
   "metadata": {},
   "outputs": [],
   "source": [
    "import matplotlib.pyplot as plt\n",
    "from sklearn.datasets import make_classification\n",
    "from sklearn.ensemble import ExtraTreesClassifier\n",
    "\n",
    "\n",
    "vectorizer =TfidfVectorizer(max_features = 1000)\n",
    "X_train = vectorizer.fit_transform(train_corpus)\n",
    "Y_train = np.array(df_train['score'].astype('int').tolist())\n",
    "#X_test = vectorizer.fit_transform(test_corpus)\n",
    "#Y_test =  np.array(df_train['score'].astype('int').tolist())\n",
    "\n",
    "\n",
    "# Build a forest and compute the impurity-based feature importances\n",
    "forest = ExtraTreesClassifier(n_estimators=500)\n",
    "\n",
    "forest.fit(X_train, Y_train)\n",
    "importances = forest.feature_importances_\n",
    "std = np.std([tree.feature_importances_ for tree in forest.estimators_],\n",
    "             axis=0)\n",
    "indices = np.argsort(importances)[::-1]"
   ]
  },
  {
   "cell_type": "code",
   "execution_count": 31,
   "metadata": {
    "id": "fXhwZl4Qoyi5"
   },
   "outputs": [],
   "source": [
    "# write your code here\n",
    "X_train = vectorizer.fit_transform(train_corpus).toarray()[:, indices[:8]] # first 8 most important features\n",
    "Y_train = np.array(df_train['score'].astype('int').tolist())\n",
    "X_test = vectorizer.fit_transform(test_corpus).toarray()[:, indices[:8]]\n",
    "Y_test =  np.array(df_train['score'].astype('int').tolist())\n",
    "classifier = LogisticRegression(max_iter=1000)"
   ]
  },
  {
   "cell_type": "markdown",
   "metadata": {},
   "source": [
    "### PCA"
   ]
  },
  {
   "cell_type": "code",
   "execution_count": 35,
   "metadata": {},
   "outputs": [],
   "source": [
    "from sklearn import decomposition"
   ]
  },
  {
   "cell_type": "code",
   "execution_count": 36,
   "metadata": {},
   "outputs": [],
   "source": [
    "X_train = vectorizer.fit_transform(train_corpus)\n",
    "Y_train = np.array(df_train['score'].astype('int').tolist())\n",
    "X_test = vectorizer.fit_transform(test_corpus)\n",
    "Y_test =  np.array(df_train['score'].astype('int').tolist())"
   ]
  },
  {
   "cell_type": "code",
   "execution_count": 39,
   "metadata": {},
   "outputs": [],
   "source": [
    "pca = decomposition.PCA(n_components=3)\n",
    "pca.fit(X_train.toarray())\n",
    "X_train = pca.transform(X_train.toarray())\n",
    "classifier = LogisticRegression(solver='lbfgs')"
   ]
  },
  {
   "cell_type": "markdown",
   "metadata": {
    "id": "N6I29DPl6dRr"
   },
   "source": [
    "Run the code below to train your classifier, then test it with the block that follows."
   ]
  },
  {
   "cell_type": "code",
   "execution_count": 40,
   "metadata": {
    "id": "WCebPdgYhlCf"
   },
   "outputs": [],
   "source": [
    "####################################################################\n",
    "###################### DO NOT MODIFY THIS PART #####################\n",
    "classifier.fit(X_train, Y_train)\n",
    "\n",
    "Y_pred_train = classifier.predict(X_train)\n",
    "Y_pred_test = classifier.predict(X_test)\n",
    "Y_pred_test_class = np.around(Y_pred_test)\n",
    "####################################################################"
   ]
  },
  {
   "cell_type": "code",
   "execution_count": 41,
   "metadata": {
    "id": "cE8mniZso92A"
   },
   "outputs": [
    {
     "name": "stdout",
     "output_type": "stream",
     "text": [
      "R2 score -1.057336\n",
      "MAE 3.705880\n",
      "MSE 24.720920\n",
      "\n",
      "              precision    recall  f1-score   support\n",
      "\n",
      "           1       0.25      0.57      0.35      5100\n",
      "           2       0.00      0.00      0.00      2284\n",
      "           3       0.00      0.00      0.00      2420\n",
      "           4       0.10      0.01      0.02      2696\n",
      "           7       0.00      0.00      0.00      2496\n",
      "           8       0.17      0.18      0.18      3009\n",
      "           9       0.00      0.00      0.00      2263\n",
      "          10       0.21      0.45      0.29      4732\n",
      "\n",
      "    accuracy                           0.22     25000\n",
      "   macro avg       0.09      0.15      0.10     25000\n",
      "weighted avg       0.12      0.22      0.15     25000\n",
      "\n",
      "[[2915    0    0   44    0  380    0 1761]\n",
      " [1367    0    0   28    0  178    0  711]\n",
      " [1389    0    0   24    0  199    0  808]\n",
      " [1524    0    0   22    0  206    0  944]\n",
      " [ 882    0    0   22    0  439    0 1153]\n",
      " [1092    0    0   27    0  550    0 1340]\n",
      " [ 817    0    0   20    0  393    0 1033]\n",
      " [1736    0    0   44    0  838    0 2114]]\n",
      "\n"
     ]
    },
    {
     "name": "stderr",
     "output_type": "stream",
     "text": [
      "/home/pptr/.conda/envs/fastai/lib/python3.6/site-packages/sklearn/metrics/_classification.py:1221: UndefinedMetricWarning: Precision and F-score are ill-defined and being set to 0.0 in labels with no predicted samples. Use `zero_division` parameter to control this behavior.\n",
      "  _warn_prf(average, modifier, msg_start, len(result))\n"
     ]
    },
    {
     "data": {
      "text/plain": [
       "<sklearn.metrics._plot.confusion_matrix.ConfusionMatrixDisplay at 0x7fbe0712f5f8>"
      ]
     },
     "execution_count": 41,
     "metadata": {},
     "output_type": "execute_result"
    },
    {
     "data": {
      "image/png": "[encoded data removed]",
      "text/plain": [
       "<Figure size 432x288 with 2 Axes>"
      ]
     },
     "metadata": {
      "needs_background": "light"
     },
     "output_type": "display_data"
    }
   ],
   "source": [
    "####################################################################\n",
    "###################### DO NOT MODIFY THIS PART #####################\n",
    "from sklearn.metrics import r2_score, mean_absolute_error, mean_squared_error\n",
    "from sklearn.metrics import classification_report, confusion_matrix, plot_confusion_matrix\n",
    "import matplotlib.pyplot as plt\n",
    "\n",
    "\n",
    "# task as regression\n",
    "\n",
    "print(\"R2 score %f\" % (r2_score(Y_test, Y_pred_test)))\n",
    "print(\"MAE %f\" % (mean_absolute_error(Y_test, Y_pred_test)))\n",
    "print(\"MSE %f\" % (mean_squared_error(Y_test, Y_pred_test)))\n",
    "print()\n",
    "\n",
    "# task as multiclass classification\n",
    "\n",
    "report = classification_report(Y_test.astype('int'), Y_pred_test_class.astype('int'), labels=[1,2,3,4,7,8,9,10])\n",
    "print(report)\n",
    "\n",
    "confusion_matrix = confusion_matrix(Y_test.astype('int'), Y_pred_test_class.astype('int'), labels=[1,2,3,4,7,8,9,10])\n",
    "print(confusion_matrix)\n",
    "print()\n",
    "\n",
    "# fancy confusion matrix\n",
    "plot_confusion_matrix(classifier, X_test, Y_test, normalize='true', cmap=plt.cm.Blues, values_format=\".2f\")\n",
    "####################################################################"
   ]
  },
  {
   "cell_type": "code",
   "execution_count": 42,
   "metadata": {},
   "outputs": [
    {
     "data": {
      "text/plain": [
       "(0.22404, 0.25752)"
      ]
     },
     "execution_count": 42,
     "metadata": {},
     "output_type": "execute_result"
    }
   ],
   "source": [
    "accuracy_score(Y_test, Y_pred_test_class), accuracy_score(Y_train, Y_pred_train)"
   ]
  },
  {
   "cell_type": "markdown",
   "metadata": {
    "id": "UrTg8j0UzTWD"
   },
   "source": [
    "Credits:\n",
    "Andrea Galassi,\n",
    "Federico Ruggeri,\n",
    "Paolo Torroni\n",
    "(Oct 2020)"
   ]
  }
 ],
 "metadata": {
  "colab": {
   "collapsed_sections": [],
   "name": "Assignment1.ipynb",
   "provenance": [],
   "toc_visible": true
  },
  "kernelspec": {
   "display_name": "Python 3",
   "language": "python",
   "name": "python3"
  },
  "language_info": {
   "codemirror_mode": {
    "name": "ipython",
    "version": 3
   },
   "file_extension": ".py",
   "mimetype": "text/x-python",
   "name": "python",
   "nbconvert_exporter": "python",
   "pygments_lexer": "ipython3",
   "version": "3.6.10"
  }
 },
 "nbformat": 4,
 "nbformat_minor": 1
}
