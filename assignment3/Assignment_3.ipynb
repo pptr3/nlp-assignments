{
 "cells": [
  {
   "cell_type": "markdown",
   "metadata": {},
   "source": [
    "# Assignment 3 : Sequence labelling with RNNs\n",
    "In this assignement we will ask you to perform POS tagging.\n",
    "\n",
    "You are asked to follow these steps:\n",
    "*   Download the corpora and split it in training and test sets, structuring a dataframe.\n",
    "*   Embed the words using GloVe embeddings\n",
    "*   Create a baseline model, using a simple neural architecture\n",
    "*   Experiment doing small modifications to the model\n",
    "*   Evaluate your best model\n",
    "*   Analyze the errors of your model\n",
    "\n",
    "**Corpora**:\n",
    "Ignore the numeric value in the third column, use only the words/symbols and its label.\n",
    "https://raw.githubusercontent.com/nltk/nltk_data/gh-pages/packages/corpora/dependency_treebank.zip \n",
    "\n",
    "**Splits**: documents 1-100 are the train set, 101-150 validation set, 151-199 test set.\n",
    "\n",
    "**Baseline**: two layers architecture: a Bidirectional LSTM and a Dense/Fully-Connected layer on top.\n",
    "**Modifications**: experiment using a GRU instead of the LSTM, adding an additional LSTM layer, and using a CRF in addition to the LSTM. Each of this change must be done by itself (don't mix these modifications).<br>\n",
    "1) BiLSTM +  FC <br>\n",
    "2) BiGRU + FC <br>\n",
    "3) BiLSTMx2 + FC <br>\n",
    "4) BiLSTM +  FC + CRF <br>\n",
    "**Training and Experiments**: all the experiments must involve only the training and validation sets.\n",
    "\n",
    "**Evaluation**: in the end, only the best model of your choice must be evaluated on the test set. The main metric must be F1-Macro computed between the various part of speech (without considering punctuation classes).\n",
    "\n",
    "**Error Analysis** (optional) : analyze the errors done by your model, try to understand which may be the causes and think about how to improve it.\n",
    "\n",
    "**Report**: You are asked to deliver a small report of about 4-5 lines in the .txt file that sums up your findings."
   ]
  },
  {
   "cell_type": "code",
   "execution_count": 1,
   "metadata": {},
   "outputs": [],
   "source": [
    "import torch\n",
    "import torch.nn as nn\n",
    "import torch.optim as optim\n",
    "import torchtext\n",
    "\n",
    "from torchtext import data\n",
    "from torchtext import datasets\n",
    "\n",
    "import spacy\n",
    "import numpy as np\n",
    "\n",
    "import time\n",
    "import random\n",
    "import os\n",
    "import matplotlib.pyplot as plt"
   ]
  },
  {
   "cell_type": "markdown",
   "metadata": {},
   "source": [
    "### Read Data"
   ]
  },
  {
   "cell_type": "code",
   "execution_count": 2,
   "metadata": {},
   "outputs": [],
   "source": [
    "def read_data(base_dir, datafields):\n",
    "    train = []\n",
    "    val = []\n",
    "    test = []\n",
    "    for filename in sorted(os.listdir(base_dir)):\n",
    "        if str(filename) < 'wsj_0100.dp': # get train data\n",
    "            with open(base_dir + filename, encoding='utf-8') as f:\n",
    "                words = []\n",
    "                labels = []\n",
    "                for line in f:\n",
    "                    line = line.strip()\n",
    "                    if line: # if is not empty string\n",
    "                        columns = line.split()\n",
    "                        words.append(columns[0]) # take the word\n",
    "                        labels.append(columns[-2]) # take the POS tag\n",
    "                train.append(torchtext.data.Example.fromlist([words, labels], datafields))\n",
    "        elif str(filename) < 'wsj_0150.dp': # get val data\n",
    "            with open(base_dir + filename, encoding='utf-8') as f:\n",
    "                words = []\n",
    "                labels = []\n",
    "                for line in f:\n",
    "                    line = line.strip()\n",
    "                    if line: # if is not empty string\n",
    "                        columns = line.split()\n",
    "                        words.append(columns[0]) # take the word\n",
    "                        labels.append(columns[-2]) # take the POS tag\n",
    "                val.append(torchtext.data.Example.fromlist([words, labels], datafields))\n",
    "        else: # get test data\n",
    "            with open(base_dir + filename, encoding='utf-8') as f:\n",
    "                words = []\n",
    "                labels = []\n",
    "                for line in f:\n",
    "                    line = line.strip()\n",
    "                    if line: # if is not empty string\n",
    "                        columns = line.split()\n",
    "                        words.append(columns[0]) # take the word\n",
    "                        labels.append(columns[-2]) # take the POS tag\n",
    "                test.append(torchtext.data.Example.fromlist([words, labels], datafields))\n",
    "    return torchtext.data.Dataset(train, datafields), torchtext.data.Dataset(val, datafields), torchtext.data.Dataset(test, datafields)"
   ]
  },
  {
   "cell_type": "markdown",
   "metadata": {},
   "source": [
    "### Train and evaluate utility functions"
   ]
  },
  {
   "cell_type": "code",
   "execution_count": 3,
   "metadata": {},
   "outputs": [],
   "source": [
    "def categorical_accuracy(preds, y, tag_pad_idx):\n",
    "    max_preds = preds.argmax(dim = 1, keepdim = True) # get the index of the max probability\n",
    "    non_pad_elements = (y != tag_pad_idx).nonzero()\n",
    "    correct = max_preds[non_pad_elements].squeeze(1).eq(y[non_pad_elements])\n",
    "    return correct.sum() / torch.FloatTensor([y[non_pad_elements].shape[0]])\n",
    "\n",
    "def train(model, iterator, optimizer, criterion, tag_pad_idx):\n",
    "    \n",
    "    epoch_loss = 0\n",
    "    epoch_acc = 0\n",
    "    \n",
    "    model.train()\n",
    "    \n",
    "    for batch in iterator:\n",
    "        \n",
    "        text = batch.text\n",
    "        tags = batch.label\n",
    "        \n",
    "        optimizer.zero_grad()\n",
    "        predictions = model(text)\n",
    "        predictions = predictions.view(-1, predictions.shape[-1])\n",
    "        tags = tags.view(-1)\n",
    "        \n",
    "        loss = criterion(predictions, tags)\n",
    "                \n",
    "        acc = categorical_accuracy(predictions, tags, tag_pad_idx)\n",
    "        \n",
    "        loss.backward()\n",
    "        \n",
    "        optimizer.step()\n",
    "        \n",
    "        epoch_loss += loss.item()\n",
    "        epoch_acc += acc.item()\n",
    "        \n",
    "    return epoch_loss / len(iterator), epoch_acc / len(iterator)\n",
    "\n",
    "def evaluate(model, iterator, criterion, tag_pad_idx):\n",
    "    \n",
    "    epoch_loss = 0\n",
    "    epoch_acc = 0\n",
    "    model.eval()\n",
    "    \n",
    "    with torch.no_grad():\n",
    "    \n",
    "        for batch in iterator:\n",
    "\n",
    "            text = batch.text\n",
    "            tags = batch.label\n",
    "            \n",
    "            predictions = model(text)\n",
    "            \n",
    "            predictions = predictions.view(-1, predictions.shape[-1])\n",
    "            tags = tags.view(-1)\n",
    "            \n",
    "            loss = criterion(predictions, tags)\n",
    "            \n",
    "            acc = categorical_accuracy(predictions, tags, tag_pad_idx)\n",
    "\n",
    "            epoch_loss += loss.item()\n",
    "            epoch_acc += acc.item()\n",
    "        \n",
    "    return epoch_loss / len(iterator), epoch_acc / len(iterator)\n",
    "\n",
    "def epoch_time(start_time, end_time):\n",
    "    elapsed_time = end_time - start_time\n",
    "    elapsed_mins = int(elapsed_time / 60)\n",
    "    elapsed_secs = int(elapsed_time - (elapsed_mins * 60))\n",
    "    return elapsed_mins, elapsed_secs"
   ]
  },
  {
   "cell_type": "code",
   "execution_count": 4,
   "metadata": {},
   "outputs": [],
   "source": [
    "text = data.Field(lower = True)\n",
    "label = data.Field(unk_token = None)\n",
    "fields = [('text', text), ('label', label)]\n",
    "base_dir = 'dependency_treebank/'\n",
    "train_data, val_data, test_data = read_data(base_dir, fields)"
   ]
  },
  {
   "cell_type": "code",
   "execution_count": 5,
   "metadata": {},
   "outputs": [],
   "source": [
    "MIN_FREQ = 2\n",
    "\n",
    "text.build_vocab(train_data, \n",
    "                 min_freq = MIN_FREQ,\n",
    "                 vectors = \"glove.6B.100d\",\n",
    "                 unk_init = torch.Tensor.normal_)\n",
    "\n",
    "label.build_vocab(train_data)"
   ]
  },
  {
   "cell_type": "markdown",
   "metadata": {},
   "source": [
    "### Create train, val and test iterator"
   ]
  },
  {
   "cell_type": "code",
   "execution_count": 6,
   "metadata": {},
   "outputs": [],
   "source": [
    "BATCH_SIZE = 4\n",
    "device = torch.device('cuda' if torch.cuda.is_available() else 'cpu')\n",
    "\n",
    "train_iterator, valid_iterator, test_iterator = data.BucketIterator.splits(\n",
    "    (train_data, val_data, test_data),\n",
    "    batch_size = BATCH_SIZE,\n",
    "    device = device,\n",
    "    sort_key = lambda x: len(x.text),\n",
    "    sort_within_batch=False,\n",
    "    repeat=False,\n",
    "    shuffle=True)"
   ]
  },
  {
   "cell_type": "markdown",
   "metadata": {},
   "source": [
    "## BiLSTM + FC model"
   ]
  },
  {
   "cell_type": "code",
   "execution_count": 13,
   "metadata": {},
   "outputs": [],
   "source": [
    "class BiLSTM(nn.Module):\n",
    "    def __init__(self, \n",
    "                 input_dim, \n",
    "                 embedding_dim, \n",
    "                 hidden_dim, \n",
    "                 output_dim, \n",
    "                 dropout, \n",
    "                 pad_idx):\n",
    "        \n",
    "        super().__init__()\n",
    "        \n",
    "        self.embedding = nn.Embedding(input_dim, embedding_dim, padding_idx = pad_idx)\n",
    "        self.embedding.weight.requires_grad = False\n",
    "        self.lstm = nn.LSTM(embedding_dim, \n",
    "                            hidden_dim, \n",
    "                            num_layers = 1, \n",
    "                            bidirectional = True)\n",
    "        \n",
    "        self.fc = nn.Linear(hidden_dim * 2, output_dim)\n",
    "        \n",
    "        self.dropout = nn.Dropout(dropout)\n",
    "        \n",
    "    def forward(self, text):\n",
    "        # pass text through embedding layer\n",
    "        embedded = self.dropout(self.embedding(text))\n",
    "        # pass embeddings into LSTM\n",
    "        outputs, (hidden, cell) = self.lstm(embedded)\n",
    "        predictions = self.fc(self.dropout(outputs))\n",
    "        return predictions\n",
    "\n",
    "INPUT_DIM = len(text.vocab)\n",
    "EMBEDDING_DIM = 100\n",
    "HIDDEN_DIM = 128\n",
    "OUTPUT_DIM = len(label.vocab)\n",
    "DROPOUT = 0.25\n",
    "PAD_IDX = text.vocab.stoi[text.pad_token]\n",
    "TAG_PAD_IDX = label.vocab.stoi[label.pad_token]\n",
    "\n",
    "model_BiLSTM = BiLSTM(INPUT_DIM, \n",
    "                        EMBEDDING_DIM, \n",
    "                        HIDDEN_DIM, \n",
    "                        OUTPUT_DIM, \n",
    "                        DROPOUT, \n",
    "                        PAD_IDX)\n",
    "\n",
    "# Initialization\n",
    "pretrained_embeddings = text.vocab.vectors\n",
    "model_BiLSTM.embedding.weight.data.copy_(pretrained_embeddings)\n",
    "model_BiLSTM.embedding.weight.data[PAD_IDX] = torch.zeros(EMBEDDING_DIM)\n",
    "optimizer = optim.Adam(model_BiLSTM.parameters())\n",
    "TAG_PAD_IDX = label.vocab.stoi[label.pad_token]\n",
    "criterion = nn.CrossEntropyLoss(ignore_index = TAG_PAD_IDX)\n",
    "model_BiLSTM = model_BiLSTM.to(device)\n",
    "criterion = criterion.to(device)"
   ]
  },
  {
   "cell_type": "markdown",
   "metadata": {},
   "source": [
    "### Train"
   ]
  },
  {
   "cell_type": "code",
   "execution_count": 21,
   "metadata": {},
   "outputs": [
    {
     "name": "stdout",
     "output_type": "stream",
     "text": [
      "Epoch: 01 | Epoch Time: 0m 54s\n",
      "\tTrain Loss: 3.840\n",
      "\t Val. Loss: 3.840\n"
     ]
    }
   ],
   "source": [
    "N_EPOCHS = 1\n",
    "\n",
    "best_valid_loss = float('inf')\n",
    "train_loss_accum1, val_loss_accum1 = [], []\n",
    "for epoch in range(N_EPOCHS):\n",
    "\n",
    "    start_time = time.time()\n",
    "    \n",
    "    train_loss, _ = train(model_BiLSTM, train_iterator, optimizer, criterion, TAG_PAD_IDX)\n",
    "    valid_loss, _ = evaluate(model_BiLSTM, valid_iterator, criterion, TAG_PAD_IDX)\n",
    "    \n",
    "    train_loss_accum1.append(train_loss)\n",
    "    val_loss_accum1.append(valid_loss)\n",
    "    \n",
    "    end_time = time.time()\n",
    "    epoch_mins, epoch_secs = epoch_time(start_time, end_time)\n",
    "    \n",
    "    if valid_loss < best_valid_loss:\n",
    "        best_valid_loss = valid_loss\n",
    "        torch.save(model_BiLSTM.state_dict(), 'BiLSTM.pt')\n",
    "    \n",
    "    print(f'Epoch: {epoch+1:02} | Epoch Time: {epoch_mins}m {epoch_secs}s')\n",
    "    print(f'\\tTrain Loss: {train_loss:.3f}')\n",
    "    print(f'\\t Val. Loss: {valid_loss:.3f}')"
   ]
  },
  {
   "cell_type": "markdown",
   "metadata": {},
   "source": [
    "### Plot loss for train and val"
   ]
  },
  {
   "cell_type": "code",
   "execution_count": 15,
   "metadata": {},
   "outputs": [
    {
     "data": {
      "image/png": "[encoded data removed]",
      "text/plain": [
       "<Figure size 432x288 with 1 Axes>"
      ]
     },
     "metadata": {
      "needs_background": "light"
     },
     "output_type": "display_data"
    }
   ],
   "source": [
    "plt.plot(train_loss_accum1)\n",
    "plt.plot(val_loss_accum1)\n",
    "plt.title('model loss')\n",
    "plt.ylabel('loss')\n",
    "plt.xlabel('epochs')\n",
    "plt.xticks(range(N_EPOCHS))\n",
    "plt.legend(['train_loss', 'val_loss'], loc='upper left')\n",
    "plt.show()"
   ]
  },
  {
   "cell_type": "markdown",
   "metadata": {},
   "source": [
    "## BiGRU + FC model"
   ]
  },
  {
   "cell_type": "code",
   "execution_count": 24,
   "metadata": {},
   "outputs": [],
   "source": [
    "class BiGRU(nn.Module):\n",
    "    def __init__(self, \n",
    "                 input_dim, \n",
    "                 embedding_dim, \n",
    "                 hidden_dim, \n",
    "                 output_dim, \n",
    "                 dropout,\n",
    "                 pad_idx):\n",
    "        \n",
    "        super().__init__()\n",
    "        \n",
    "        self.embedding = nn.Embedding(input_dim, embedding_dim, padding_idx = pad_idx)\n",
    "        self.embedding.weight.requires_grad = False\n",
    "        self.gru = nn.GRU(input_size=embedding_dim, hidden_size=hidden_dim, \n",
    "                          bidirectional=True, num_layers=1)\n",
    "        self.fc = nn.Linear(hidden_dim * 2, output_dim)\n",
    "        \n",
    "        self.dropout = nn.Dropout(dropout)\n",
    "        \n",
    "    def forward(self, text):\n",
    "        # pass text through embedding layer\n",
    "        embedded = self.dropout(self.embedding(text))\n",
    "        # pass embeddings into LSTM\n",
    "        outputs, (hidden, cell) = self.gru(embedded)\n",
    "        predictions = self.fc(self.dropout(outputs))\n",
    "        return predictions\n",
    "\n",
    "INPUT_DIM = len(text.vocab)\n",
    "EMBEDDING_DIM = 100\n",
    "HIDDEN_DIM = 128\n",
    "OUTPUT_DIM = len(label.vocab)\n",
    "DROPOUT = 0.25\n",
    "PAD_IDX = text.vocab.stoi[text.pad_token]\n",
    "TAG_PAD_IDX = label.vocab.stoi[label.pad_token]\n",
    "\n",
    "model_BiGRU = BiGRU(INPUT_DIM, \n",
    "                        EMBEDDING_DIM, \n",
    "                        HIDDEN_DIM, \n",
    "                        OUTPUT_DIM, \n",
    "                        DROPOUT, \n",
    "                        PAD_IDX)\n",
    "\n",
    "# Initialization\n",
    "pretrained_embeddings = text.vocab.vectors\n",
    "model_BiGRU.embedding.weight.data.copy_(pretrained_embeddings)\n",
    "model_BiGRU.embedding.weight.data[PAD_IDX] = torch.zeros(EMBEDDING_DIM)\n",
    "optimizer = optim.Adam(model_BiGRU.parameters())\n",
    "TAG_PAD_IDX = label.vocab.stoi[label.pad_token]\n",
    "criterion = nn.CrossEntropyLoss(ignore_index = TAG_PAD_IDX)\n",
    "model_BiGRU = model_BiGRU.to(device)\n",
    "criterion = criterion.to(device)"
   ]
  },
  {
   "cell_type": "markdown",
   "metadata": {},
   "source": [
    "### Train"
   ]
  },
  {
   "cell_type": "code",
   "execution_count": 25,
   "metadata": {},
   "outputs": [
    {
     "name": "stdout",
     "output_type": "stream",
     "text": [
      "Epoch: 01 | Epoch Time: 0m 40s\n",
      "\tTrain Loss: 3.099\n",
      "\t Val. Loss: 2.639\n"
     ]
    }
   ],
   "source": [
    "N_EPOCHS = 1\n",
    "\n",
    "best_valid_loss = float('inf')\n",
    "train_loss_accum2, val_loss_accum2 = [], []\n",
    "for epoch in range(N_EPOCHS):\n",
    "\n",
    "    start_time = time.time()\n",
    "    \n",
    "    train_loss, _ = train(model_BiGRU, train_iterator, optimizer, criterion, TAG_PAD_IDX)\n",
    "    valid_loss, _ = evaluate(model_BiGRU, valid_iterator, criterion, TAG_PAD_IDX)\n",
    "    \n",
    "    train_loss_accum2.append(train_loss)\n",
    "    val_loss_accum2.append(valid_loss) \n",
    "    end_time = time.time()\n",
    "\n",
    "    epoch_mins, epoch_secs = epoch_time(start_time, end_time)\n",
    "    \n",
    "    if valid_loss < best_valid_loss:\n",
    "        best_valid_loss = valid_loss\n",
    "        torch.save(model_BiGRU.state_dict(), 'BiGRU.pt')\n",
    "    \n",
    "    print(f'Epoch: {epoch+1:02} | Epoch Time: {epoch_mins}m {epoch_secs}s')\n",
    "    print(f'\\tTrain Loss: {train_loss:.3f}')\n",
    "    print(f'\\t Val. Loss: {valid_loss:.3f}')"
   ]
  },
  {
   "cell_type": "markdown",
   "metadata": {},
   "source": [
    "### Plot loss for train and val"
   ]
  },
  {
   "cell_type": "code",
   "execution_count": 19,
   "metadata": {},
   "outputs": [
    {
     "data": {
      "image/png": "[encoded data removed]",
      "text/plain": [
       "<Figure size 432x288 with 1 Axes>"
      ]
     },
     "metadata": {
      "needs_background": "light"
     },
     "output_type": "display_data"
    }
   ],
   "source": [
    "plt.plot(train_loss_accum2)\n",
    "plt.plot(val_loss_accum2)\n",
    "plt.title('model loss')\n",
    "plt.ylabel('loss')\n",
    "plt.xlabel('epochs')\n",
    "plt.xticks(range(N_EPOCHS))\n",
    "plt.legend(['train_loss', 'val_loss'], loc='upper left')\n",
    "plt.show()"
   ]
  },
  {
   "cell_type": "markdown",
   "metadata": {},
   "source": [
    "## BiLSTMx2 + FC model"
   ]
  },
  {
   "cell_type": "code",
   "execution_count": 20,
   "metadata": {},
   "outputs": [],
   "source": [
    "class BiLSTMx2(nn.Module):\n",
    "    def __init__(self, \n",
    "                 input_dim, \n",
    "                 embedding_dim, \n",
    "                 hidden_dim, \n",
    "                 output_dim, \n",
    "                 n_layers, \n",
    "                 dropout, \n",
    "                 pad_idx):\n",
    "        \n",
    "        super().__init__()\n",
    "        \n",
    "        self.embedding = nn.Embedding(input_dim, embedding_dim, padding_idx = pad_idx)\n",
    "        self.embedding.weight.requires_grad = False\n",
    "        self.lstm = nn.LSTM(embedding_dim, \n",
    "                            hidden_dim, \n",
    "                            num_layers = n_layers, \n",
    "                            bidirectional = True,\n",
    "                            dropout = dropout if n_layers > 1 else 0)\n",
    "        self.fc = nn.Linear(hidden_dim * 2, output_dim)\n",
    "        \n",
    "        self.dropout = nn.Dropout(dropout)\n",
    "        \n",
    "    def forward(self, text):\n",
    "        # pass text through embedding layer\n",
    "        embedded = self.dropout(self.embedding(text))\n",
    "        # pass embeddings into LSTM\n",
    "        outputs, (hidden, cell) = self.lstm(embedded)\n",
    "        predictions = self.fc(self.dropout(outputs))\n",
    "        return predictions\n",
    "    \n",
    "INPUT_DIM = len(text.vocab)\n",
    "EMBEDDING_DIM = 100\n",
    "HIDDEN_DIM = 128\n",
    "OUTPUT_DIM = len(label.vocab)\n",
    "N_LAYERS = 2 # here we will jave two LSTM layers\n",
    "DROPOUT = 0.25\n",
    "PAD_IDX = text.vocab.stoi[text.pad_token]\n",
    "TAG_PAD_IDX = label.vocab.stoi[label.pad_token]\n",
    "model_BiLSTMx2 = BiLSTMx2(INPUT_DIM, \n",
    "                        EMBEDDING_DIM, \n",
    "                        HIDDEN_DIM, \n",
    "                        OUTPUT_DIM, \n",
    "                        N_LAYERS, \n",
    "                        DROPOUT, \n",
    "                        PAD_IDX)\n",
    "\n",
    "# Initialization\n",
    "pretrained_embeddings = text.vocab.vectors\n",
    "model_BiLSTMx2.embedding.weight.data.copy_(pretrained_embeddings)\n",
    "model_BiLSTMx2.embedding.weight.data[PAD_IDX] = torch.zeros(EMBEDDING_DIM)\n",
    "optimizer = optim.Adam(model_BiLSTMx2.parameters())\n",
    "TAG_PAD_IDX = label.vocab.stoi[label.pad_token]\n",
    "criterion = nn.CrossEntropyLoss(ignore_index = TAG_PAD_IDX)\n",
    "model_BiLSTMx2 = model_BiLSTMx2.to(device)\n",
    "criterion = criterion.to(device)"
   ]
  },
  {
   "cell_type": "markdown",
   "metadata": {},
   "source": [
    "### Train"
   ]
  },
  {
   "cell_type": "code",
   "execution_count": 27,
   "metadata": {},
   "outputs": [
    {
     "name": "stdout",
     "output_type": "stream",
     "text": [
      "Epoch: 01 | Epoch Time: 1m 38s\n",
      "\tTrain Loss: 3.828\n",
      "\t Val. Loss: 3.828\n"
     ]
    }
   ],
   "source": [
    "N_EPOCHS = 1\n",
    "\n",
    "best_valid_loss = float('inf')\n",
    "train_loss_accum3, val_loss_accum3 = [], []\n",
    "for epoch in range(N_EPOCHS):\n",
    "\n",
    "    start_time = time.time()\n",
    "    \n",
    "    train_loss, _  = train(model_BiLSTMx2, train_iterator, optimizer, criterion, TAG_PAD_IDX)\n",
    "    valid_loss, _ = evaluate(model_BiLSTMx2, valid_iterator, criterion, TAG_PAD_IDX)\n",
    "    train_loss_accum3.append(train_loss)\n",
    "    val_loss_accum3.append(valid_loss)\n",
    "    \n",
    "    end_time = time.time()\n",
    "\n",
    "    epoch_mins, epoch_secs = epoch_time(start_time, end_time)\n",
    "    \n",
    "    if valid_loss < best_valid_loss:\n",
    "        best_valid_loss = valid_loss\n",
    "        torch.save(model_BiLSTMx2.state_dict(), 'BiLSTMx2.pt')\n",
    "    \n",
    "    print(f'Epoch: {epoch+1:02} | Epoch Time: {epoch_mins}m {epoch_secs}s')\n",
    "    print(f'\\tTrain Loss: {train_loss:.3f}')\n",
    "    print(f'\\t Val. Loss: {valid_loss:.3f}')"
   ]
  },
  {
   "cell_type": "markdown",
   "metadata": {},
   "source": [
    "### Plot loss for train and val"
   ]
  },
  {
   "cell_type": "code",
   "execution_count": 28,
   "metadata": {},
   "outputs": [
    {
     "data": {
      "image/png": "[encoded data removed]",
      "text/plain": [
       "<Figure size 432x288 with 1 Axes>"
      ]
     },
     "metadata": {
      "needs_background": "light"
     },
     "output_type": "display_data"
    }
   ],
   "source": [
    "plt.plot(train_loss_accum3)\n",
    "plt.plot(val_loss_accum3)\n",
    "plt.title('model loss')\n",
    "plt.ylabel('loss')\n",
    "plt.xlabel('epochs')\n",
    "plt.xticks(range(N_EPOCHS))\n",
    "plt.legend(['train_loss', 'val_loss'], loc='upper left')\n",
    "plt.show()"
   ]
  },
  {
   "cell_type": "markdown",
   "metadata": {},
   "source": [
    "##  BiLSTM + FC + CRF model"
   ]
  },
  {
   "cell_type": "code",
   "execution_count": 29,
   "metadata": {},
   "outputs": [],
   "source": [
    "def train_crf(model, iterator, optimizer, mean_n_tokens, tag_pad_idx):\n",
    "    \n",
    "    epoch_loss = 0\n",
    "    epoch_acc = 0\n",
    "    \n",
    "    model.train()\n",
    "    \n",
    "    for batch in iterator:\n",
    "        text = batch.text\n",
    "        tags = batch.label\n",
    "        \n",
    "        loss = model(text, tags) / mean_n_tokens\n",
    "        \n",
    "        predictions = model.predict(text)\n",
    "        optimizer.zero_grad()\n",
    "        loss.backward()\n",
    "        optimizer.step()\n",
    "        \n",
    "        epoch_loss += loss.item()\n",
    "        \n",
    "    return epoch_loss / len(iterator)\n",
    "\n",
    "def evaluate_crf(model, iterator, optimizer, mean_n_tokens, tag_pad_idx):\n",
    "    \n",
    "    epoch_loss = 0\n",
    "    epoch_acc = 0\n",
    "    model.eval()\n",
    "    \n",
    "    with torch.no_grad():\n",
    "    \n",
    "        for batch in iterator:\n",
    "\n",
    "            text = batch.text\n",
    "            tags = batch.label\n",
    "            \n",
    "            loss = model(text, tags) / mean_n_tokens\n",
    "            predictions = model.predict(text) \n",
    "            epoch_loss += loss.item()\n",
    "        \n",
    "    return epoch_loss / len(iterator)"
   ]
  },
  {
   "cell_type": "code",
   "execution_count": 30,
   "metadata": {},
   "outputs": [],
   "source": [
    "from torchcrf import CRF\n",
    "class BiLSTM_CRF(nn.Module):\n",
    "    def __init__(self, \n",
    "                 input_dim, \n",
    "                 embedding_dim, \n",
    "                 hidden_dim, \n",
    "                 output_dim, \n",
    "                 dropout, \n",
    "                 pad_idx):\n",
    "        \n",
    "        super().__init__()\n",
    "        \n",
    "        self.embedding = nn.Embedding(input_dim, embedding_dim, padding_idx = pad_idx)\n",
    "        self.embedding.weight.requires_grad = False\n",
    "        self.lstm = nn.LSTM(embedding_dim, \n",
    "                            hidden_dim, \n",
    "                            num_layers = 1, \n",
    "                            bidirectional = True)\n",
    "        \n",
    "        self.fc = nn.Linear(hidden_dim * 2, output_dim)\n",
    "        self.dropout = nn.Dropout(dropout)\n",
    "        self.crf = CRF(output_dim) # output_dim is len of labels\n",
    "    def forward(self, text, labels):\n",
    "        # pass text through embedding layer\n",
    "        embedded = self.dropout(self.embedding(text))\n",
    "        # pass embeddings into LSTM\n",
    "        outputs, (hidden, cell) = self.lstm(embedded)\n",
    "        scores = self.fc(self.dropout(outputs))\n",
    "        return -self.crf(scores, labels)\n",
    "    \n",
    "    def predict(self, text):\n",
    "        # pass text through embedding layer\n",
    "        embedded = self.dropout(self.embedding(text))\n",
    "        # pass embeddings into LSTM\n",
    "        outputs, (hidden, cell) = self.lstm(embedded)\n",
    "        scores = self.fc(self.dropout(outputs))\n",
    "        return self.crf.decode(scores)\n",
    "    \n",
    "INPUT_DIM = len(text.vocab)\n",
    "EMBEDDING_DIM = 100\n",
    "HIDDEN_DIM = 128\n",
    "OUTPUT_DIM = len(label.vocab)\n",
    "DROPOUT = 0.25\n",
    "PAD_IDX = text.vocab.stoi[text.pad_token]\n",
    "TAG_PAD_IDX = label.vocab.stoi[label.pad_token]\n",
    "\n",
    "model_BiLSTM_CRF = BiLSTM_CRF(INPUT_DIM, \n",
    "                        EMBEDDING_DIM, \n",
    "                        HIDDEN_DIM, \n",
    "                        OUTPUT_DIM, \n",
    "                        DROPOUT, \n",
    "                        PAD_IDX)\n",
    "\n",
    "# Initialization\n",
    "pretrained_embeddings = text.vocab.vectors\n",
    "model_BiLSTM_CRF.embedding.weight.data.copy_(pretrained_embeddings)\n",
    "model_BiLSTM_CRF.embedding.weight.data[PAD_IDX] = torch.zeros(EMBEDDING_DIM)\n",
    "optimizer = optim.Adam(model_BiLSTM_CRF.parameters())\n",
    "TAG_PAD_IDX = label.vocab.stoi[label.pad_token]\n",
    "model_BiLSTM_CRF = model_BiLSTM_CRF.to(device)"
   ]
  },
  {
   "cell_type": "markdown",
   "metadata": {},
   "source": [
    "### Train"
   ]
  },
  {
   "cell_type": "code",
   "execution_count": 32,
   "metadata": {},
   "outputs": [
    {
     "name": "stdout",
     "output_type": "stream",
     "text": [
      "Epoch: 01 | Epoch Time: 1m 42s\n",
      "\tTrain Loss: 5.985\n",
      "\t Val. Loss: 3.810\n"
     ]
    }
   ],
   "source": [
    "N_EPOCHS = 1\n",
    "\n",
    "best_valid_loss = float('inf')\n",
    "train_loss_accum4, val_loss_accum4, = [], []\n",
    "# Count the number of words and sentences.\n",
    "n_tokens_train = 0\n",
    "n_sentences_train = 0\n",
    "for ex in train_data:\n",
    "    n_tokens_train += len(ex.text) + 2\n",
    "    n_sentences_train += 1\n",
    "n_tokens_valid = 0       \n",
    "for ex in val_data:\n",
    "    n_tokens_valid += len(ex.text)\n",
    "\n",
    "n_batches = np.ceil(n_sentences_train / BATCH_SIZE)\n",
    "mean_n_tokens = (n_tokens_train / n_batches) # * BATCH_SIZE\n",
    "\n",
    "for epoch in range(N_EPOCHS):\n",
    "\n",
    "    start_time = time.time()\n",
    "    \n",
    "    train_loss = train_crf(model_BiLSTM_CRF, train_iterator, optimizer, mean_n_tokens, TAG_PAD_IDX)\n",
    "    valid_loss = evaluate_crf(model_BiLSTM_CRF, valid_iterator, optimizer, mean_n_tokens, TAG_PAD_IDX)\n",
    "    train_loss_accum4.append(train_loss)\n",
    "    val_loss_accum4.append(valid_loss)\n",
    "    end_time = time.time()\n",
    "\n",
    "    epoch_mins, epoch_secs = epoch_time(start_time, end_time)\n",
    "    \n",
    "    if valid_loss < best_valid_loss:\n",
    "        best_valid_loss = valid_loss\n",
    "        torch.save(model_BiLSTM_CRF.state_dict(), 'tut1-model.pt')\n",
    "    \n",
    "    print(f'Epoch: {epoch+1:02} | Epoch Time: {epoch_mins}m {epoch_secs}s')\n",
    "    print(f'\\tTrain Loss: {train_loss:.3f}')\n",
    "    print(f'\\t Val. Loss: {valid_loss:.3f}')"
   ]
  },
  {
   "cell_type": "markdown",
   "metadata": {},
   "source": [
    "### Plot loss for train and val"
   ]
  },
  {
   "cell_type": "code",
   "execution_count": 33,
   "metadata": {},
   "outputs": [
    {
     "data": {
      "image/png": "[encoded data removed]",
      "text/plain": [
       "<Figure size 432x288 with 1 Axes>"
      ]
     },
     "metadata": {
      "needs_background": "light"
     },
     "output_type": "display_data"
    }
   ],
   "source": [
    "plt.plot(train_loss_accum4)\n",
    "plt.plot(val_loss_accum4)\n",
    "plt.title('model loss')\n",
    "plt.ylabel('loss')\n",
    "plt.xlabel('epochs')\n",
    "plt.xticks(range(N_EPOCHS))\n",
    "plt.legend(['train_loss', 'val_loss'], loc='upper left')\n",
    "plt.show()"
   ]
  },
  {
   "cell_type": "markdown",
   "metadata": {},
   "source": [
    "### Plot all model val losses"
   ]
  },
  {
   "cell_type": "code",
   "execution_count": 34,
   "metadata": {},
   "outputs": [
    {
     "data": {
      "image/png": "[encoded data removed]",
      "text/plain": [
       "<Figure size 432x288 with 1 Axes>"
      ]
     },
     "metadata": {
      "needs_background": "light"
     },
     "output_type": "display_data"
    }
   ],
   "source": [
    "plt.plot(val_loss_accum1)\n",
    "plt.plot(val_loss_accum2)\n",
    "plt.plot(val_loss_accum3)\n",
    "plt.plot(val_loss_accum4)\n",
    "plt.title('model accuracy')\n",
    "plt.ylabel('accuracy')\n",
    "plt.xlabel('epochs')\n",
    "plt.xticks(range(N_EPOCHS))\n",
    "plt.legend(['BiLSTM', 'BiGRU', 'BiLSTMx2', 'BiLSTM_CRF'], loc='upper left')\n",
    "plt.show()\n",
    "\n"
   ]
  },
  {
   "cell_type": "markdown",
   "metadata": {},
   "source": [
    "#### Calculate f1 score for the best model and error analysis"
   ]
  },
  {
   "cell_type": "code",
   "execution_count": 35,
   "metadata": {},
   "outputs": [],
   "source": [
    "def tag_sentence(model, device, sentence, text_field, tag_field):\n",
    "    \n",
    "    model.eval()\n",
    "    \n",
    "    if isinstance(sentence, str):\n",
    "        nlp = spacy.load('en')\n",
    "        tokens = [token.text for token in nlp(sentence)]\n",
    "    else:\n",
    "        tokens = [token for token in sentence]\n",
    "\n",
    "    if text_field.lower:\n",
    "        tokens = [t.lower() for t in tokens]\n",
    "        \n",
    "    numericalized_tokens = [text_field.vocab.stoi[t] for t in tokens]\n",
    "\n",
    "    unk_idx = text_field.vocab.stoi[text_field.unk_token]\n",
    "    \n",
    "    unks = [t for t, n in zip(tokens, numericalized_tokens) if n == unk_idx]\n",
    "    \n",
    "    token_tensor = torch.LongTensor(numericalized_tokens)\n",
    "    \n",
    "    token_tensor = token_tensor.unsqueeze(-1).to(device)\n",
    "         \n",
    "    predictions = model(token_tensor)\n",
    "    \n",
    "    top_predictions = predictions.argmax(-1)\n",
    "    \n",
    "    predicted_tags = [tag_field.vocab.itos[t.item()] for t in top_predictions]\n",
    "    \n",
    "    return tokens, predicted_tags, unks"
   ]
  },
  {
   "cell_type": "code",
   "execution_count": 36,
   "metadata": {},
   "outputs": [
    {
     "name": "stdout",
     "output_type": "stream",
     "text": [
      "['rudolph', 'agnew', ',', '55', 'years', 'old', 'and', 'former', 'chairman', 'of', 'consolidated', 'gold', 'fields', 'plc', ',', 'was', 'named', 'a', 'nonexecutive', 'director', 'of', 'this', 'british', 'industrial', 'conglomerate', '.']\n"
     ]
    }
   ],
   "source": [
    "example_index = 1\n",
    "\n",
    "sentence = vars(train_data.examples[example_index])['text']\n",
    "actual_tags = vars(train_data.examples[example_index])['label']\n",
    "\n",
    "print(sentence)"
   ]
  },
  {
   "cell_type": "code",
   "execution_count": 41,
   "metadata": {},
   "outputs": [
    {
     "name": "stdout",
     "output_type": "stream",
     "text": [
      "['trinity', 'railcar', 'platforms', 'trailer', 'trinity']\n"
     ]
    }
   ],
   "source": [
    "tokens, pred_tags, unks = tag_sentence(model_BiLSTMx2, \n",
    "                                       device, \n",
    "                                       sentence, \n",
    "                                       text, \n",
    "                                       label)\n",
    "\n",
    "print(unks)"
   ]
  },
  {
   "cell_type": "code",
   "execution_count": 42,
   "metadata": {},
   "outputs": [
    {
     "name": "stdout",
     "output_type": "stream",
     "text": [
      "Pred. Tag\tActual Tag\tCorrect?\tToken\n",
      "\n",
      "VBG\t\tNNP\t\t✘\t\ttrinity\n",
      "IN\t\tNNPS\t\t✘\t\tindustries\n",
      "RBS\t\tNNP\t\t✘\t\tinc.\n",
      "RBS\t\tVBD\t\t✘\t\tsaid\n",
      "RBS\t\tPRP\t\t✘\t\tit\n",
      "RBS\t\tVBD\t\t✘\t\treached\n",
      "RBS\t\tDT\t\t✘\t\ta\n",
      "RBS\t\tJJ\t\t✘\t\tpreliminary\n",
      "WDT\t\tNN\t\t✘\t\tagreement\n",
      "VBG\t\tTO\t\t✘\t\tto\n",
      "VBG\t\tVB\t\t✘\t\tsell\n",
      ":\t\tCD\t\t✘\t\t500\n",
      "VBG\t\tNN\t\t✘\t\trailcar\n",
      "VBG\t\tNNS\t\t✘\t\tplatforms\n",
      "VBG\t\tTO\t\t✘\t\tto\n",
      "VBG\t\tNNP\t\t✘\t\ttrailer\n",
      "CD\t\tNNP\t\t✘\t\ttrain\n",
      "CD\t\tNNP\t\t✘\t\tco.\n",
      "CD\t\tIN\t\t✘\t\tof\n",
      "CD\t\tNNP\t\t✘\t\tchicago\n",
      "CD\t\t.\t\t✘\t\t.\n",
      "CD\t\tNNS\t\t✘\t\tterms\n",
      "CD\t\tVBD\t\t✘\t\twere\n",
      "VBG\t\tRB\t\t✘\t\tn't\n",
      "VBG\t\tVBN\t\t✘\t\tdisclosed\n",
      "VBG\t\t.\t\t✘\t\t.\n",
      "VBG\t\tNNP\t\t✘\t\ttrinity\n",
      "VBG\t\tVBD\t\t✘\t\tsaid\n",
      "VBG\t\tPRP\t\t✘\t\tit\n",
      "VBG\t\tVBZ\t\t✘\t\tplans\n",
      "VBG\t\tTO\t\t✘\t\tto\n",
      "VBZ\t\tVB\t\t✘\t\tbegin\n",
      "RBS\t\tNN\t\t✘\t\tdelivery\n",
      "CD\t\tIN\t\t✘\t\tin\n",
      "CD\t\tDT\t\t✘\t\tthe\n",
      "CD\t\tJJ\t\t✘\t\tfirst\n",
      "CD\t\tNN\t\t✘\t\tquarter\n",
      "CD\t\tIN\t\t✘\t\tof\n",
      "WDT\t\tJJ\t\t✘\t\tnext\n",
      "WDT\t\tNN\t\t✘\t\tyear\n",
      "VBZ\t\t.\t\t✘\t\t.\n"
     ]
    }
   ],
   "source": [
    "print(\"Pred. Tag\\tActual Tag\\tCorrect?\\tToken\\n\")\n",
    "\n",
    "for token, pred_tag, actual_tag in zip(tokens, pred_tags, actual_tags):\n",
    "    correct = '✔' if pred_tag == actual_tag else '✘'\n",
    "    print(f\"{pred_tag}\\t\\t{actual_tag}\\t\\t{correct}\\t\\t{token}\")"
   ]
  },
  {
   "cell_type": "markdown",
   "metadata": {},
   "source": [
    "## F1 score"
   ]
  },
  {
   "cell_type": "code",
   "execution_count": 39,
   "metadata": {},
   "outputs": [],
   "source": [
    "def remove_punctuation(preds, y):\n",
    "    preds_no_punct = []\n",
    "    y_no_punct = []\n",
    "    for i in range(len(preds)):\n",
    "        if(bool(re.match('^[a-zA-Z0-9]*$', preds[i])) == True): # if not contains punct chars.\n",
    "            preds_no_punct.append(preds[i])\n",
    "            y_no_punct.append(y[i])\n",
    "    return preds_no_punct, y_no_punct"
   ]
  },
  {
   "cell_type": "code",
   "execution_count": 44,
   "metadata": {},
   "outputs": [
    {
     "name": "stdout",
     "output_type": "stream",
     "text": [
      "F1-score:  0.00\n"
     ]
    }
   ],
   "source": [
    "from sklearn.metrics import f1_score\n",
    "import re\n",
    "preds = []\n",
    "y = []\n",
    "for i in range(len(test_data.examples)):\n",
    "    actual_tags = vars(test_data.examples[i])['label']\n",
    "    sentence = vars(test_data.examples[i])['text']\n",
    "    _, pred_tags, _ = tag_sentence(model_BiLSTMx2, device, sentence, text, label)\n",
    "    preds.append(pred_tags)\n",
    "    y.append(actual_tags)\n",
    "preds_unflatten = [item for sublist in preds for item in sublist]\n",
    "y_unflatten = [item for sublist in y for item in sublist]\n",
    "preds, y = remove_punctuation(preds_unflatten, y_unflatten)\n",
    "print(\"F1-score: \", \"{:.2f}\".format(f1_score(y, preds, average='macro')))"
   ]
  }
 ],
 "metadata": {
  "kernelspec": {
   "display_name": "Python 3",
   "language": "python",
   "name": "python3"
  },
  "language_info": {
   "codemirror_mode": {
    "name": "ipython",
    "version": 3
   },
   "file_extension": ".py",
   "mimetype": "text/x-python",
   "name": "python",
   "nbconvert_exporter": "python",
   "pygments_lexer": "ipython3",
   "version": "3.6.10"
  }
 },
 "nbformat": 4,
 "nbformat_minor": 2
}
