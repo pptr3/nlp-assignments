{
  "nbformat": 4,
  "nbformat_minor": 0,
  "metadata": {
    "kernelspec": {
      "name": "python3",
      "display_name": "Python 3",
      "language": "python"
    },
    "language_info": {
      "name": "python",
      "version": "3.7.6",
      "mimetype": "text/x-python",
      "codemirror_mode": {
        "name": "ipython",
        "version": 3
      },
      "pygments_lexer": "ipython3",
      "nbconvert_exporter": "python",
      "file_extension": ".py"
    },
    "colab": {
      "name": "Assignment_4.ipynb",
      "provenance": [],
      "collapsed_sections": [
        "Uf80UVRNrXve",
        "COXeCXdYsBEf",
        "Ejv6SDE8xc4_",
        "TnEY9yI3y0aU",
        "VY8kXXkECfun",
        "dzxK6rQRC0pC"
      ]
    },
    "accelerator": "GPU"
  },
  "cells": [
    {
      "cell_type": "markdown",
      "metadata": {
        "id": "3GM9DBN-Qz3k"
      },
      "source": [
        "# Assignment 4\n",
        "\n",
        "**Due to**: TBD\n",
        "\n",
        "**Credits**: Andrea Galassi, Federico Ruggeri, Paolo Torroni\n",
        "\n",
        "**Summary**: Fact checking, Neural Languange Inference (**NLI**)"
      ]
    },
    {
      "cell_type": "markdown",
      "metadata": {
        "id": "tO_-4CZeRCO7"
      },
      "source": [
        "# Intro\n",
        "\n",
        "This assignment is centred on a particular and emerging NLP task, formally known as **fact checking** (or fake checking). As AI techniques become more and more powerful, reaching amazing results, such as image and text generation, it is more than ever necessary to build tools able to distinguish what is real from what is fake.\n",
        "\n",
        "Here we focus on a small portion of the whole fact checking problem, which aims to determine whether a given statement (fact) conveys a trustworthy information or not. \n",
        "\n",
        "More precisely, given a set of evidences and a fact to verify, we would like our model to correctly predict whether the fact is true or fake.\n",
        "\n",
        "In particular, we will see:\n",
        "\n",
        "*   Dataset preparation (analysis and pre-processing)\n",
        "*   Problem formulation: multi-input binary classification\n",
        "*   Defining an evaluation method\n",
        "*   Simple sentence embedding\n",
        "*   Neural building blocks\n",
        "*   Neural architecture extension"
      ]
    },
    {
      "cell_type": "markdown",
      "metadata": {
        "id": "hGDwg78PS_uy"
      },
      "source": [
        "# The FEVER dataset\n",
        "\n",
        "First of all, we need to choose a dataset. In this assignment we will rely on the [FEVER dataset](https://fever.ai).\n",
        "\n",
        "The dataset is about facts taken from Wikipedia documents that have to be verified. In particular, facts could face manual modifications in order to define fake information or to give different formulations of the same concept.\n",
        "\n",
        "The dataset consists of 185,445 claims manually verified against the introductory sections of Wikipedia pages and classified as ```Supported```, ```Refuted``` or ```NotEnoughInfo```. For the first two classes, systems and annotators need to also return the combination of sentences forming the necessary evidence supporting or refuting the claim."
      ]
    },
    {
      "cell_type": "markdown",
      "metadata": {
        "id": "4Oa5FpVpT7p4"
      },
      "source": [
        "## Dataset structure\n",
        "\n",
        "Relevant data is divided into two file types. Information concerning the fact to verify, its verdict and associated supporting/opposing statements are stored in **.jsonl** format. In particular, each JSON element is a python dictionary with the following relevant fields:\n",
        "\n",
        "*    **ID**: ID associated to the fact to verify.\n",
        "\n",
        "*    **Verifiable**: whether the fact has been verified or not: ```VERIFIABLE``` or ```NOT VERIFIABLE```.\n",
        "    \n",
        "*    **Label**: the final verdict on the fact to verify: ```SUPPORTS```, ```REFUTES``` or ```NOT ENOUGH INFO```.\n",
        "    \n",
        "*    **Claim**: the fact to verify.\n",
        "    \n",
        "*    **Evidence**: a nested list of document IDs along with the sentence ID that is associated to the fact to verify. In particular, each list element is a tuple of four elements: the first two are internal annotator IDs that can be safely ignored; the third term is the document ID (called URL) and the last one is the sentence number (ID) in the pointed document to consider.\n",
        "\n",
        "**Some Examples**\n",
        "\n",
        "---\n",
        "\n",
        "**Verifiable**\n",
        "\n",
        "{\"id\": 202314, \"verifiable\": \"VERIFIABLE\", \"label\": \"REFUTES\", \"claim\": \"The New Jersey Turnpike has zero shoulders.\", \"evidence\": [[[238335, 240393, \"New_Jersey_Turnpike\", 15]]]}\n",
        "\n",
        "---\n",
        "\n",
        "**Not Verifiable**\n",
        "\n",
        "{\"id\": 113501, \"verifiable\": \"NOT VERIFIABLE\", \"label\": \"NOT ENOUGH INFO\", \"claim\": \"Grease had bad reviews.\", \"evidence\": [[[133128, null, null, null]]]}\n",
        "\n",
        "---"
      ]
    },
    {
      "cell_type": "markdown",
      "metadata": {
        "id": "nex_8UM4VWuY"
      },
      "source": [
        "## Some simplifications and pre-processing\n",
        "\n",
        "We are only interested in verifiable facts. Thus, we can filter out all non-verifiable claims.\n",
        "\n",
        "Additionally, the current dataset format does not contain all necessary information for our classification purposes. In particular, we need to download Wikipedia documents and replace reported evidence IDs with the corresponding text.\n",
        "\n",
        "Don't worry about that! We are providing you the already pre-processed dataset so that you can concentrate on the classification pipeline (pre-processing, model definition, evaluation and training).\n",
        "\n",
        "You can download the zip file containing all set splits (train, validation and test) of the FEVER dataset by clicking on this [link](https://drive.google.com/file/d/1wArZhF9_SHW17WKNGeLmX-QTYw9Zscl1/view?usp=sharing). Alternatively, run the below code cell to automatically download it on this notebook.\n",
        "\n",
        "**Note**: each dataset split is in .csv format. Feel free to inspect the whole dataset!"
      ]
    },
    {
      "cell_type": "code",
      "metadata": {
        "id": "BspxZcRjW0NG",
        "trusted": true,
        "scrolled": false
      },
      "source": [
        "import os\n",
        "import requests\n",
        "import zipfile\n",
        "\n",
        "def save_response_content(response, destination):\n",
        "    CHUNK_SIZE = 32768\n",
        "\n",
        "    with open(destination, \"wb\") as f:\n",
        "        for chunk in response.iter_content(CHUNK_SIZE):\n",
        "            if chunk: # filter out keep-alive new chunks\n",
        "                f.write(chunk)\n",
        "\n",
        "def download_data(data_path):\n",
        "    toy_data_path = os.path.join(data_path, 'fever_data.zip')\n",
        "    toy_data_url_id = \"1wArZhF9_SHW17WKNGeLmX-QTYw9Zscl1\"\n",
        "    toy_url = \"https://docs.google.com/uc?export=download\"\n",
        "\n",
        "    if not os.path.exists(data_path):\n",
        "        os.makedirs(data_path)\n",
        "\n",
        "    if not os.path.exists(toy_data_path):\n",
        "        print(\"Downloading FEVER data splits...\")\n",
        "        with requests.Session() as current_session:\n",
        "            response = current_session.get(toy_url,\n",
        "                                   params={'id': toy_data_url_id},\n",
        "                                   stream=True)\n",
        "        save_response_content(response, toy_data_path)\n",
        "        print(\"Download completed!\")\n",
        "\n",
        "        print(\"Extracting dataset...\")\n",
        "        with zipfile.ZipFile(toy_data_path) as loaded_zip:\n",
        "            loaded_zip.extractall(data_path)\n",
        "        print(\"Extraction completed!\")\n",
        "\n",
        "download_data('dataset')"
      ],
      "execution_count": 1,
      "outputs": []
    },
    {
      "cell_type": "markdown",
      "metadata": {
        "id": "RbH_8errW5MH"
      },
      "source": [
        "# Classification dataset\n",
        "\n",
        "At this point, you should have a reay-to-go dataset! Note that the dataset format changed as well! In particular, we split the evidence set associated to each claim, in order to build (claim, evidence) pairs. The classification label is propagated as well.\n",
        "\n",
        "We'll motivate this decision in the next section!\n",
        "\n",
        "Just for clarity, here's an example of the pre-processed dataset:\n",
        "\n",
        "---\n",
        "\n",
        "**Claim**: \"Wentworth Miller is yet to make his screenwriting debut.\"\n",
        "\n",
        "**Evidence**: \"2\tHe made his screenwriting debut with the 2013 thriller film Stoker .\tStoker\tStoker (film)\"\n",
        "\n",
        "**Label**: Refutes\n",
        "\n",
        "---\n",
        "\n",
        "**Note**: The dataset requires some text cleaning as you may notice!\n"
      ]
    },
    {
      "cell_type": "markdown",
      "metadata": {
        "id": "gH8hIK21Xrl0"
      },
      "source": [
        "# Problem formulation\n",
        "\n",
        "As mentioned at the beginning of the assignment, we are going to formulate the fact checking problem as a binary classification task.\n",
        "\n",
        "In particular, each dataset sample is comprised of:\n",
        "\n",
        "*     A claim to verify\n",
        "*     A set of semantically related statements (evidence set)\n",
        "*     Fact checking label: either evidences support or refute the claim.\n",
        "\n",
        "Handling the evidence set from the point of view of neural models may imply some additional complexity: if the evidence set is comprised of several sentences we might incur in memory problems.\n",
        "\n",
        "To this end, we further simplify the problem by building (claim, evidence) pairs. The fact checking label is propagated as well.\n",
        "\n",
        "Example:\n",
        "\n",
        "     Claim: c1 \n",
        "     Evidence set: [e1, e2, e3]\n",
        "     Label: S (support)\n",
        "\n",
        "--->\n",
        "\n",
        "    (c1, e1, S),\n",
        "    (c1, e2, S),\n",
        "    (c1, e3, S)"
      ]
    },
    {
      "cell_type": "markdown",
      "metadata": {
        "id": "E46flIz_zQy-"
      },
      "source": [
        "## Schema\n",
        "\n",
        "The overall binary classification problem is summed up by the following (simplified) schema\n",
        "\n",
        "![](https://drive.google.com/uc?export=view&id=1Wm_YBnFwgJtxcWEBpPbTBEVkpKaL08Jp)\n",
        "\n",
        "Don't worry too much about the **Encoding** block for now. We'll give you some simple guidelines about its definition. For the moment, stick to the binary classification task definition where, in this case, we have 2 inputs: the claim to verify and one of its associated evidences."
      ]
    },
    {
      "cell_type": "markdown",
      "metadata": {
        "id": "LsiTV-NVdgsF"
      },
      "source": [
        "# Architecture Guidelines\n",
        "\n",
        "There are many neural architectures that follow the above schema. To avoid phenomena like the writer's block, in this section we are going to give you some implementation guidelines.\n",
        "\n",
        "In particular, we would like you to test some implementations so that you explore basic approaches (neural baselines) and use them as building blocks for possible extensions."
      ]
    },
    {
      "cell_type": "markdown",
      "metadata": {
        "id": "ZJBQm47fe7iE"
      },
      "source": [
        "## Handling multiple inputs\n",
        "\n",
        "The first thing to notice is that we are in a multi-input scenario. In particular, each sample is comprised of a fact and its asssociated evidence statement.\n",
        "\n",
        "Each of these input is encoded as a sequence of tokens. In particular, we will have the following input matrices:\n",
        "\n",
        "*    Claim: [batch_size, max_tokens]\n",
        "*    Evidence: [batch_size, max_tokens]\n",
        "\n",
        "Moreover, after the embedding layer, we'll have:\n",
        "\n",
        "*    Claim: [batch_size, max_tokens, embedding_dim]\n",
        "*    Evidence: [batch_size, max_tokens, embedding_dim]\n",
        "\n",
        "But, we would like to have a 2D input to our classifier, since we have to give an answer at pair level. Therefore, for each sample, we would expect the following input shape to our classification block:\n",
        "\n",
        "*   Classification input shape: [batch_size, dim]\n",
        "\n",
        "**How to do that?**\n",
        "\n",
        "We inherently need to reduce the token sequence to a single representation. This operation is formally known as **sentence embedding**. Indeed, we are trying to compress the information of a whole sequence into a single embedding vector.\n",
        "\n",
        "Here are some simple solutions that we ask you to try out:\n",
        "\n",
        "*   Encode token sequences via a RNN and take the last state as the sentence embedding.\n",
        "\n",
        "*   Encode token sequences via a RNN and average all the output states.\n",
        "\n",
        "*   Encode token sequences via a simple MLP layer. In particular, if your input is a [batch_size, max_tokens, embedding_dim] tensor, the matrix multiplication works on the **max_tokens** dimension, resulting in a [batch_size, embedding_dim] 2D matrix.\n",
        "\n",
        "*   Compute the sentence embedding as the mean of its token embeddings (**bag of vectors**)."
      ]
    },
    {
      "cell_type": "markdown",
      "metadata": {
        "id": "Gypl5z5ElJo1"
      },
      "source": [
        "## Merging multi-inputs\n",
        "\n",
        "At this point, we have to think about **how** we should merge evidence and claim sentence embeddings.\n",
        "\n",
        "For simplicity, we stick to simple merging strategies:\n",
        "\n",
        "*     **Concatenation**: define the classification input as the concatenation of evidence and claim sentence embeddings\n",
        "\n",
        "*     **Sum**: define the classification input as the sum of evidence and claim sentence embeddings\n",
        "\n",
        "*     **Mean**: define the classification input as the mean of evidence and claim sentence embeddings\n",
        "\n",
        "For clarity, if we the sentence embedding of a single input has shape [batch_size, embedding_dim], then the classification input has shape:\n",
        "\n",
        "*     **Concatenation**: [batch_size, 2 * embedding_dim]\n",
        "\n",
        "*     **Sum**: [batch_size, embedding_dim]\n",
        "\n",
        "*     **Mean**: [batch_size, embedding_dim]"
      ]
    },
    {
      "cell_type": "markdown",
      "metadata": {
        "id": "IhVg9ZLymOUc"
      },
      "source": [
        "# A simple extension\n",
        "\n",
        "Lastly, we ask you to modify previously defined neural architectures by adding an additional feature to the classification input.\n",
        "\n",
        "We would like to see if some similarity information between the claim to verify and one of its associated evidence might be useful to the classification.\n",
        "\n",
        "Compute the cosine similarity metric between the two sentence embeddings and concatenate the result to the classification input.\n",
        "\n",
        "For clarity, since the cosine similarity of two vectors outputs a scalar value, the classification input shape is modified as follows:\n",
        "\n",
        "*     **Concatenation**: [batch_size, 2 * embedding_dim + 1]\n",
        "\n",
        "*     **Sum**: [batch_size, embedding_dim + 1]\n",
        "\n",
        "*     **Mean**: [batch_size, embedding_dim + 1]\n",
        "\n"
      ]
    },
    {
      "cell_type": "markdown",
      "metadata": {
        "id": "Nd74ULgpnJrc"
      },
      "source": [
        "# Performance evaluation\n",
        "\n",
        "Due to our simplifications, obtained results are not directly compatible with a traditional fact checking method that considers the evidence set as a whole.\n",
        "\n",
        "Thus, we need to consider two types of evaluations.\n",
        "\n",
        "**Multi-input classification evaluation**\n",
        "\n",
        "This type of evaluation is the easiest and concerns computing evaluation metrics, such as accuracy, f1-score, recall and precision, of our pre-processed dataset.\n",
        "\n",
        "In other words, we assess the performance of chosen classifiers.\n",
        "\n",
        "**Claim verification evaluation**\n",
        "\n",
        "However, if we want to give an answer concerning the claim itself, we need to consider the whole evidence set. \n",
        "\n",
        "Intuitively, for a given claim, we consider all its corresponding (claim, evidence) pairs and their corresponding classification outputs. \n",
        "\n",
        "At this point, all we need to do is to compute the final predicted claim label via majority voting.\n",
        "\n",
        "Example:\n",
        "\n",
        "    Claim: c1\n",
        "    Evidence set: e1, e2, e3\n",
        "    True label: S\n",
        "\n",
        "    Pair outputs:\n",
        "    (c1, e1) -> S (supports)\n",
        "    (c1, e2) -> S (supports)\n",
        "    (c1, e3) -> R (refutes)\n",
        "\n",
        "    Majority voting:\n",
        "    S -> 2 votes\n",
        "    R -> 1 vote\n",
        "\n",
        "    Final label:\n",
        "    c1 -> S\n",
        "\n",
        "Lastly, we have to compute classification metrics just like before."
      ]
    },
    {
      "cell_type": "markdown",
      "metadata": {
        "id": "W4LJ2yPxsUOV"
      },
      "source": [
        "# Tips and Extras"
      ]
    },
    {
      "cell_type": "markdown",
      "metadata": {
        "id": "Uf80UVRNrXve"
      },
      "source": [
        "## Extensions are welcome!\n",
        "\n",
        "Is this task too easy for you? Are you curious to try out things you have seen during lectures (e.g. attention)? Feel free to try everything you want!\n",
        "\n",
        "Don't forget to try neural baselines first!"
      ]
    },
    {
      "cell_type": "markdown",
      "metadata": {
        "id": "COXeCXdYsBEf"
      },
      "source": [
        "## Comments and documentation\n",
        "\n",
        "Remember to properly comment your code (it is not necessary to comment each single line) and don't forget to describe your work!"
      ]
    },
    {
      "cell_type": "markdown",
      "metadata": {
        "id": "Ejv6SDE8xc4_"
      },
      "source": [
        "## Organization\n",
        "\n",
        "We suggest you to divide your work into sections. This allows you to build clean and modular code, as well as easy to read and to debug.\n",
        "\n",
        "A possible schema:\n",
        "\n",
        "*   Dataset pre-processing\n",
        "*   Dataset conversion\n",
        "*   Model definition\n",
        "*   Training\n",
        "*   Evaluation\n",
        "*   Comments/Summary"
      ]
    },
    {
      "cell_type": "markdown",
      "metadata": {
        "id": "9DR70uh7pabo"
      },
      "source": [
        "# Contact\n",
        "\n",
        "For any doubt, question, issue or help, you can always contact us at the following email addresses:\n",
        "\n",
        "Teaching Assistants:\n",
        "\n",
        "* Andrea Galassi -> a.galassi@unibo.it\n",
        "* Federico Ruggeri -> federico.ruggeri6@unibo.it\n",
        "\n",
        "Professor:\n",
        "\n",
        "* Paolo Torroni -> p.torroni@unibo.it\n",
        "\n",
        "Don't forget that your feedback is very important! Your suggestions help us improving course material."
      ]
    },
    {
      "cell_type": "markdown",
      "metadata": {
        "id": "Jc0gNWU2pgKQ"
      },
      "source": [
        "# FAQ\n",
        "\n",
        "---\n",
        "\n",
        "**Q: Can I do something text pre-processing?**\n",
        "\n",
        "**A:** You have to! If you check text data, the majority of sentences need some cleaning.\n",
        "\n",
        "---\n",
        "\n",
        "**Q: I'm struggling with the implementation. Can you help me?**\n",
        "\n",
        "**A:** Yes sure! Write us an email about your issue. If you are looking for a particular type of operation, you can easily check the documentation of the deep learning framework you are using (google is your friend).\n",
        "\n",
        "---\n",
        "\n",
        "**Q: Can I try other encoding strategies or neural architectures?**\n",
        "\n",
        "**A:** Absolutely! Remember to try out recommended neural baselines first and only then proceed with your extensions.\n",
        "\n",
        "---"
      ]
    },
    {
      "cell_type": "markdown",
      "metadata": {
        "id": "_stjmjcSx7cO"
      },
      "source": [
        "## Dataset pre-processing"
      ]
    },
    {
      "cell_type": "markdown",
      "metadata": {
        "id": "TnEY9yI3y0aU"
      },
      "source": [
        "### Dataset loading and inspection"
      ]
    },
    {
      "cell_type": "code",
      "metadata": {
        "id": "saWDqtJyx-90",
        "trusted": true,
        "scrolled": false
      },
      "source": [
        "import pandas as pd\n",
        "import numpy as np\n",
        "\n",
        "# wider pandas columns\n",
        "pd.options.display.max_colwidth = 1000\n",
        "\n",
        "train_df = pd.read_csv(\"dataset/train_pairs.csv\")\n",
        "val_df   = pd.read_csv(\"dataset/val_pairs.csv\")\n",
        "test_df  = pd.read_csv(\"dataset/test_pairs.csv\")"
      ],
      "execution_count": 2,
      "outputs": []
    },
    {
      "cell_type": "code",
      "metadata": {
        "id": "IxsqxB6zyTXq",
        "trusted": true,
        "scrolled": false,
        "colab": {
          "base_uri": "https://localhost:8080/",
          "height": 0
        },
        "outputId": "ab010237-bf64-4703-ee87-d52ae0884e25"
      },
      "source": [
        "# inspect dataset\n",
        "train_df.head(-1)"
      ],
      "execution_count": 3,
      "outputs": [
        {
          "output_type": "execute_result",
          "data": {
            "text/html": [
              "<div>\n",
              "<style scoped>\n",
              "    .dataframe tbody tr th:only-of-type {\n",
              "        vertical-align: middle;\n",
              "    }\n",
              "\n",
              "    .dataframe tbody tr th {\n",
              "        vertical-align: top;\n",
              "    }\n",
              "\n",
              "    .dataframe thead th {\n",
              "        text-align: right;\n",
              "    }\n",
              "</style>\n",
              "<table border=\"1\" class=\"dataframe\">\n",
              "  <thead>\n",
              "    <tr style=\"text-align: right;\">\n",
              "      <th></th>\n",
              "      <th>Unnamed: 0</th>\n",
              "      <th>Claim</th>\n",
              "      <th>Evidence</th>\n",
              "      <th>ID</th>\n",
              "      <th>Label</th>\n",
              "    </tr>\n",
              "  </thead>\n",
              "  <tbody>\n",
              "    <tr>\n",
              "      <th>0</th>\n",
              "      <td>0</td>\n",
              "      <td>Chris Hemsworth appeared in A Perfect Getaway.</td>\n",
              "      <td>2\\tHemsworth has also appeared in the science fiction action film Star Trek -LRB- 2009 -RRB- , the thriller adventure A Perfect Getaway -LRB- 2009 -RRB- , the horror comedy The Cabin in the Woods -LRB- 2012 -RRB- , the dark-fantasy action film Snow White and the Huntsman -LRB- 2012 -RRB- , the war film Red Dawn -LRB- 2012 -RRB- , and the biographical sports drama film Rush -LRB- 2013 -RRB- .\\tStar Trek\\tStar Trek (film)\\tA Perfect Getaway\\tA Perfect Getaway\\tThe Cabin in the Woods\\tThe Cabin in the Woods\\tSnow White and the Huntsman\\tSnow White and the Huntsman\\tRed Dawn\\tRed Dawn (2012 film)\\tRush\\tRush (2013 film)</td>\n",
              "      <td>3</td>\n",
              "      <td>SUPPORTS</td>\n",
              "    </tr>\n",
              "    <tr>\n",
              "      <th>1</th>\n",
              "      <td>1</td>\n",
              "      <td>Roald Dahl is a writer.</td>\n",
              "      <td>0\\tRoald Dahl -LRB- -LSB- langpronˈroʊ.əld _ ˈdɑːl -RSB- , -LSB- ˈɾuːɑl dɑl -RSB- ; 13 September 1916 -- 23 November 1990 -RRB- was a British novelist , short story writer , poet , screenwriter , and fighter pilot .\\tfighter pilot\\tfighter pilot</td>\n",
              "      <td>7</td>\n",
              "      <td>SUPPORTS</td>\n",
              "    </tr>\n",
              "    <tr>\n",
              "      <th>2</th>\n",
              "      <td>2</td>\n",
              "      <td>Roald Dahl is a governor.</td>\n",
              "      <td>0\\tRoald Dahl -LRB- -LSB- langpronˈroʊ.əld _ ˈdɑːl -RSB- , -LSB- ˈɾuːɑl dɑl -RSB- ; 13 September 1916 -- 23 November 1990 -RRB- was a British novelist , short story writer , poet , screenwriter , and fighter pilot .\\tfighter pilot\\tfighter pilot</td>\n",
              "      <td>8</td>\n",
              "      <td>REFUTES</td>\n",
              "    </tr>\n",
              "    <tr>\n",
              "      <th>3</th>\n",
              "      <td>3</td>\n",
              "      <td>Ireland has relatively low-lying mountains.</td>\n",
              "      <td>10\\tThe island 's geography comprises relatively low-lying mountains surrounding a central plain , with several navigable rivers extending inland .\\tisland\\tisland\\tgeography\\tgeography\\tseveral navigable rivers\\tRivers of Ireland</td>\n",
              "      <td>9</td>\n",
              "      <td>SUPPORTS</td>\n",
              "    </tr>\n",
              "    <tr>\n",
              "      <th>4</th>\n",
              "      <td>4</td>\n",
              "      <td>Ireland does not have relatively low-lying mountains.</td>\n",
              "      <td>10\\tThe island 's geography comprises relatively low-lying mountains surrounding a central plain , with several navigable rivers extending inland .\\tisland\\tisland\\tgeography\\tgeography\\tseveral navigable rivers\\tRivers of Ireland</td>\n",
              "      <td>10</td>\n",
              "      <td>REFUTES</td>\n",
              "    </tr>\n",
              "    <tr>\n",
              "      <th>...</th>\n",
              "      <td>...</td>\n",
              "      <td>...</td>\n",
              "      <td>...</td>\n",
              "      <td>...</td>\n",
              "      <td>...</td>\n",
              "    </tr>\n",
              "    <tr>\n",
              "      <th>121734</th>\n",
              "      <td>121734</td>\n",
              "      <td>Anderson Silva is a former UFC heavyweight Champion.</td>\n",
              "      <td>0\\tAnderson da Silva -LRB- -LSB- ˈɐ̃deʁsõ ˈsiwvɐ -RSB- ; born April 14 , 1975 -RRB- is a Brazilian mixed martial artist and former UFC Middleweight Champion .\\tMiddleweight\\tMiddleweight (MMA)\\tmixed martial artist\\tmixed martial arts\\tUFC Middleweight Champion\\tUFC Middleweight Championship</td>\n",
              "      <td>229439</td>\n",
              "      <td>REFUTES</td>\n",
              "    </tr>\n",
              "    <tr>\n",
              "      <th>121735</th>\n",
              "      <td>121735</td>\n",
              "      <td>April was the month Anderson Silva was born.</td>\n",
              "      <td>0\\tAnderson da Silva -LRB- -LSB- ˈɐ̃deʁsõ ˈsiwvɐ -RSB- ; born April 14 , 1975 -RRB- is a Brazilian mixed martial artist and former UFC Middleweight Champion .\\tMiddleweight\\tMiddleweight (MMA)\\tmixed martial artist\\tmixed martial arts\\tUFC Middleweight Champion\\tUFC Middleweight Championship</td>\n",
              "      <td>229440</td>\n",
              "      <td>SUPPORTS</td>\n",
              "    </tr>\n",
              "    <tr>\n",
              "      <th>121736</th>\n",
              "      <td>121736</td>\n",
              "      <td>Anderson Silva is an American Brazilian mixed martial artist.</td>\n",
              "      <td>0\\tAnderson da Silva -LRB- -LSB- ˈɐ̃deʁsõ ˈsiwvɐ -RSB- ; born April 14 , 1975 -RRB- is a Brazilian mixed martial artist and former UFC Middleweight Champion .\\tMiddleweight\\tMiddleweight (MMA)\\tmixed martial artist\\tmixed martial arts\\tUFC Middleweight Champion\\tUFC Middleweight Championship</td>\n",
              "      <td>229443</td>\n",
              "      <td>REFUTES</td>\n",
              "    </tr>\n",
              "    <tr>\n",
              "      <th>121737</th>\n",
              "      <td>121737</td>\n",
              "      <td>Anderson Silva is incapable of being a Brazilian mixed martial artist.</td>\n",
              "      <td>0\\tAnderson da Silva -LRB- -LSB- ˈɐ̃deʁsõ ˈsiwvɐ -RSB- ; born April 14 , 1975 -RRB- is a Brazilian mixed martial artist and former UFC Middleweight Champion .\\tMiddleweight\\tMiddleweight (MMA)\\tmixed martial artist\\tmixed martial arts\\tUFC Middleweight Champion\\tUFC Middleweight Championship</td>\n",
              "      <td>229444</td>\n",
              "      <td>REFUTES</td>\n",
              "    </tr>\n",
              "    <tr>\n",
              "      <th>121738</th>\n",
              "      <td>121738</td>\n",
              "      <td>Anderson Silva was born on the month of April 14th, 1975.</td>\n",
              "      <td>0\\tAnderson da Silva -LRB- -LSB- ˈɐ̃deʁsõ ˈsiwvɐ -RSB- ; born April 14 , 1975 -RRB- is a Brazilian mixed martial artist and former UFC Middleweight Champion .\\tMiddleweight\\tMiddleweight (MMA)\\tmixed martial artist\\tmixed martial arts\\tUFC Middleweight Champion\\tUFC Middleweight Championship</td>\n",
              "      <td>229445</td>\n",
              "      <td>SUPPORTS</td>\n",
              "    </tr>\n",
              "  </tbody>\n",
              "</table>\n",
              "<p>121739 rows × 5 columns</p>\n",
              "</div>"
            ],
            "text/plain": [
              "        Unnamed: 0  ...     Label\n",
              "0                0  ...  SUPPORTS\n",
              "1                1  ...  SUPPORTS\n",
              "2                2  ...   REFUTES\n",
              "3                3  ...  SUPPORTS\n",
              "4                4  ...   REFUTES\n",
              "...            ...  ...       ...\n",
              "121734      121734  ...   REFUTES\n",
              "121735      121735  ...  SUPPORTS\n",
              "121736      121736  ...   REFUTES\n",
              "121737      121737  ...   REFUTES\n",
              "121738      121738  ...  SUPPORTS\n",
              "\n",
              "[121739 rows x 5 columns]"
            ]
          },
          "metadata": {
            "tags": []
          },
          "execution_count": 3
        }
      ]
    },
    {
      "cell_type": "markdown",
      "metadata": {
        "id": "Wf0sClvX4Wi0"
      },
      "source": [
        "### Preprocessing"
      ]
    },
    {
      "cell_type": "code",
      "metadata": {
        "id": "3kHLyxhH4Vlu",
        "trusted": true,
        "scrolled": false,
        "colab": {
          "base_uri": "https://localhost:8080/"
        },
        "outputId": "88be4e39-a41c-41bc-a809-6fe2e53a344d"
      },
      "source": [
        "# examine evidences\n",
        "print(train_df[\"Evidence\"][0])\n",
        "print(train_df[\"Evidence\"][993])"
      ],
      "execution_count": 4,
      "outputs": [
        {
          "output_type": "stream",
          "text": [
            "2\tHemsworth has also appeared in the science fiction action film Star Trek -LRB- 2009 -RRB- , the thriller adventure A Perfect Getaway -LRB- 2009 -RRB- , the horror comedy The Cabin in the Woods -LRB- 2012 -RRB- , the dark-fantasy action film Snow White and the Huntsman -LRB- 2012 -RRB- , the war film Red Dawn -LRB- 2012 -RRB- , and the biographical sports drama film Rush -LRB- 2013 -RRB- .\tStar Trek\tStar Trek (film)\tA Perfect Getaway\tA Perfect Getaway\tThe Cabin in the Woods\tThe Cabin in the Woods\tSnow White and the Huntsman\tSnow White and the Huntsman\tRed Dawn\tRed Dawn (2012 film)\tRush\tRush (2013 film)\n",
            "25\tShe has appeared in Time 100 most influential people in the world -LRB- 2010 and 2015 -RRB- , Forbes top-earning women in music -LRB- 2011 -- 2015 -RRB- , Forbes 100 most powerful women -LRB- 2015 -RRB- , and Forbes Celebrity 100 -LRB- 2016 -RRB- .\tTime\tTime (magazine)\t100 most influential people in the world\tTime 100\tForbes\tForbes\t100 most powerful women\tThe World's 100 Most Powerful Women\n"
          ],
          "name": "stdout"
        }
      ]
    },
    {
      "cell_type": "code",
      "metadata": {
        "id": "MDEwLHAv7ZaE",
        "trusted": true,
        "scrolled": false
      },
      "source": [
        "import re\n",
        "from functools import reduce\n",
        "import nltk\n",
        "from nltk.corpus import stopwords\n",
        "try:\n",
        "    STOPWORDS = set(stopwords.words('english'))\n",
        "except LookupError:\n",
        "    nltk.download('stopwords')\n",
        "    STOPWORDS = set(stopwords.words('english'))\n",
        "def remove_stopwords(text):\n",
        "    return ' '.join([x for x in text.split() if x and x not in STOPWORDS])\n",
        "\n",
        "def remove_leading_tabs(text) :\n",
        "  # remove leading tabs\n",
        "  pattern = r'[0-9]+?\\t'\n",
        "  return re.sub(pattern, '', text)\n",
        "\n",
        "def remove_pronunciations(text) :\n",
        "  # remove pronunciations\n",
        "  pattern = r'-LSB-.*?-RSB-(\\s;)*?'\n",
        "  return re.sub(pattern, '', text)\n",
        "\n",
        "def convert_round_brackets(text) :\n",
        "  # convert -LRB- -RRB- to ( or )\n",
        "  pattern = r'-LRB-'\n",
        "  text = re.sub(pattern, '(', text)\n",
        "  pattern = r'-RRB-'\n",
        "  return re.sub(pattern, ')', text)\n",
        "\n",
        "def fix_double_dashes(text) :\n",
        "  # fix: double dashes (--)\n",
        "  pattern = r'\\-\\-'\n",
        "  return re.sub(pattern, '-', text)\n",
        "\n",
        "def remove_trailing_words(text) :\n",
        "  # remove trailing words (hyperlinks)\n",
        "  pattern = r'.\\t.*?$'\n",
        "  return re.sub(pattern, '.', text)\n",
        "\n",
        "def split_genitive(text) :\n",
        "  # make sure all possesive 's are split from other words\n",
        "  pattern = r\"(\\s.+?)'s\"\n",
        "  return re.sub(pattern, r\"\\1's\", text)\n",
        "\n",
        "def split_periods(text) :\n",
        "  pattern = r'(\\s.+?)\\.'\n",
        "  return re.sub(pattern, r'\\1 .', text)\n",
        "\n",
        "def fix_days(text) :\n",
        "  # fix: 31st -> 31 st\n",
        "  pattern = r'([0-9]{1,2})(st|nd|rd|th)'\n",
        "  return re.sub(pattern, r'\\1', text)\n",
        "\n",
        "def separate_years(text) :\n",
        "  # fix: separate years from other words\n",
        "  pattern = r'(\\s.+?)([0-9]{4})'\n",
        "  return re.sub(pattern, r'\\1 \\2', text) \n",
        "\n",
        "def fix_comma_thousands(text) :\n",
        "  # fix: comma thousands notations \n",
        "  pattern = r'([0-9]{1,3}),([0-9]{1,3})'\n",
        "  text = re.sub(pattern, r'\\1\\2', text)\n",
        "  pattern = r'([0-9]{1,3}),'\n",
        "  return re.sub(pattern, r'\\1', text)\n",
        "\n",
        "def fix_weird_dash(text) :\n",
        "  # fix: replace weird dash with normal one\n",
        "  pattern = r'–'\n",
        "  return re.sub(pattern, '-', text)\n",
        "\n",
        "def fix_years_ranges(text) :\n",
        "  # fix years ranges\n",
        "  pattern = r'([0-9]{4})\\-([0-9]{4})'\n",
        "  text = re.sub(pattern, r'\\1 - \\2', text)\n",
        "  pattern = r'([0-9]{2})([0-9]{2})\\-([0-9]{2})'\n",
        "  text = re.sub(pattern, r'\\1\\2 - \\1\\3', text)\n",
        "  pattern = r'\\'([0-9]{2})-\\'([0-9]{2})'\n",
        "  return re.sub(pattern, r'19\\1 - 19\\2', text)\n",
        "\n",
        "def fix_number_ranges(text) :\n",
        "  # fix: numbers ranges\n",
        "  pattern = r'([0-9]+?[,\\.][0-9]+?)+?-([0-9]+?[,\\.][0-9]+?)+'\n",
        "  return re.sub(pattern, r'\\1 - \\2', text)\n",
        "\n",
        "def fix_double_tick(text) :\n",
        "  # fix: double tick\n",
        "  pattern = r'\\`\\`'\n",
        "  return re.sub(pattern, '\"', text)\n",
        "\n",
        "def fix_date_merged(text) :\n",
        "  # fix: year/day merged with other word\n",
        "  pattern = r'([0-9]{1,4})([a-zA-Z]+?)'\n",
        "  return re.sub(pattern, r'\\1 \\2', text)\n",
        "\n",
        "def fix_double_ending_periods(text) :\n",
        "  # fix: double ending periods in claims\n",
        "  pattern = r'([a-zA-Z]{1,2}\\.)\\.$'               # except abbreviations (e.g jr. or c. k.)\n",
        "  text = re.sub(pattern, '\\1 .', text)\n",
        "  pattern = r'\\.\\.$'\n",
        "  return re.sub(pattern, '.', text)\n",
        "\n",
        "def fix_slashes_words(text) :\n",
        "  # fix: slashes separated from second word/number  e.g. \"2006/ 2007\"\n",
        "  pattern = r'(\\s.+?)\\/\\s(.+?\\s)'\n",
        "  text =  re.sub(pattern, r'\\1 \\/ \\2', text)    \n",
        "  # fix: separate strings between slashes\n",
        "  pattern = r'(.+?)\\/(.+?)'\n",
        "  return re.sub(pattern, r'\\1 \\/ \\2', text)\n",
        "\n",
        "def fix_string_ending_dash(text) :\n",
        "  # fix: fix strings ending with dash\n",
        "  pattern = r'(.+?)\\-\\s'\n",
        "  return re.sub(pattern, r'\\1 - ', text)\n",
        "\n",
        "def separate_non_words(text) :\n",
        "  # fix: separate words like non-something\n",
        "  pattern = r'([a-zA-Z]+?)\\-([a-zA-Z]+?)'\n",
        "  return re.sub(pattern, r'\\1 - \\2', text)\n",
        "  \n",
        "def fix_remove_round_brackets(text) :\n",
        "  # remove between round brackets\n",
        "  pattern = r'\\([^\\(\\)]+?\\)'\n",
        "  return re.sub(pattern, ' ', text)\n",
        "\n",
        "def remove_double_spaces(text) :\n",
        "  # remove double spaces\n",
        "  pattern = r'(\\s)\\s+?'\n",
        "  return re.sub(pattern, r'\\1', text)\n",
        "\n",
        "#test\n",
        "def replace_special_characters(text):\n",
        "  REPLACE_BY_SPACE_RE = re.compile('[/(){}\\[\\]\\|@,;]')\n",
        "  return REPLACE_BY_SPACE_RE.sub(' ', text)\n",
        "\n",
        "def good_symbols(text) :\n",
        "  GOOD_SYMBOLS_RE = re.compile('[^0-9a-zA-Z\\s\\+_]')\n",
        "  return GOOD_SYMBOLS_RE.sub('', text)\n",
        "\n",
        "def lower(text) :\n",
        "  return text.lower()\n",
        "\n",
        "PREPROCESSING_PIPELINE = [\n",
        "                          remove_leading_tabs,\n",
        "                          remove_trailing_words,\n",
        "                          #remove_stopwords,\n",
        "                          convert_round_brackets,\n",
        "                          #fix_remove_round_brackets,\n",
        "                          remove_pronunciations,\n",
        "                          fix_double_dashes,\n",
        "                          split_genitive,\n",
        "                          split_periods,\n",
        "                          fix_days,\n",
        "                          separate_years,\n",
        "                          fix_comma_thousands,\n",
        "                          fix_weird_dash,\n",
        "                          fix_years_ranges,\n",
        "                          fix_number_ranges,\n",
        "                          fix_double_tick,\n",
        "                          fix_date_merged,\n",
        "                          fix_double_ending_periods,\n",
        "                          fix_slashes_words,\n",
        "                          fix_string_ending_dash,\n",
        "                          separate_non_words,\n",
        "                          remove_double_spaces,\n",
        "                          #replace_special_characters,\n",
        "                          #good_symbols,\n",
        "                          lower\n",
        "]\n",
        "\n",
        "\n",
        "def preprocess_text(text, filter_methods=None):\n",
        "    \"\"\"\n",
        "    Applies a list of pre-processing functions in sequence (reduce).\n",
        "    Note that the order is important here!\n",
        "    \"\"\"\n",
        "    filter_methods = filter_methods if filter_methods is not None else PREPROCESSING_PIPELINE\n",
        "    return reduce(lambda txt, f: f(txt), filter_methods, text)"
      ],
      "execution_count": 5,
      "outputs": []
    },
    {
      "cell_type": "code",
      "metadata": {
        "trusted": true,
        "colab": {
          "base_uri": "https://localhost:8080/"
        },
        "id": "mxzbEgrvEmVj",
        "outputId": "428a9e02-dc23-4289-98d8-10dd85237fa3"
      },
      "source": [
        "print(\"Preprocessing dataset...\")\n",
        "\n",
        "train_df[\"Claim\"] = train_df[\"Claim\"].apply(preprocess_text)\n",
        "train_df[\"Evidence\"] = train_df[\"Evidence\"].apply(preprocess_text)\n",
        "print(\"Training data done.\")\n",
        "val_df[\"Claim\"] = val_df[\"Claim\"].apply(preprocess_text)\n",
        "val_df[\"Evidence\"] = val_df[\"Evidence\"].apply(preprocess_text)\n",
        "print(\"Validation data done.\")\n",
        "test_df[\"Claim\"] = test_df[\"Claim\"].apply(preprocess_text)\n",
        "test_df[\"Evidence\"] = test_df[\"Evidence\"].apply(preprocess_text)\n",
        "print(\"Testing data done.\")\n",
        "\n",
        "print(\"Preprocessing complete!\")"
      ],
      "execution_count": 6,
      "outputs": [
        {
          "output_type": "stream",
          "text": [
            "Preprocessing dataset...\n",
            "Training data done.\n",
            "Validation data done.\n",
            "Testing data done.\n",
            "Preprocessing complete!\n"
          ],
          "name": "stdout"
        }
      ]
    },
    {
      "cell_type": "code",
      "metadata": {
        "id": "qOAg0oo-9C4v",
        "trusted": true,
        "scrolled": false,
        "colab": {
          "base_uri": "https://localhost:8080/"
        },
        "outputId": "7db0c7e2-e8f0-4759-fef2-de79262826e8"
      },
      "source": [
        "print(train_df[\"Claim\"][0])\n",
        "print(train_df[\"Evidence\"][0])"
      ],
      "execution_count": 7,
      "outputs": [
        {
          "output_type": "stream",
          "text": [
            "chris hemsworth appeared in a perfect getaway .\n",
            "hemsworth has also appeared in the science fiction action film star trek ( 2009 ) , the thriller adventure a perfect getaway ( 2009 ) , the horror comedy the cabin in the woods ( 2012 ) , the dark - fantasy action film snow white and the huntsman ( 2012 ) , the war film red dawn ( 2012 ) , and the biographical sports drama film rush ( 2013 ) .\n"
          ],
          "name": "stdout"
        }
      ]
    },
    {
      "cell_type": "code",
      "metadata": {
        "id": "0wm-HZRtkJ4W",
        "trusted": true,
        "scrolled": false,
        "colab": {
          "base_uri": "https://localhost:8080/",
          "height": 567
        },
        "outputId": "7517b332-6a9f-408c-af36-6a093cddb1ba"
      },
      "source": [
        "train_df"
      ],
      "execution_count": 8,
      "outputs": [
        {
          "output_type": "execute_result",
          "data": {
            "text/html": [
              "<div>\n",
              "<style scoped>\n",
              "    .dataframe tbody tr th:only-of-type {\n",
              "        vertical-align: middle;\n",
              "    }\n",
              "\n",
              "    .dataframe tbody tr th {\n",
              "        vertical-align: top;\n",
              "    }\n",
              "\n",
              "    .dataframe thead th {\n",
              "        text-align: right;\n",
              "    }\n",
              "</style>\n",
              "<table border=\"1\" class=\"dataframe\">\n",
              "  <thead>\n",
              "    <tr style=\"text-align: right;\">\n",
              "      <th></th>\n",
              "      <th>Unnamed: 0</th>\n",
              "      <th>Claim</th>\n",
              "      <th>Evidence</th>\n",
              "      <th>ID</th>\n",
              "      <th>Label</th>\n",
              "    </tr>\n",
              "  </thead>\n",
              "  <tbody>\n",
              "    <tr>\n",
              "      <th>0</th>\n",
              "      <td>0</td>\n",
              "      <td>chris hemsworth appeared in a perfect getaway .</td>\n",
              "      <td>hemsworth has also appeared in the science fiction action film star trek ( 2009 ) , the thriller adventure a perfect getaway ( 2009 ) , the horror comedy the cabin in the woods ( 2012 ) , the dark - fantasy action film snow white and the huntsman ( 2012 ) , the war film red dawn ( 2012 ) , and the biographical sports drama film rush ( 2013 ) .</td>\n",
              "      <td>3</td>\n",
              "      <td>SUPPORTS</td>\n",
              "    </tr>\n",
              "    <tr>\n",
              "      <th>1</th>\n",
              "      <td>1</td>\n",
              "      <td>roald dahl is a writer .</td>\n",
              "      <td>roald dahl ( , ; 13 september 1916 - 23 november 1990 ) was a british novelist , short story writer , poet , screenwriter , and fighter pilot .</td>\n",
              "      <td>7</td>\n",
              "      <td>SUPPORTS</td>\n",
              "    </tr>\n",
              "    <tr>\n",
              "      <th>2</th>\n",
              "      <td>2</td>\n",
              "      <td>roald dahl is a governor .</td>\n",
              "      <td>roald dahl ( , ; 13 september 1916 - 23 november 1990 ) was a british novelist , short story writer , poet , screenwriter , and fighter pilot .</td>\n",
              "      <td>8</td>\n",
              "      <td>REFUTES</td>\n",
              "    </tr>\n",
              "    <tr>\n",
              "      <th>3</th>\n",
              "      <td>3</td>\n",
              "      <td>ireland has relatively low - lying mountains .</td>\n",
              "      <td>the island 's geography comprises relatively low - lying mountains surrounding a central plain , with several navigable rivers extending inland .</td>\n",
              "      <td>9</td>\n",
              "      <td>SUPPORTS</td>\n",
              "    </tr>\n",
              "    <tr>\n",
              "      <th>4</th>\n",
              "      <td>4</td>\n",
              "      <td>ireland does not have relatively low - lying mountains .</td>\n",
              "      <td>the island 's geography comprises relatively low - lying mountains surrounding a central plain , with several navigable rivers extending inland .</td>\n",
              "      <td>10</td>\n",
              "      <td>REFUTES</td>\n",
              "    </tr>\n",
              "    <tr>\n",
              "      <th>...</th>\n",
              "      <td>...</td>\n",
              "      <td>...</td>\n",
              "      <td>...</td>\n",
              "      <td>...</td>\n",
              "      <td>...</td>\n",
              "    </tr>\n",
              "    <tr>\n",
              "      <th>121735</th>\n",
              "      <td>121735</td>\n",
              "      <td>april was the month anderson silva was born .</td>\n",
              "      <td>anderson da silva ( ; born april 14 , 1975 ) is a brazilian mixed martial artist and former ufc middleweight champion .</td>\n",
              "      <td>229440</td>\n",
              "      <td>SUPPORTS</td>\n",
              "    </tr>\n",
              "    <tr>\n",
              "      <th>121736</th>\n",
              "      <td>121736</td>\n",
              "      <td>anderson silva is an american brazilian mixed martial artist .</td>\n",
              "      <td>anderson da silva ( ; born april 14 , 1975 ) is a brazilian mixed martial artist and former ufc middleweight champion .</td>\n",
              "      <td>229443</td>\n",
              "      <td>REFUTES</td>\n",
              "    </tr>\n",
              "    <tr>\n",
              "      <th>121737</th>\n",
              "      <td>121737</td>\n",
              "      <td>anderson silva is incapable of being a brazilian mixed martial artist .</td>\n",
              "      <td>anderson da silva ( ; born april 14 , 1975 ) is a brazilian mixed martial artist and former ufc middleweight champion .</td>\n",
              "      <td>229444</td>\n",
              "      <td>REFUTES</td>\n",
              "    </tr>\n",
              "    <tr>\n",
              "      <th>121738</th>\n",
              "      <td>121738</td>\n",
              "      <td>anderson silva was born on the month of april 14 1975 .</td>\n",
              "      <td>anderson da silva ( ; born april 14 , 1975 ) is a brazilian mixed martial artist and former ufc middleweight champion .</td>\n",
              "      <td>229445</td>\n",
              "      <td>SUPPORTS</td>\n",
              "    </tr>\n",
              "    <tr>\n",
              "      <th>121739</th>\n",
              "      <td>121739</td>\n",
              "      <td>anderson silva was born on the day of the 15 .</td>\n",
              "      <td>anderson da silva ( ; born april 14 , 1975 ) is a brazilian mixed martial artist and former ufc middleweight champion .</td>\n",
              "      <td>229448</td>\n",
              "      <td>REFUTES</td>\n",
              "    </tr>\n",
              "  </tbody>\n",
              "</table>\n",
              "<p>121740 rows × 5 columns</p>\n",
              "</div>"
            ],
            "text/plain": [
              "        Unnamed: 0  ...     Label\n",
              "0                0  ...  SUPPORTS\n",
              "1                1  ...  SUPPORTS\n",
              "2                2  ...   REFUTES\n",
              "3                3  ...  SUPPORTS\n",
              "4                4  ...   REFUTES\n",
              "...            ...  ...       ...\n",
              "121735      121735  ...  SUPPORTS\n",
              "121736      121736  ...   REFUTES\n",
              "121737      121737  ...   REFUTES\n",
              "121738      121738  ...  SUPPORTS\n",
              "121739      121739  ...   REFUTES\n",
              "\n",
              "[121740 rows x 5 columns]"
            ]
          },
          "metadata": {
            "tags": []
          },
          "execution_count": 8
        }
      ]
    },
    {
      "cell_type": "code",
      "metadata": {
        "id": "XdxgVMjVaWo9",
        "trusted": true,
        "scrolled": false,
        "colab": {
          "base_uri": "https://localhost:8080/",
          "height": 49
        },
        "outputId": "3e7b3010-2d69-462d-a82a-64bc841dbb96"
      },
      "source": [
        "train_df[train_df['Claim'].str.contains('k\\.\\.') == True]"
      ],
      "execution_count": 9,
      "outputs": [
        {
          "output_type": "execute_result",
          "data": {
            "text/html": [
              "<div>\n",
              "<style scoped>\n",
              "    .dataframe tbody tr th:only-of-type {\n",
              "        vertical-align: middle;\n",
              "    }\n",
              "\n",
              "    .dataframe tbody tr th {\n",
              "        vertical-align: top;\n",
              "    }\n",
              "\n",
              "    .dataframe thead th {\n",
              "        text-align: right;\n",
              "    }\n",
              "</style>\n",
              "<table border=\"1\" class=\"dataframe\">\n",
              "  <thead>\n",
              "    <tr style=\"text-align: right;\">\n",
              "      <th></th>\n",
              "      <th>Unnamed: 0</th>\n",
              "      <th>Claim</th>\n",
              "      <th>Evidence</th>\n",
              "      <th>ID</th>\n",
              "      <th>Label</th>\n",
              "    </tr>\n",
              "  </thead>\n",
              "  <tbody>\n",
              "  </tbody>\n",
              "</table>\n",
              "</div>"
            ],
            "text/plain": [
              "Empty DataFrame\n",
              "Columns: [Unnamed: 0, Claim, Evidence, ID, Label]\n",
              "Index: []"
            ]
          },
          "metadata": {
            "tags": []
          },
          "execution_count": 9
        }
      ]
    },
    {
      "cell_type": "markdown",
      "metadata": {
        "id": "VY8kXXkECfun"
      },
      "source": [
        "## Dataset conversion"
      ]
    },
    {
      "cell_type": "code",
      "metadata": {
        "id": "rTOKlA6yNvFh",
        "trusted": true
      },
      "source": [
        "from tensorflow.keras.preprocessing.text import Tokenizer\n",
        "import gensim.downloader as api\n",
        "from nltk.tokenize.treebank import TreebankWordTokenizer\n",
        "from nltk.tokenize.toktok import ToktokTokenizer\n",
        "\n",
        "embedding_dimension = 50\n",
        "glove = api.load(f\"glove-wiki-gigaword-{embedding_dimension}\")"
      ],
      "execution_count": 10,
      "outputs": []
    },
    {
      "cell_type": "code",
      "metadata": {
        "id": "Gh0ZbOrs-MoK",
        "trusted": true,
        "scrolled": false
      },
      "source": [
        "# tokenizer based on penn treebank\n",
        "def tokenize_df(df) :\n",
        "  #word_tokenizer = TreebankWordTokenizer()\n",
        "  word_tokenizer = ToktokTokenizer()\n",
        "  tmp = pd.DataFrame(columns=[\"Claim\", \"Evidence\", \"Label\"])\n",
        "  for col in [\"Claim\", \"Evidence\"]:\n",
        "    #tmp[col] = df[col].str.lower()\n",
        "    tmp[col] = df[col].apply(word_tokenizer.tokenize)\n",
        "    #tmp[col] = np.array([word_tokenizer.tokenize(r) for r in tmp[col]])\n",
        "  tmp[\"Label\"] = df[\"Label\"]\n",
        "  return tmp"
      ],
      "execution_count": 11,
      "outputs": []
    },
    {
      "cell_type": "code",
      "metadata": {
        "id": "J8BJb7NqfVNk",
        "trusted": true,
        "scrolled": false
      },
      "source": [
        "def get_embedding_matrix(embedding_model, tokenizer) :\n",
        "  embedding_matrix = []\n",
        "  emebedding_dimension = embedding_model.vectors[0].shape[0]\n",
        "  for word in tokenizer.index_word.values() :\n",
        "    if word in embedding_model:\n",
        "      embedding_matrix.append(embedding_model[word])\n",
        "    else:\n",
        "      embedding_matrix.append(np.random.uniform(low=-1.0, high=1.0, size=(embedding_dimension,)))\n",
        "  return embedding_matrix\n",
        "\n",
        "#np.array(get_embedding_matrix(glove, w_tok))"
      ],
      "execution_count": 12,
      "outputs": []
    },
    {
      "cell_type": "code",
      "metadata": {
        "id": "WxCmr7Gdesue",
        "trusted": true,
        "scrolled": false,
        "colab": {
          "base_uri": "https://localhost:8080/",
          "height": 0
        },
        "outputId": "1664acd6-bc7f-4836-966f-f5e8ad9cc520"
      },
      "source": [
        "tok_train_df = tokenize_df(train_df)\n",
        "tok_train_df.head()"
      ],
      "execution_count": 13,
      "outputs": [
        {
          "output_type": "execute_result",
          "data": {
            "text/html": [
              "<div>\n",
              "<style scoped>\n",
              "    .dataframe tbody tr th:only-of-type {\n",
              "        vertical-align: middle;\n",
              "    }\n",
              "\n",
              "    .dataframe tbody tr th {\n",
              "        vertical-align: top;\n",
              "    }\n",
              "\n",
              "    .dataframe thead th {\n",
              "        text-align: right;\n",
              "    }\n",
              "</style>\n",
              "<table border=\"1\" class=\"dataframe\">\n",
              "  <thead>\n",
              "    <tr style=\"text-align: right;\">\n",
              "      <th></th>\n",
              "      <th>Claim</th>\n",
              "      <th>Evidence</th>\n",
              "      <th>Label</th>\n",
              "    </tr>\n",
              "  </thead>\n",
              "  <tbody>\n",
              "    <tr>\n",
              "      <th>0</th>\n",
              "      <td>[chris, hemsworth, appeared, in, a, perfect, getaway, .]</td>\n",
              "      <td>[hemsworth, has, also, appeared, in, the, science, fiction, action, film, star, trek, (, 2009, ), ,, the, thriller, adventure, a, perfect, getaway, (, 2009, ), ,, the, horror, comedy, the, cabin, in, the, woods, (, 2012, ), ,, the, dark, -, fantasy, action, film, snow, white, and, the, huntsman, (, 2012, ), ,, the, war, film, red, dawn, (, 2012, ), ,, and, the, biographical, sports, drama, film, rush, (, 2013, ), .]</td>\n",
              "      <td>SUPPORTS</td>\n",
              "    </tr>\n",
              "    <tr>\n",
              "      <th>1</th>\n",
              "      <td>[roald, dahl, is, a, writer, .]</td>\n",
              "      <td>[roald, dahl, (, ,, ;, 13, september, 1916, -, 23, november, 1990, ), was, a, british, novelist, ,, short, story, writer, ,, poet, ,, screenwriter, ,, and, fighter, pilot, .]</td>\n",
              "      <td>SUPPORTS</td>\n",
              "    </tr>\n",
              "    <tr>\n",
              "      <th>2</th>\n",
              "      <td>[roald, dahl, is, a, governor, .]</td>\n",
              "      <td>[roald, dahl, (, ,, ;, 13, september, 1916, -, 23, november, 1990, ), was, a, british, novelist, ,, short, story, writer, ,, poet, ,, screenwriter, ,, and, fighter, pilot, .]</td>\n",
              "      <td>REFUTES</td>\n",
              "    </tr>\n",
              "    <tr>\n",
              "      <th>3</th>\n",
              "      <td>[ireland, has, relatively, low, -, lying, mountains, .]</td>\n",
              "      <td>[the, island, ', s, geography, comprises, relatively, low, -, lying, mountains, surrounding, a, central, plain, ,, with, several, navigable, rivers, extending, inland, .]</td>\n",
              "      <td>SUPPORTS</td>\n",
              "    </tr>\n",
              "    <tr>\n",
              "      <th>4</th>\n",
              "      <td>[ireland, does, not, have, relatively, low, -, lying, mountains, .]</td>\n",
              "      <td>[the, island, ', s, geography, comprises, relatively, low, -, lying, mountains, surrounding, a, central, plain, ,, with, several, navigable, rivers, extending, inland, .]</td>\n",
              "      <td>REFUTES</td>\n",
              "    </tr>\n",
              "  </tbody>\n",
              "</table>\n",
              "</div>"
            ],
            "text/plain": [
              "                                                                 Claim  ...     Label\n",
              "0             [chris, hemsworth, appeared, in, a, perfect, getaway, .]  ...  SUPPORTS\n",
              "1                                      [roald, dahl, is, a, writer, .]  ...  SUPPORTS\n",
              "2                                    [roald, dahl, is, a, governor, .]  ...   REFUTES\n",
              "3              [ireland, has, relatively, low, -, lying, mountains, .]  ...  SUPPORTS\n",
              "4  [ireland, does, not, have, relatively, low, -, lying, mountains, .]  ...   REFUTES\n",
              "\n",
              "[5 rows x 3 columns]"
            ]
          },
          "metadata": {
            "tags": []
          },
          "execution_count": 13
        }
      ]
    },
    {
      "cell_type": "code",
      "metadata": {
        "id": "RShM58yRk5xg",
        "trusted": true,
        "scrolled": false,
        "colab": {
          "base_uri": "https://localhost:8080/"
        },
        "outputId": "f12f6ed8-b58a-4747-9b0c-84c81e5b851d"
      },
      "source": [
        "# build vocab\n",
        "def build_vocab_from_df(df) :\n",
        "  ret = []\n",
        "  for col in [\"Claim\", \"Evidence\"] :\n",
        "    for r in df[col] :\n",
        "      ret += r\n",
        "  ret = pd.unique(ret)    # much faster than np.unique\n",
        "  return ret\n",
        "\n",
        "vocab = list(glove.vocab.keys())               # glove vocab\n",
        "\n",
        "vocab_v1 = np.array(build_vocab_from_df(tok_train_df), dtype=str)   # add unique terms from train_df\n",
        "oov_v1 = vocab_v1[~np.in1d(vocab_v1, vocab)] # find OOV terms\n",
        "vocab = np.concatenate((vocab, oov_v1))   #update vocab\n",
        "\n",
        "vocab_v2 = np.array(build_vocab_from_df(tokenize_df(val_df)), dtype=str)   # add unique terms from val_df\n",
        "oov_v2 = vocab_v2[~np.in1d(vocab_v2, vocab)]\n",
        "vocab = np.concatenate((vocab, oov_v2))\n",
        "\n",
        "vocab_v3 = np.array(build_vocab_from_df(tokenize_df(test_df)), dtype=str)   # add unique terms from val_df\n",
        "oov_v3 = vocab_v3[~np.in1d(vocab_v3, vocab)]\n",
        "vocab = np.concatenate((vocab, oov_v3))\n",
        "\n",
        "#vocab = list(dict.fromkeys(vocab))\n",
        "print(f\"vocab len: {len(vocab)}\")"
      ],
      "execution_count": 14,
      "outputs": [
        {
          "output_type": "stream",
          "text": [
            "vocab len: 403506\n"
          ],
          "name": "stdout"
        }
      ]
    },
    {
      "cell_type": "code",
      "metadata": {
        "id": "aMkztzj5MxKZ",
        "trusted": true,
        "scrolled": false
      },
      "source": [
        "# build word -> int encoding \n",
        "word_to_idx = dict(zip(vocab, range(1, len(vocab)+1))) # start from 1 to reserve 0 to padding"
      ],
      "execution_count": 15,
      "outputs": []
    },
    {
      "cell_type": "code",
      "metadata": {
        "id": "H0FpcuZziZ5T",
        "trusted": true,
        "scrolled": false
      },
      "source": [
        "def encode_sent(sent, word_to_idx=word_to_idx) :\n",
        "  return [word_to_idx[w] for w in sent]\n",
        "\n",
        "def encode_df(tok_df, word_to_idx) :\n",
        "  enc_df = pd.DataFrame(columns=[\"Claim\", \"Evidence\", \"Label\"])\n",
        "  for col in [\"Claim\", \"Evidence\"] :\n",
        "    enc_df[col] = tok_df[col].apply(lambda s: encode_sent(s, word_to_idx))\n",
        "  enc_df[\"Label\"] = tok_df[\"Label\"].apply(lambda x: 1 if x==\"SUPPORTS\" else 0)\n",
        "  return enc_df"
      ],
      "execution_count": 16,
      "outputs": []
    },
    {
      "cell_type": "code",
      "metadata": {
        "id": "D9N5pMhWz-b-",
        "trusted": true,
        "scrolled": false
      },
      "source": [
        "# encode dataset\n",
        "enc_train_df = encode_df(tok_train_df, word_to_idx)"
      ],
      "execution_count": 17,
      "outputs": []
    },
    {
      "cell_type": "code",
      "metadata": {
        "id": "MaA0NzWbl03y",
        "trusted": true,
        "scrolled": false,
        "colab": {
          "base_uri": "https://localhost:8080/",
          "height": 0
        },
        "outputId": "19aba7c3-d86f-404e-f74a-303199d37f3b"
      },
      "source": [
        "enc_train_df.head()"
      ],
      "execution_count": 18,
      "outputs": [
        {
          "output_type": "execute_result",
          "data": {
            "text/html": [
              "<div>\n",
              "<style scoped>\n",
              "    .dataframe tbody tr th:only-of-type {\n",
              "        vertical-align: middle;\n",
              "    }\n",
              "\n",
              "    .dataframe tbody tr th {\n",
              "        vertical-align: top;\n",
              "    }\n",
              "\n",
              "    .dataframe thead th {\n",
              "        text-align: right;\n",
              "    }\n",
              "</style>\n",
              "<table border=\"1\" class=\"dataframe\">\n",
              "  <thead>\n",
              "    <tr style=\"text-align: right;\">\n",
              "      <th></th>\n",
              "      <th>Claim</th>\n",
              "      <th>Evidence</th>\n",
              "      <th>Label</th>\n",
              "    </tr>\n",
              "  </thead>\n",
              "  <tbody>\n",
              "    <tr>\n",
              "      <th>0</th>\n",
              "      <td>[2103, 107954, 790, 7, 8, 2616, 20647, 3]</td>\n",
              "      <td>[107954, 32, 53, 790, 7, 1, 1122, 3955, 609, 320, 754, 9780, 24, 704, 25, 2, 1, 8966, 6041, 8, 2616, 20647, 24, 704, 25, 2, 1, 5989, 2842, 1, 7741, 7, 1, 2508, 24, 940, 25, 2, 1, 2238, 12, 5848, 609, 320, 2643, 299, 6, 1, 34011, 24, 940, 25, 2, 1, 137, 320, 640, 4650, 24, 940, 25, 2, 6, 1, 18899, 885, 2693, 320, 3993, 24, 1280, 25, 3]</td>\n",
              "      <td>1</td>\n",
              "    </tr>\n",
              "    <tr>\n",
              "      <th>1</th>\n",
              "      <td>[53403, 21758, 15, 8, 1542, 3]</td>\n",
              "      <td>[53403, 21758, 24, 2, 90, 677, 442, 6907, 12, 1022, 488, 1456, 25, 16, 8, 298, 8998, 2, 637, 524, 1542, 2, 4820, 2, 12604, 2, 6, 3511, 2499, 3]</td>\n",
              "      <td>1</td>\n",
              "    </tr>\n",
              "    <tr>\n",
              "      <th>2</th>\n",
              "      <td>[53403, 21758, 15, 8, 1005, 3]</td>\n",
              "      <td>[53403, 21758, 24, 2, 90, 677, 442, 6907, 12, 1022, 488, 1456, 25, 16, 8, 298, 8998, 2, 637, 524, 1542, 2, 4820, 2, 12604, 2, 6, 3511, 2499, 3]</td>\n",
              "      <td>0</td>\n",
              "    </tr>\n",
              "    <tr>\n",
              "      <th>3</th>\n",
              "      <td>[1323, 32, 2224, 654, 12, 4740, 2755, 3]</td>\n",
              "      <td>[1, 584, 58, 1535, 4214, 7817, 2224, 654, 12, 4740, 2755, 2724, 8, 324, 5406, 2, 18, 202, 30455, 4058, 5787, 8331, 3]</td>\n",
              "      <td>1</td>\n",
              "    </tr>\n",
              "    <tr>\n",
              "      <th>4</th>\n",
              "      <td>[1323, 261, 37, 34, 2224, 654, 12, 4740, 2755, 3]</td>\n",
              "      <td>[1, 584, 58, 1535, 4214, 7817, 2224, 654, 12, 4740, 2755, 2724, 8, 324, 5406, 2, 18, 202, 30455, 4058, 5787, 8331, 3]</td>\n",
              "      <td>0</td>\n",
              "    </tr>\n",
              "  </tbody>\n",
              "</table>\n",
              "</div>"
            ],
            "text/plain": [
              "                                               Claim  ... Label\n",
              "0          [2103, 107954, 790, 7, 8, 2616, 20647, 3]  ...     1\n",
              "1                     [53403, 21758, 15, 8, 1542, 3]  ...     1\n",
              "2                     [53403, 21758, 15, 8, 1005, 3]  ...     0\n",
              "3           [1323, 32, 2224, 654, 12, 4740, 2755, 3]  ...     1\n",
              "4  [1323, 261, 37, 34, 2224, 654, 12, 4740, 2755, 3]  ...     0\n",
              "\n",
              "[5 rows x 3 columns]"
            ]
          },
          "metadata": {
            "tags": []
          },
          "execution_count": 18
        }
      ]
    },
    {
      "cell_type": "code",
      "metadata": {
        "id": "dSlPHZ_eeg7g",
        "trusted": true,
        "scrolled": false
      },
      "source": [
        "def build_embedding_matrix(vocab=vocab, embedding_model=glove, embedding_dimension=50) :\n",
        "  matrix = [np.zeros((embedding_dimension))] # first element reserved to padding and set to all zeros\n",
        "  for w in vocab :\n",
        "    if w in embedding_model.vocab :\n",
        "      matrix.append(embedding_model[w])\n",
        "    else:\n",
        "      matrix.append(np.random.uniform(low=-1.0, high=1.0, size=embedding_dimension))\n",
        "  return np.array(matrix)"
      ],
      "execution_count": 19,
      "outputs": []
    },
    {
      "cell_type": "code",
      "metadata": {
        "id": "3KoXDFWFggYm",
        "trusted": true,
        "scrolled": false,
        "colab": {
          "base_uri": "https://localhost:8080/"
        },
        "outputId": "c6d8bac7-e8e6-4800-8954-7735a081a396"
      },
      "source": [
        "embedding_matrix = build_embedding_matrix(vocab, glove, 50)\n",
        "embedding_matrix.shape"
      ],
      "execution_count": 20,
      "outputs": [
        {
          "output_type": "execute_result",
          "data": {
            "text/plain": [
              "(403507, 50)"
            ]
          },
          "metadata": {
            "tags": []
          },
          "execution_count": 20
        }
      ]
    },
    {
      "cell_type": "code",
      "metadata": {
        "id": "QTBHN_H79zQd",
        "trusted": true,
        "scrolled": false
      },
      "source": [
        "from tensorflow.keras.preprocessing.sequence import pad_sequences"
      ],
      "execution_count": 21,
      "outputs": []
    },
    {
      "cell_type": "code",
      "metadata": {
        "id": "a8EgkVgv0G5s",
        "trusted": true,
        "scrolled": false
      },
      "source": [
        "max_length = pad_sequences(enc_train_df['Evidence'], padding='post').shape[1]"
      ],
      "execution_count": 22,
      "outputs": []
    },
    {
      "cell_type": "code",
      "metadata": {
        "id": "iiuWDcydpcch",
        "trusted": true,
        "scrolled": false
      },
      "source": [
        "enc_val_df = encode_df(tokenize_df(val_df), word_to_idx)\n",
        "enc_test_df = encode_df(tokenize_df(test_df), word_to_idx)"
      ],
      "execution_count": 23,
      "outputs": []
    },
    {
      "cell_type": "code",
      "metadata": {
        "id": "AdeqmHXT0ogd",
        "trusted": true,
        "scrolled": false
      },
      "source": [
        "pad_train_claim = pad_sequences(enc_train_df['Claim'], maxlen=max_length, padding='post')\n",
        "pad_train_evidence = pad_sequences(enc_train_df['Evidence'], maxlen=max_length, padding='post')\n",
        "\n",
        "pad_val_claim = pad_sequences(enc_val_df['Claim'], maxlen=max_length, padding='post')\n",
        "pad_val_evidence = pad_sequences(enc_val_df['Evidence'], maxlen=max_length, padding='post')\n",
        "\n",
        "pad_test_claim = pad_sequences(enc_test_df['Claim'], maxlen=max_length, padding='post')\n",
        "pad_test_evidence = pad_sequences(enc_test_df['Evidence'], maxlen=max_length, padding='post')"
      ],
      "execution_count": 24,
      "outputs": []
    },
    {
      "cell_type": "code",
      "metadata": {
        "id": "ClqPYKKYm33K",
        "trusted": true,
        "scrolled": false,
        "colab": {
          "base_uri": "https://localhost:8080/"
        },
        "outputId": "b173a25d-0f91-4ecd-a404-1a3191b649f4"
      },
      "source": [
        "pad_train_claim.shape, pad_train_evidence.shape"
      ],
      "execution_count": 25,
      "outputs": [
        {
          "output_type": "execute_result",
          "data": {
            "text/plain": [
              "((121740, 144), (121740, 144))"
            ]
          },
          "metadata": {
            "tags": []
          },
          "execution_count": 25
        }
      ]
    },
    {
      "cell_type": "code",
      "metadata": {
        "id": "vtJqGsYxn49C",
        "trusted": true,
        "scrolled": false
      },
      "source": [
        "#tok_train_df[\"Claim\"][(tokenize_df(val_df).applymap(len))['Evidence'].argmax()]"
      ],
      "execution_count": 26,
      "outputs": []
    },
    {
      "cell_type": "markdown",
      "metadata": {
        "id": "DnFTWyj3CnCW"
      },
      "source": [
        "## Model definition"
      ]
    },
    {
      "cell_type": "code",
      "metadata": {
        "id": "OgzuV5-OgxCQ",
        "trusted": true,
        "scrolled": false
      },
      "source": [
        "import tensorflow as tf\n",
        "import tensorflow.keras.backend as K\n",
        "from tensorflow.keras.models import Sequential, Model\n",
        "from tensorflow.keras.layers import Input, Dense, Embedding, Bidirectional, \\\n",
        "                                    LSTM, GRU, Lambda, GlobalMaxPooling1D, GlobalAveragePooling1D, \\\n",
        "                                    Concatenate, Add, Average, Dropout, Flatten, TimeDistributed\n",
        "from tensorflow.keras.callbacks import EarlyStopping\n",
        "#from tensorflow.regularizers import L2\n",
        "from tensorflow.keras.optimizers import SGD, Adam\n",
        "\n",
        "from sklearn.metrics.pairwise import cosine_similarity\n",
        "\n",
        "# detect and init the TPU\n",
        "#tpu = tf.distribute.cluster_resolver.TPUClusterResolver()\n",
        "#tf.config.experimental_connect_to_cluster(tpu)\n",
        "#tf.tpu.experimental.initialize_tpu_system(tpu)\n",
        "\n",
        "# instantiate a distribution strategy\n",
        "#tpu_strategy = tf.distribute.experimental.TPUStrategy(tpu)\n",
        "\n",
        "tf.random.set_seed(42)"
      ],
      "execution_count": 27,
      "outputs": []
    },
    {
      "cell_type": "code",
      "metadata": {
        "id": "dBJQgMhuEmeR",
        "trusted": true,
        "scrolled": false
      },
      "source": [
        "def build_embedding_layer(embedding_matrix, name=None) :\n",
        "    embedding_layer = Embedding(\n",
        "        embedding_matrix.shape[0],    # vocab size \n",
        "        embedding_matrix.shape[1],    # embedding dimension\n",
        "        #embeddings_initializer=tf.initializers.Constant(embedding_matrix),\n",
        "        weights = [embedding_matrix],\n",
        "        mask_zero = True,\n",
        "        name = name,\n",
        "        trainable = False\n",
        "    )\n",
        "    return embedding_layer"
      ],
      "execution_count": 28,
      "outputs": []
    },
    {
      "cell_type": "code",
      "metadata": {
        "id": "vsgHKP72EG3i",
        "trusted": true,
        "scrolled": false
      },
      "source": [
        "def build_sent_emb(units, multi_input='average', name=None) :\n",
        "  sent_emb = Sequential(name=name)\n",
        "  if multi_input == 'last_state' :\n",
        "    sent_emb.add(Bidirectional(LSTM(units, return_sequences=False)))\n",
        "  elif multi_input == 'average' :\n",
        "    sent_emb.add(Bidirectional(LSTM(units, return_sequences=True)))\n",
        "    sent_emb.add(Lambda(lambda x: tf.reduce_mean(x, axis=1)))\n",
        "  elif multi_input == 'max' :\n",
        "    sent_emb.add(Bidirectional(LSTM(units, return_sequences=True)))\n",
        "    sent_emb.add(Lambda(lambda x: tf.reduce_max(x, axis=1)))\n",
        "  elif multi_input == 'mlp':\n",
        "    sent_emb.add(Flatten())\n",
        "    sent_emb.add(Dense(144, activation='relu'))\n",
        "    sent_emb.add(Dense(50, activation='relu'))\n",
        "  elif multi_input == 'bag_of_vectors' :\n",
        "    sent_emb.add(Lambda(lambda x: tf.reduce_mean(x, axis=1)))\n",
        "\n",
        "  return sent_emb"
      ],
      "execution_count": 29,
      "outputs": []
    },
    {
      "cell_type": "code",
      "metadata": {
        "id": "4XZANhw38wK5"
      },
      "source": [
        "def pairwise_cosine_sim(A_B):\n",
        "    \"\"\"\n",
        "    A [batch x n x d] tensor of n rows with d dimensions\n",
        "    B [batch x m x d] tensor of m rows with d dimensions\n",
        "\n",
        "    returns:\n",
        "    D [batch x n x m] tensor of cosine similarity scores between each point i<n, j<m\n",
        "    \"\"\"\n",
        "\n",
        "    A, B = A_B\n",
        "    cos_sim_func = tf.keras.losses.CosineSimilarity(axis=1)\n",
        "    return cos_sim_func(A, B)"
      ],
      "execution_count": 34,
      "outputs": []
    },
    {
      "cell_type": "code",
      "metadata": {
        "id": "hrjJ9z2gtD2o",
        "trusted": true,
        "scrolled": false
      },
      "source": [
        "tf.keras.backend.clear_session()\n",
        "\n",
        "def build_model(input_length, units, multi_input='average', merge_mode='concat', cos_sim_feature=False) :\n",
        "\n",
        "  claim = Input((input_length,), name='claim')\n",
        "  evidence = Input((input_length), name='evidence')\n",
        "\n",
        "  embedding_layer = build_embedding_layer(embedding_matrix, \"glove_embedding\")  \n",
        "    \n",
        "  embedding_c = embedding_layer(claim)\n",
        "  embedding_e = embedding_layer(evidence)\n",
        "\n",
        "  sent_emb_c = build_sent_emb(units, multi_input=multi_input, name=\"sent_emb_claim\") (embedding_c)\n",
        "  sent_emb_e = build_sent_emb(units, multi_input=multi_input, name=\"sent_emb_evidence\") (embedding_e)\n",
        "\n",
        "  #output = build_sent_emb(64,concat)\n",
        "\n",
        "  if merge_mode == 'concat' :\n",
        "    output = Concatenate(name='refined_input')([sent_emb_c, sent_emb_e])    # option 1\n",
        "  elif merge_mode == 'sum' :\n",
        "    output = Add()([sent_emb_c, sent_emb_e])                                # option 2\n",
        "  elif merge_mode == 'mean' :\n",
        "    output = Average()([sent_emb_c, sent_emb_e])                            # option 3\n",
        "  \n",
        "  if cos_sim_feature :\n",
        "    cos_sim = tf.keras.layers.Dot(axes=1, normalize=True, name=\"cosine_similarity\")([sent_emb_c, sent_emb_e])\n",
        "    output = Concatenate()([output, cos_sim])\n",
        "\n",
        "  output = Dense(max_length/2, activation='relu')(output)\n",
        "  output = Dropout(0.5)(output)\n",
        "  output = Dense(max_length/(2**2), activation='relu')(output)\n",
        "  #output = Dropout(0.5)(output)\n",
        "  output = Dense(max_length/(2**3), activation='relu')(output)\n",
        "  #output = Dropout(0.5)(output)\n",
        "  output = Dense(1, activation='sigmoid')(output)\n",
        "  return Model([claim, evidence], output)\n",
        "\n",
        "model = None\n",
        "#with tpu_strategy.scope():\n",
        "model = build_model(max_length, 128, multi_input='max', merge_mode='mean', cos_sim_feature=True)"
      ],
      "execution_count": 49,
      "outputs": []
    },
    {
      "cell_type": "markdown",
      "metadata": {
        "id": "OAsqp1XhCsEf"
      },
      "source": [
        "## Training"
      ]
    },
    {
      "cell_type": "code",
      "metadata": {
        "id": "IiDyD1yJyWFY",
        "trusted": true,
        "scrolled": false,
        "colab": {
          "base_uri": "https://localhost:8080/"
        },
        "outputId": "05ba2c02-e252-4b81-cf05-d220a6093c78"
      },
      "source": [
        "#with tpu_strategy.scope():\n",
        "model.compile(optimizer='adam', loss='binary_crossentropy', metrics=['accuracy'])\n",
        "model.summary()"
      ],
      "execution_count": 50,
      "outputs": [
        {
          "output_type": "stream",
          "text": [
            "Model: \"model\"\n",
            "__________________________________________________________________________________________________\n",
            "Layer (type)                    Output Shape         Param #     Connected to                     \n",
            "==================================================================================================\n",
            "claim (InputLayer)              [(None, 144)]        0                                            \n",
            "__________________________________________________________________________________________________\n",
            "evidence (InputLayer)           [(None, 144)]        0                                            \n",
            "__________________________________________________________________________________________________\n",
            "glove_embedding (Embedding)     (None, 144, 50)      20175350    claim[0][0]                      \n",
            "                                                                 evidence[0][0]                   \n",
            "__________________________________________________________________________________________________\n",
            "sent_emb_claim (Sequential)     (None, 256)          183296      glove_embedding[0][0]            \n",
            "__________________________________________________________________________________________________\n",
            "sent_emb_evidence (Sequential)  (None, 256)          183296      glove_embedding[1][0]            \n",
            "__________________________________________________________________________________________________\n",
            "average (Average)               (None, 256)          0           sent_emb_claim[0][0]             \n",
            "                                                                 sent_emb_evidence[0][0]          \n",
            "__________________________________________________________________________________________________\n",
            "cosine_similarity (Dot)         (None, 1)            0           sent_emb_claim[0][0]             \n",
            "                                                                 sent_emb_evidence[0][0]          \n",
            "__________________________________________________________________________________________________\n",
            "concatenate (Concatenate)       (None, 257)          0           average[0][0]                    \n",
            "                                                                 cosine_similarity[0][0]          \n",
            "__________________________________________________________________________________________________\n",
            "dense (Dense)                   (None, 72)           18576       concatenate[0][0]                \n",
            "__________________________________________________________________________________________________\n",
            "dropout (Dropout)               (None, 72)           0           dense[0][0]                      \n",
            "__________________________________________________________________________________________________\n",
            "dense_1 (Dense)                 (None, 36)           2628        dropout[0][0]                    \n",
            "__________________________________________________________________________________________________\n",
            "dense_2 (Dense)                 (None, 18)           666         dense_1[0][0]                    \n",
            "__________________________________________________________________________________________________\n",
            "dense_3 (Dense)                 (None, 1)            19          dense_2[0][0]                    \n",
            "==================================================================================================\n",
            "Total params: 20,563,831\n",
            "Trainable params: 388,481\n",
            "Non-trainable params: 20,175,350\n",
            "__________________________________________________________________________________________________\n"
          ],
          "name": "stdout"
        }
      ]
    },
    {
      "cell_type": "code",
      "metadata": {
        "id": "emdezuhn3vlc",
        "trusted": true,
        "scrolled": false,
        "colab": {
          "base_uri": "https://localhost:8080/"
        },
        "outputId": "d8f89541-8a8d-4ef1-91f9-63b78fff59b0"
      },
      "source": [
        "model.fit(x=(pad_train_claim, pad_train_evidence), \n",
        "          y=enc_train_df['Label'],\n",
        "          batch_size=64,\n",
        "          epochs=20,\n",
        "          #steps_per_epoch=5,\n",
        "          validation_data=((pad_val_claim, pad_val_evidence), enc_val_df['Label']),\n",
        "          callbacks = EarlyStopping(monitor='val_loss', patience=10, restore_best_weights=True),\n",
        "          #use_multiprocessing = True\n",
        "          )"
      ],
      "execution_count": 51,
      "outputs": [
        {
          "output_type": "stream",
          "text": [
            "Epoch 1/20\n",
            "1903/1903 [==============================] - 69s 30ms/step - loss: 0.5148 - accuracy: 0.7665 - val_loss: 0.6691 - val_accuracy: 0.6501\n",
            "Epoch 2/20\n",
            "1903/1903 [==============================] - 54s 28ms/step - loss: 0.3990 - accuracy: 0.8324 - val_loss: 0.5752 - val_accuracy: 0.6985\n",
            "Epoch 3/20\n",
            "1903/1903 [==============================] - 54s 28ms/step - loss: 0.3705 - accuracy: 0.8421 - val_loss: 0.5432 - val_accuracy: 0.7163\n",
            "Epoch 4/20\n",
            "1903/1903 [==============================] - 54s 28ms/step - loss: 0.3469 - accuracy: 0.8502 - val_loss: 0.5256 - val_accuracy: 0.7154\n",
            "Epoch 5/20\n",
            "1903/1903 [==============================] - 54s 28ms/step - loss: 0.3293 - accuracy: 0.8578 - val_loss: 0.5281 - val_accuracy: 0.7242\n",
            "Epoch 6/20\n",
            "1903/1903 [==============================] - 54s 28ms/step - loss: 0.3092 - accuracy: 0.8655 - val_loss: 0.5360 - val_accuracy: 0.7324\n",
            "Epoch 7/20\n",
            "1903/1903 [==============================] - 54s 28ms/step - loss: 0.2962 - accuracy: 0.8704 - val_loss: 0.5248 - val_accuracy: 0.7263\n",
            "Epoch 8/20\n",
            "1903/1903 [==============================] - 54s 28ms/step - loss: 0.2761 - accuracy: 0.8763 - val_loss: 0.5526 - val_accuracy: 0.7228\n",
            "Epoch 9/20\n",
            "1903/1903 [==============================] - 54s 28ms/step - loss: 0.2580 - accuracy: 0.8831 - val_loss: 0.5327 - val_accuracy: 0.7443\n",
            "Epoch 10/20\n",
            "1903/1903 [==============================] - 54s 28ms/step - loss: 0.2411 - accuracy: 0.8912 - val_loss: 0.5544 - val_accuracy: 0.7376\n",
            "Epoch 11/20\n",
            "1903/1903 [==============================] - 54s 29ms/step - loss: 0.2263 - accuracy: 0.8984 - val_loss: 0.5411 - val_accuracy: 0.7488\n",
            "Epoch 12/20\n",
            "1903/1903 [==============================] - 54s 28ms/step - loss: 0.2068 - accuracy: 0.9064 - val_loss: 0.5744 - val_accuracy: 0.7386\n",
            "Epoch 13/20\n",
            "1903/1903 [==============================] - 54s 28ms/step - loss: 0.1959 - accuracy: 0.9118 - val_loss: 0.5477 - val_accuracy: 0.7471\n",
            "Epoch 14/20\n",
            "1903/1903 [==============================] - 54s 28ms/step - loss: 0.1844 - accuracy: 0.9164 - val_loss: 0.5421 - val_accuracy: 0.7460\n",
            "Epoch 15/20\n",
            "1903/1903 [==============================] - 54s 28ms/step - loss: 0.1728 - accuracy: 0.9219 - val_loss: 0.6451 - val_accuracy: 0.7368\n",
            "Epoch 16/20\n",
            "1903/1903 [==============================] - 54s 28ms/step - loss: 0.1628 - accuracy: 0.9265 - val_loss: 0.5694 - val_accuracy: 0.7414\n",
            "Epoch 17/20\n",
            "1903/1903 [==============================] - 54s 28ms/step - loss: 0.1543 - accuracy: 0.9302 - val_loss: 0.5764 - val_accuracy: 0.7464\n"
          ],
          "name": "stdout"
        },
        {
          "output_type": "execute_result",
          "data": {
            "text/plain": [
              "<tensorflow.python.keras.callbacks.History at 0x7f8000752d68>"
            ]
          },
          "metadata": {
            "tags": []
          },
          "execution_count": 51
        }
      ]
    },
    {
      "cell_type": "code",
      "metadata": {
        "trusted": true,
        "id": "vAXdkm3FEmVp",
        "colab": {
          "base_uri": "https://localhost:8080/"
        },
        "outputId": "ba181304-20dd-4a27-bae6-402f0c2c8be3"
      },
      "source": [
        "model.evaluate((pad_test_claim, pad_test_evidence), enc_test_df[\"Label\"])"
      ],
      "execution_count": 52,
      "outputs": [
        {
          "output_type": "stream",
          "text": [
            "225/225 [==============================] - 2s 10ms/step - loss: 0.5445 - accuracy: 0.7137\n"
          ],
          "name": "stdout"
        },
        {
          "output_type": "execute_result",
          "data": {
            "text/plain": [
              "[0.5445263385772705, 0.7137293219566345]"
            ]
          },
          "metadata": {
            "tags": []
          },
          "execution_count": 52
        }
      ]
    },
    {
      "cell_type": "markdown",
      "metadata": {
        "id": "dzxK6rQRC0pC"
      },
      "source": [
        "## Evaluation"
      ]
    },
    {
      "cell_type": "markdown",
      "metadata": {
        "id": "-lcB4gMa550_"
      },
      "source": [
        "## Debug"
      ]
    },
    {
      "cell_type": "code",
      "metadata": {
        "colab": {
          "base_uri": "https://localhost:8080/"
        },
        "id": "fs5qkw2Lzi6C",
        "outputId": "392edb54-0c0b-48a9-dd34-9fbffd61e3fd"
      },
      "source": [
        "embedding_layer = build_embedding_layer(embedding_matrix=embedding_matrix)\n",
        "debug_sent_emb = build_sent_emb(max_length)\n",
        "id = 0\n",
        "v1 = debug_sent_emb(embedding_layer(pad_train_claim[id].reshape(1,-1)))\n",
        "v2 = debug_sent_emb(embedding_layer(pad_train_evidence[id].reshape(1,-1)))\n",
        "cos_sim_funct = tf.keras.losses.CosineSimilarity(axis=1)\n",
        "#tf.reshape(-cos_sim_funct(v1,v2), [1,])\n",
        "tf.keras.layers.Dot(axes=1, normalize=True)([v1,v2])"
      ],
      "execution_count": 40,
      "outputs": [
        {
          "output_type": "execute_result",
          "data": {
            "text/plain": [
              "<tf.Tensor: shape=(1, 1), dtype=float32, numpy=array([[0.843035]], dtype=float32)>"
            ]
          },
          "metadata": {
            "tags": []
          },
          "execution_count": 40
        }
      ]
    },
    {
      "cell_type": "code",
      "metadata": {
        "id": "zeaKEOpyesqA",
        "trusted": true,
        "scrolled": false
      },
      "source": [
        "# Example 4\n",
        "id1 = 0\n",
        "#id1 = 78061\n",
        "#id1 = 7612\n",
        "v1 = sent_emb(pad_sequences(enc_train_df['Claim'], maxlen=max_length, padding='post')[id1].reshape(1, -1))\n",
        "v2 = sent_emb(pad_sequences(enc_train_df['Evidence'], maxlen=max_length, padding='post')[id1].reshape(1, -1))\n",
        "sim = cosine_similarity(v1, v2)\n",
        "print(f'similarity between \\\"{train_df[\"Claim\"][id1]}\\\" and \\\"{train_df[\"Evidence\"][id1]}\\\":')\n",
        "print(sim)"
      ],
      "execution_count": null,
      "outputs": []
    },
    {
      "cell_type": "code",
      "metadata": {
        "id": "Z1dtoIXR2jkj",
        "trusted": true,
        "scrolled": false
      },
      "source": [
        "# Example 1\n",
        "id1 = 7612\n",
        "id2 = 78061\n",
        "v1 = sent_emb(pad_sequences(enc_train_df['Claim'], padding='post')[id1].reshape(1, -1))\n",
        "v2 = sent_emb(pad_sequences(enc_train_df['Claim'], padding='post')[id2].reshape(1, -1))\n",
        "sim = cosine_similarity(v1, v2)\n",
        "print(f'similarity between \\\"{train_df[\"Claim\"][id1]}\\\" and \\\"{train_df[\"Claim\"][id2]}\\\":')\n",
        "print(sim)"
      ],
      "execution_count": null,
      "outputs": []
    },
    {
      "cell_type": "code",
      "metadata": {
        "id": "CMMPsVr_4hNy",
        "trusted": true,
        "scrolled": false
      },
      "source": [
        "# Example 2\n",
        "id1 = 1\n",
        "id2 = 2\n",
        "v1 = sent_emb(pad_sequences(enc_train_df['Claim'], padding='post')[id1].reshape(1, -1))\n",
        "v2 = sent_emb(pad_sequences(enc_train_df['Claim'], padding='post')[id2].reshape(1, -1))\n",
        "sim = cosine_similarity(v1, v2)\n",
        "print(f'similarity between \\\"{train_df[\"Claim\"][id1]}\\\" and \\\"{train_df[\"Claim\"][id2]}\\\":')\n",
        "print(sim)\n",
        "#embedding_layer(pad_sequences(enc_train_df['Claim'], padding='post')[0].reshape(1, -1)).shape"
      ],
      "execution_count": null,
      "outputs": []
    },
    {
      "cell_type": "code",
      "metadata": {
        "id": "kkSBdwbaJEjg",
        "trusted": true,
        "scrolled": false
      },
      "source": [
        "# Example 3\n",
        "id1 = 0\n",
        "id2 = 3\n",
        "v1 = sent_emb(pad_sequences(enc_train_df['Claim'], padding='post')[id1].reshape(1, -1))\n",
        "v2 = sent_emb(pad_sequences(enc_train_df['Claim'], padding='post')[id2].reshape(1, -1))\n",
        "sim = cosine_similarity(v1, v2)\n",
        "print(f'similarity between \\\"{train_df[\"Claim\"][id1]}\\\" and \\\"{train_df[\"Claim\"][id2]}\\\":')\n",
        "print(sim)\n",
        "#embedding_layer(pad_sequences(enc_train_df['Claim'], padding='post')[0].reshape(1, -1)).shape"
      ],
      "execution_count": null,
      "outputs": []
    },
    {
      "cell_type": "code",
      "metadata": {
        "id": "q5j1ow_NdLOi",
        "trusted": true,
        "scrolled": false
      },
      "source": [
        "glove.similarity('american', 'swedish')"
      ],
      "execution_count": null,
      "outputs": []
    },
    {
      "cell_type": "code",
      "metadata": {
        "id": "H8Ha0LFP6Sy2",
        "trusted": true,
        "scrolled": false
      },
      "source": [
        "len(enc_train_df[\"Evidence\"][3])"
      ],
      "execution_count": null,
      "outputs": []
    },
    {
      "cell_type": "code",
      "metadata": {
        "id": "5uozkFV_HdGs",
        "trusted": true,
        "scrolled": false
      },
      "source": [
        "# debug\n",
        "train_df[train_df[\"Evidence\"].str.contains(\"Swift\")]"
      ],
      "execution_count": null,
      "outputs": []
    }
  ]
}