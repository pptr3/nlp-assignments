{
  "nbformat": 4,
  "nbformat_minor": 0,
  "metadata": {
    "colab": {
      "name": "Assignment_4.ipynb",
      "provenance": [],
      "collapsed_sections": [],
      "toc_visible": true
    },
    "kernelspec": {
      "name": "python3",
      "display_name": "Python 3"
    }
  },
  "cells": [
    {
      "cell_type": "markdown",
      "metadata": {
        "id": "3GM9DBN-Qz3k"
      },
      "source": [
        "# Assignment 4\n",
        "\n",
        "**Due to**: TBD\n",
        "\n",
        "**Credits**: Andrea Galassi, Federico Ruggeri, Paolo Torroni\n",
        "\n",
        "**Summary**: Fact checking, Neural Languange Inference (**NLI**)"
      ]
    },
    {
      "cell_type": "markdown",
      "metadata": {
        "id": "tO_-4CZeRCO7"
      },
      "source": [
        "# Intro\n",
        "\n",
        "This assignment is centred on a particular and emerging NLP task, formally known as **fact checking** (or fake checking). As AI techniques become more and more powerful, reaching amazing results, such as image and text generation, it is more than ever necessary to build tools able to distinguish what is real from what is fake.\n",
        "\n",
        "Here we focus on a small portion of the whole fact checking problem, which aims to determine whether a given statement (fact) conveys a trustworthy information or not. \n",
        "\n",
        "More precisely, given a set of evidences and a fact to verify, we would like our model to correctly predict whether the fact is true or fake.\n",
        "\n",
        "In particular, we will see:\n",
        "\n",
        "*   Dataset preparation (analysis and pre-processing)\n",
        "*   Problem formulation: multi-input binary classification\n",
        "*   Defining an evaluation method\n",
        "*   Simple sentence embedding\n",
        "*   Neural building blocks\n",
        "*   Neural architecture extension"
      ]
    },
    {
      "cell_type": "markdown",
      "metadata": {
        "id": "hGDwg78PS_uy"
      },
      "source": [
        "# The FEVER dataset\n",
        "\n",
        "First of all, we need to choose a dataset. In this assignment we will rely on the [FEVER dataset](https://fever.ai).\n",
        "\n",
        "The dataset is about facts taken from Wikipedia documents that have to be verified. In particular, facts could face manual modifications in order to define fake information or to give different formulations of the same concept.\n",
        "\n",
        "The dataset consists of 185,445 claims manually verified against the introductory sections of Wikipedia pages and classified as ```Supported```, ```Refuted``` or ```NotEnoughInfo```. For the first two classes, systems and annotators need to also return the combination of sentences forming the necessary evidence supporting or refuting the claim."
      ]
    },
    {
      "cell_type": "markdown",
      "metadata": {
        "id": "4Oa5FpVpT7p4"
      },
      "source": [
        "## Dataset structure\n",
        "\n",
        "Relevant data is divided into two file types. Information concerning the fact to verify, its verdict and associated supporting/opposing statements are stored in **.jsonl** format. In particular, each JSON element is a python dictionary with the following relevant fields:\n",
        "\n",
        "*    **ID**: ID associated to the fact to verify.\n",
        "\n",
        "*    **Verifiable**: whether the fact has been verified or not: ```VERIFIABLE``` or ```NOT VERIFIABLE```.\n",
        "    \n",
        "*    **Label**: the final verdict on the fact to verify: ```SUPPORTS```, ```REFUTES``` or ```NOT ENOUGH INFO```.\n",
        "    \n",
        "*    **Claim**: the fact to verify.\n",
        "    \n",
        "*    **Evidence**: a nested list of document IDs along with the sentence ID that is associated to the fact to verify. In particular, each list element is a tuple of four elements: the first two are internal annotator IDs that can be safely ignored; the third term is the document ID (called URL) and the last one is the sentence number (ID) in the pointed document to consider.\n",
        "\n",
        "**Some Examples**\n",
        "\n",
        "---\n",
        "\n",
        "**Verifiable**\n",
        "\n",
        "{\"id\": 202314, \"verifiable\": \"VERIFIABLE\", \"label\": \"REFUTES\", \"claim\": \"The New Jersey Turnpike has zero shoulders.\", \"evidence\": [[[238335, 240393, \"New_Jersey_Turnpike\", 15]]]}\n",
        "\n",
        "---\n",
        "\n",
        "**Not Verifiable**\n",
        "\n",
        "{\"id\": 113501, \"verifiable\": \"NOT VERIFIABLE\", \"label\": \"NOT ENOUGH INFO\", \"claim\": \"Grease had bad reviews.\", \"evidence\": [[[133128, null, null, null]]]}\n",
        "\n",
        "---"
      ]
    },
    {
      "cell_type": "markdown",
      "metadata": {
        "id": "nex_8UM4VWuY"
      },
      "source": [
        "## Some simplifications and pre-processing\n",
        "\n",
        "We are only interested in verifiable facts. Thus, we can filter out all non-verifiable claims.\n",
        "\n",
        "Additionally, the current dataset format does not contain all necessary information for our classification purposes. In particular, we need to download Wikipedia documents and replace reported evidence IDs with the corresponding text.\n",
        "\n",
        "Don't worry about that! We are providing you the already pre-processed dataset so that you can concentrate on the classification pipeline (pre-processing, model definition, evaluation and training).\n",
        "\n",
        "You can download the zip file containing all set splits (train, validation and test) of the FEVER dataset by clicking on this [link](https://drive.google.com/file/d/1wArZhF9_SHW17WKNGeLmX-QTYw9Zscl1/view?usp=sharing). Alternatively, run the below code cell to automatically download it on this notebook.\n",
        "\n",
        "**Note**: each dataset split is in .csv format. Feel free to inspect the whole dataset!"
      ]
    },
    {
      "cell_type": "code",
      "metadata": {
        "id": "BspxZcRjW0NG"
      },
      "source": [
        "import os\n",
        "import requests\n",
        "import zipfile\n",
        "\n",
        "def save_response_content(response, destination):\n",
        "    CHUNK_SIZE = 32768\n",
        "\n",
        "    with open(destination, \"wb\") as f:\n",
        "        for chunk in response.iter_content(CHUNK_SIZE):\n",
        "            if chunk: # filter out keep-alive new chunks\n",
        "                f.write(chunk)\n",
        "\n",
        "def download_data(data_path):\n",
        "    toy_data_path = os.path.join(data_path, 'fever_data.zip')\n",
        "    toy_data_url_id = \"1wArZhF9_SHW17WKNGeLmX-QTYw9Zscl1\"\n",
        "    toy_url = \"https://docs.google.com/uc?export=download\"\n",
        "\n",
        "    if not os.path.exists(data_path):\n",
        "        os.makedirs(data_path)\n",
        "\n",
        "    if not os.path.exists(toy_data_path):\n",
        "        print(\"Downloading FEVER data splits...\")\n",
        "        with requests.Session() as current_session:\n",
        "            response = current_session.get(toy_url,\n",
        "                                   params={'id': toy_data_url_id},\n",
        "                                   stream=True)\n",
        "        save_response_content(response, toy_data_path)\n",
        "        print(\"Download completed!\")\n",
        "\n",
        "        print(\"Extracting dataset...\")\n",
        "        with zipfile.ZipFile(toy_data_path) as loaded_zip:\n",
        "            loaded_zip.extractall(data_path)\n",
        "        print(\"Extraction completed!\")\n",
        "\n",
        "download_data('dataset')"
      ],
      "execution_count": 2,
      "outputs": []
    },
    {
      "cell_type": "markdown",
      "metadata": {
        "id": "RbH_8errW5MH"
      },
      "source": [
        "# Classification dataset\n",
        "\n",
        "At this point, you should have a reay-to-go dataset! Note that the dataset format changed as well! In particular, we split the evidence set associated to each claim, in order to build (claim, evidence) pairs. The classification label is propagated as well.\n",
        "\n",
        "We'll motivate this decision in the next section!\n",
        "\n",
        "Just for clarity, here's an example of the pre-processed dataset:\n",
        "\n",
        "---\n",
        "\n",
        "**Claim**: \"Wentworth Miller is yet to make his screenwriting debut.\"\n",
        "\n",
        "**Evidence**: \"2\tHe made his screenwriting debut with the 2013 thriller film Stoker .\tStoker\tStoker (film)\"\n",
        "\n",
        "**Label**: Refutes\n",
        "\n",
        "---\n",
        "\n",
        "**Note**: The dataset requires some text cleaning as you may notice!\n"
      ]
    },
    {
      "cell_type": "markdown",
      "metadata": {
        "id": "gH8hIK21Xrl0"
      },
      "source": [
        "# Problem formulation\n",
        "\n",
        "As mentioned at the beginning of the assignment, we are going to formulate the fact checking problem as a binary classification task.\n",
        "\n",
        "In particular, each dataset sample is comprised of:\n",
        "\n",
        "*     A claim to verify\n",
        "*     A set of semantically related statements (evidence set)\n",
        "*     Fact checking label: either evidences support or refute the claim.\n",
        "\n",
        "Handling the evidence set from the point of view of neural models may imply some additional complexity: if the evidence set is comprised of several sentences we might incur in memory problems.\n",
        "\n",
        "To this end, we further simplify the problem by building (claim, evidence) pairs. The fact checking label is propagated as well.\n",
        "\n",
        "Example:\n",
        "\n",
        "     Claim: c1 \n",
        "     Evidence set: [e1, e2, e3]\n",
        "     Label: S (support)\n",
        "\n",
        "--->\n",
        "\n",
        "    (c1, e1, S),\n",
        "    (c1, e2, S),\n",
        "    (c1, e3, S)"
      ]
    },
    {
      "cell_type": "markdown",
      "metadata": {
        "id": "E46flIz_zQy-"
      },
      "source": [
        "## Schema\n",
        "\n",
        "The overall binary classification problem is summed up by the following (simplified) schema\n",
        "\n",
        "![](https://drive.google.com/uc?export=view&id=1Wm_YBnFwgJtxcWEBpPbTBEVkpKaL08Jp)\n",
        "\n",
        "Don't worry too much about the **Encoding** block for now. We'll give you some simple guidelines about its definition. For the moment, stick to the binary classification task definition where, in this case, we have 2 inputs: the claim to verify and one of its associated evidences."
      ]
    },
    {
      "cell_type": "markdown",
      "metadata": {
        "id": "LsiTV-NVdgsF"
      },
      "source": [
        "# Architecture Guidelines\n",
        "\n",
        "There are many neural architectures that follow the above schema. To avoid phenomena like the writer's block, in this section we are going to give you some implementation guidelines.\n",
        "\n",
        "In particular, we would like you to test some implementations so that you explore basic approaches (neural baselines) and use them as building blocks for possible extensions."
      ]
    },
    {
      "cell_type": "markdown",
      "metadata": {
        "id": "ZJBQm47fe7iE"
      },
      "source": [
        "## Handling multiple inputs\n",
        "\n",
        "The first thing to notice is that we are in a multi-input scenario. In particular, each sample is comprised of a fact and its asssociated evidence statement.\n",
        "\n",
        "Each of these input is encoded as a sequence of tokens. In particular, we will have the following input matrices:\n",
        "\n",
        "*    Claim: [batch_size, max_tokens]\n",
        "*    Evidence: [batch_size, max_tokens]\n",
        "\n",
        "Moreover, after the embedding layer, we'll have:\n",
        "\n",
        "*    Claim: [batch_size, max_tokens, embedding_dim]\n",
        "*    Evidence: [batch_size, max_tokens, embedding_dim]\n",
        "\n",
        "But, we would like to have a 2D input to our classifier, since we have to give an answer at pair level. Therefore, for each sample, we would expect the following input shape to our classification block:\n",
        "\n",
        "*   Classification input shape: [batch_size, dim]\n",
        "\n",
        "**How to do that?**\n",
        "\n",
        "We inherently need to reduce the token sequence to a single representation. This operation is formally known as **sentence embedding**. Indeed, we are trying to compress the information of a whole sequence into a single embedding vector.\n",
        "\n",
        "Here are some simple solutions that we ask you to try out:\n",
        "\n",
        "*   Encode token sequences via a RNN and take the last state as the sentence embedding.\n",
        "\n",
        "*   Encode token sequences via a RNN and average all the output states.\n",
        "\n",
        "*   Encode token sequences via a simple MLP layer. In particular, if your input is a [batch_size, max_tokens, embedding_dim] tensor, the matrix multiplication works on the **max_tokens** dimension, resulting in a [batch_size, embedding_dim] 2D matrix.\n",
        "\n",
        "*   Compute the sentence embedding as the mean of its token embeddings (**bag of vectors**)."
      ]
    },
    {
      "cell_type": "markdown",
      "metadata": {
        "id": "Gypl5z5ElJo1"
      },
      "source": [
        "## Merging multi-inputs\n",
        "\n",
        "At this point, we have to think about **how** we should merge evidence and claim sentence embeddings.\n",
        "\n",
        "For simplicity, we stick to simple merging strategies:\n",
        "\n",
        "*     **Concatenation**: define the classification input as the concatenation of evidence and claim sentence embeddings\n",
        "\n",
        "*     **Sum**: define the classification input as the sum of evidence and claim sentence embeddings\n",
        "\n",
        "*     **Mean**: define the classification input as the mean of evidence and claim sentence embeddings\n",
        "\n",
        "For clarity, if we the sentence embedding of a single input has shape [batch_size, embedding_dim], then the classification input has shape:\n",
        "\n",
        "*     **Concatenation**: [batch_size, 2 * embedding_dim]\n",
        "\n",
        "*     **Sum**: [batch_size, embedding_dim]\n",
        "\n",
        "*     **Mean**: [batch_size, embedding_dim]"
      ]
    },
    {
      "cell_type": "markdown",
      "metadata": {
        "id": "IhVg9ZLymOUc"
      },
      "source": [
        "# A simple extension\n",
        "\n",
        "Lastly, we ask you to modify previously defined neural architectures by adding an additional feature to the classification input.\n",
        "\n",
        "We would like to see if some similarity information between the claim to verify and one of its associated evidence might be useful to the classification.\n",
        "\n",
        "Compute the cosine similarity metric between the two sentence embeddings and concatenate the result to the classification input.\n",
        "\n",
        "For clarity, since the cosine similarity of two vectors outputs a scalar value, the classification input shape is modified as follows:\n",
        "\n",
        "*     **Concatenation**: [batch_size, 2 * embedding_dim + 1]\n",
        "\n",
        "*     **Sum**: [batch_size, embedding_dim + 1]\n",
        "\n",
        "*     **Mean**: [batch_size, embedding_dim + 1]\n",
        "\n"
      ]
    },
    {
      "cell_type": "markdown",
      "metadata": {
        "id": "Nd74ULgpnJrc"
      },
      "source": [
        "# Performance evaluation\n",
        "\n",
        "Due to our simplifications, obtained results are not directly compatible with a traditional fact checking method that considers the evidence set as a whole.\n",
        "\n",
        "Thus, we need to consider two types of evaluations.\n",
        "\n",
        "**Multi-input classification evaluation**\n",
        "\n",
        "This type of evaluation is the easiest and concerns computing evaluation metrics, such as accuracy, f1-score, recall and precision, of our pre-processed dataset.\n",
        "\n",
        "In other words, we assess the performance of chosen classifiers.\n",
        "\n",
        "**Claim verification evaluation**\n",
        "\n",
        "However, if we want to give an answer concerning the claim itself, we need to consider the whole evidence set. \n",
        "\n",
        "Intuitively, for a given claim, we consider all its corresponding (claim, evidence) pairs and their corresponding classification outputs. \n",
        "\n",
        "At this point, all we need to do is to compute the final predicted claim label via majority voting.\n",
        "\n",
        "Example:\n",
        "\n",
        "    Claim: c1\n",
        "    Evidence set: e1, e2, e3\n",
        "    True label: S\n",
        "\n",
        "    Pair outputs:\n",
        "    (c1, e1) -> S (supports)\n",
        "    (c1, e2) -> S (supports)\n",
        "    (c1, e3) -> R (refutes)\n",
        "\n",
        "    Majority voting:\n",
        "    S -> 2 votes\n",
        "    R -> 1 vote\n",
        "\n",
        "    Final label:\n",
        "    c1 -> S\n",
        "\n",
        "Lastly, we have to compute classification metrics just like before."
      ]
    },
    {
      "cell_type": "markdown",
      "metadata": {
        "id": "W4LJ2yPxsUOV"
      },
      "source": [
        "# Tips and Extras"
      ]
    },
    {
      "cell_type": "markdown",
      "metadata": {
        "id": "Uf80UVRNrXve"
      },
      "source": [
        "## Extensions are welcome!\n",
        "\n",
        "Is this task too easy for you? Are you curious to try out things you have seen during lectures (e.g. attention)? Feel free to try everything you want!\n",
        "\n",
        "Don't forget to try neural baselines first!"
      ]
    },
    {
      "cell_type": "markdown",
      "metadata": {
        "id": "COXeCXdYsBEf"
      },
      "source": [
        "## Comments and documentation\n",
        "\n",
        "Remember to properly comment your code (it is not necessary to comment each single line) and don't forget to describe your work!"
      ]
    },
    {
      "cell_type": "markdown",
      "metadata": {
        "id": "Ejv6SDE8xc4_"
      },
      "source": [
        "## Organization\n",
        "\n",
        "We suggest you to divide your work into sections. This allows you to build clean and modular code, as well as easy to read and to debug.\n",
        "\n",
        "A possible schema:\n",
        "\n",
        "*   Dataset pre-processing\n",
        "*   Dataset conversion\n",
        "*   Model definition\n",
        "*   Training\n",
        "*   Evaluation\n",
        "*   Comments/Summary"
      ]
    },
    {
      "cell_type": "markdown",
      "metadata": {
        "id": "9DR70uh7pabo"
      },
      "source": [
        "# Contact\n",
        "\n",
        "For any doubt, question, issue or help, you can always contact us at the following email addresses:\n",
        "\n",
        "Teaching Assistants:\n",
        "\n",
        "* Andrea Galassi -> a.galassi@unibo.it\n",
        "* Federico Ruggeri -> federico.ruggeri6@unibo.it\n",
        "\n",
        "Professor:\n",
        "\n",
        "* Paolo Torroni -> p.torroni@unibo.it\n",
        "\n",
        "Don't forget that your feedback is very important! Your suggestions help us improving course material."
      ]
    },
    {
      "cell_type": "markdown",
      "metadata": {
        "id": "Jc0gNWU2pgKQ"
      },
      "source": [
        "# FAQ\n",
        "\n",
        "---\n",
        "\n",
        "**Q: Can I do something text pre-processing?**\n",
        "\n",
        "**A:** You have to! If you check text data, the majority of sentences need some cleaning.\n",
        "\n",
        "---\n",
        "\n",
        "**Q: I'm struggling with the implementation. Can you help me?**\n",
        "\n",
        "**A:** Yes sure! Write us an email about your issue. If you are looking for a particular type of operation, you can easily check the documentation of the deep learning framework you are using (google is your friend).\n",
        "\n",
        "---\n",
        "\n",
        "**Q: Can I try other encoding strategies or neural architectures?**\n",
        "\n",
        "**A:** Absolutely! Remember to try out recommended neural baselines first and only then proceed with your extensions.\n",
        "\n",
        "---"
      ]
    },
    {
      "cell_type": "markdown",
      "metadata": {
        "id": "_stjmjcSx7cO"
      },
      "source": [
        "## Dataset pre-processing"
      ]
    },
    {
      "cell_type": "markdown",
      "metadata": {
        "id": "TnEY9yI3y0aU"
      },
      "source": [
        "### Dataset loading and inspection"
      ]
    },
    {
      "cell_type": "code",
      "metadata": {
        "id": "saWDqtJyx-90"
      },
      "source": [
        "import pandas as pd\n",
        "import numpy as np\n",
        "\n",
        "train_df = pd.read_csv(\"dataset/train_pairs.csv\")\n",
        "val_df   = pd.read_csv(\"dataset/val_pairs.csv\")\n",
        "test_df  = pd.read_csv(\"dataset/test_pairs.csv\")"
      ],
      "execution_count": 3,
      "outputs": []
    },
    {
      "cell_type": "code",
      "metadata": {
        "colab": {
          "base_uri": "https://localhost:8080/",
          "height": 201
        },
        "id": "IxsqxB6zyTXq",
        "outputId": "67593d54-98da-4da5-9a22-5f3cb9f9af8c"
      },
      "source": [
        "# inspect dataset\n",
        "train_df.head()"
      ],
      "execution_count": 4,
      "outputs": [
        {
          "output_type": "execute_result",
          "data": {
            "text/html": [
              "<div>\n",
              "<style scoped>\n",
              "    .dataframe tbody tr th:only-of-type {\n",
              "        vertical-align: middle;\n",
              "    }\n",
              "\n",
              "    .dataframe tbody tr th {\n",
              "        vertical-align: top;\n",
              "    }\n",
              "\n",
              "    .dataframe thead th {\n",
              "        text-align: right;\n",
              "    }\n",
              "</style>\n",
              "<table border=\"1\" class=\"dataframe\">\n",
              "  <thead>\n",
              "    <tr style=\"text-align: right;\">\n",
              "      <th></th>\n",
              "      <th>Unnamed: 0</th>\n",
              "      <th>Claim</th>\n",
              "      <th>Evidence</th>\n",
              "      <th>ID</th>\n",
              "      <th>Label</th>\n",
              "    </tr>\n",
              "  </thead>\n",
              "  <tbody>\n",
              "    <tr>\n",
              "      <th>0</th>\n",
              "      <td>0</td>\n",
              "      <td>Chris Hemsworth appeared in A Perfect Getaway.</td>\n",
              "      <td>2\\tHemsworth has also appeared in the science ...</td>\n",
              "      <td>3</td>\n",
              "      <td>SUPPORTS</td>\n",
              "    </tr>\n",
              "    <tr>\n",
              "      <th>1</th>\n",
              "      <td>1</td>\n",
              "      <td>Roald Dahl is a writer.</td>\n",
              "      <td>0\\tRoald Dahl -LRB- -LSB- langpronˈroʊ.əld _ ˈ...</td>\n",
              "      <td>7</td>\n",
              "      <td>SUPPORTS</td>\n",
              "    </tr>\n",
              "    <tr>\n",
              "      <th>2</th>\n",
              "      <td>2</td>\n",
              "      <td>Roald Dahl is a governor.</td>\n",
              "      <td>0\\tRoald Dahl -LRB- -LSB- langpronˈroʊ.əld _ ˈ...</td>\n",
              "      <td>8</td>\n",
              "      <td>REFUTES</td>\n",
              "    </tr>\n",
              "    <tr>\n",
              "      <th>3</th>\n",
              "      <td>3</td>\n",
              "      <td>Ireland has relatively low-lying mountains.</td>\n",
              "      <td>10\\tThe island 's geography comprises relative...</td>\n",
              "      <td>9</td>\n",
              "      <td>SUPPORTS</td>\n",
              "    </tr>\n",
              "    <tr>\n",
              "      <th>4</th>\n",
              "      <td>4</td>\n",
              "      <td>Ireland does not have relatively low-lying mou...</td>\n",
              "      <td>10\\tThe island 's geography comprises relative...</td>\n",
              "      <td>10</td>\n",
              "      <td>REFUTES</td>\n",
              "    </tr>\n",
              "  </tbody>\n",
              "</table>\n",
              "</div>"
            ],
            "text/plain": [
              "   Unnamed: 0                                              Claim  ...  ID     Label\n",
              "0           0     Chris Hemsworth appeared in A Perfect Getaway.  ...   3  SUPPORTS\n",
              "1           1                            Roald Dahl is a writer.  ...   7  SUPPORTS\n",
              "2           2                          Roald Dahl is a governor.  ...   8   REFUTES\n",
              "3           3        Ireland has relatively low-lying mountains.  ...   9  SUPPORTS\n",
              "4           4  Ireland does not have relatively low-lying mou...  ...  10   REFUTES\n",
              "\n",
              "[5 rows x 5 columns]"
            ]
          },
          "metadata": {
            "tags": []
          },
          "execution_count": 4
        }
      ]
    },
    {
      "cell_type": "markdown",
      "metadata": {
        "id": "Wf0sClvX4Wi0"
      },
      "source": [
        "### Preprocessing"
      ]
    },
    {
      "cell_type": "code",
      "metadata": {
        "colab": {
          "base_uri": "https://localhost:8080/"
        },
        "id": "3kHLyxhH4Vlu",
        "outputId": "fb9ad9f1-6f85-477e-8184-60026b64dd2b"
      },
      "source": [
        "# examine evidences\n",
        "print(train_df[\"Evidence\"][0])\n",
        "print(train_df[\"Evidence\"][993])"
      ],
      "execution_count": 5,
      "outputs": [
        {
          "output_type": "stream",
          "text": [
            "2\tHemsworth has also appeared in the science fiction action film Star Trek -LRB- 2009 -RRB- , the thriller adventure A Perfect Getaway -LRB- 2009 -RRB- , the horror comedy The Cabin in the Woods -LRB- 2012 -RRB- , the dark-fantasy action film Snow White and the Huntsman -LRB- 2012 -RRB- , the war film Red Dawn -LRB- 2012 -RRB- , and the biographical sports drama film Rush -LRB- 2013 -RRB- .\tStar Trek\tStar Trek (film)\tA Perfect Getaway\tA Perfect Getaway\tThe Cabin in the Woods\tThe Cabin in the Woods\tSnow White and the Huntsman\tSnow White and the Huntsman\tRed Dawn\tRed Dawn (2012 film)\tRush\tRush (2013 film)\n",
            "25\tShe has appeared in Time 100 most influential people in the world -LRB- 2010 and 2015 -RRB- , Forbes top-earning women in music -LRB- 2011 -- 2015 -RRB- , Forbes 100 most powerful women -LRB- 2015 -RRB- , and Forbes Celebrity 100 -LRB- 2016 -RRB- .\tTime\tTime (magazine)\t100 most influential people in the world\tTime 100\tForbes\tForbes\t100 most powerful women\tThe World's 100 Most Powerful Women\n"
          ],
          "name": "stdout"
        }
      ]
    },
    {
      "cell_type": "code",
      "metadata": {
        "id": "MDEwLHAv7ZaE"
      },
      "source": [
        "import re\n",
        "\n",
        "def preprocess_text(evidence) :\n",
        "  # remove leading tabs\n",
        "  pattern = r'[0-9]+\\t'\n",
        "  evidence = re.sub(pattern, '', evidence)\n",
        "\n",
        "  # remove pronunciations\n",
        "  pattern = r'-LSB-.*-RSB-(\\s;)*'\n",
        "  evidence = re.sub(pattern, '', evidence)\n",
        "\n",
        "  # convert -LRB- -RRB- to ( or )\n",
        "  pattern = r'-LRB-'\n",
        "  evidence = re.sub(pattern, '(', evidence)\n",
        "  pattern = r'-RRB-'\n",
        "  evidence = re.sub(pattern, ')', evidence)\n",
        "\n",
        "  # fix double dashes (--)\n",
        "  pattern = r'\\-\\-'\n",
        "  evidence = re.sub(pattern, '-', evidence)\n",
        "\n",
        "  # remove double spaces\n",
        "  pattern = r'(\\s)\\s+'\n",
        "  evidence = re.sub(pattern, r'\\1', evidence)\n",
        "\n",
        "  # remove trailing words (hyperlinks)\n",
        "  pattern = r'.\\t.*$'\n",
        "  evidence = re.sub(pattern, '.', evidence)\n",
        "\n",
        "  # make sure all possesive 's are split from other words\n",
        "  pattern = r\"(\\s.+)'s\"\n",
        "  evidence = re.sub(pattern, r\"\\1 's\", evidence)\n",
        "\n",
        "  # make sure all periods are split from other words\n",
        "  #pattern = r\"(\\s.+)\\.\"\n",
        "  #evidence = re.sub(pattern, r\"\\1 .\", evidence)\n",
        "\n",
        "  return evidence\n",
        "\n",
        "train_df[\"Claim\"] = train_df[\"Claim\"].apply(preprocess_text)\n",
        "train_df[\"Evidence\"] = train_df[\"Evidence\"].apply(preprocess_text)"
      ],
      "execution_count": 6,
      "outputs": []
    },
    {
      "cell_type": "code",
      "metadata": {
        "colab": {
          "base_uri": "https://localhost:8080/"
        },
        "id": "qOAg0oo-9C4v",
        "outputId": "6cb26d88-a4ee-4456-8854-41c7a4403080"
      },
      "source": [
        "print(train_df[\"Evidence\"][1])\n",
        "print(train_df[\"Claim\"][0])"
      ],
      "execution_count": 7,
      "outputs": [
        {
          "output_type": "stream",
          "text": [
            "Roald Dahl ( 13 September 1916 - 23 November 1990 ) was a British novelist , short story writer , poet , screenwriter , and fighter pilot .\n",
            "Chris Hemsworth appeared in A Perfect Getaway.\n"
          ],
          "name": "stdout"
        }
      ]
    },
    {
      "cell_type": "markdown",
      "metadata": {
        "id": "VY8kXXkECfun"
      },
      "source": [
        "## Dataset conversion"
      ]
    },
    {
      "cell_type": "code",
      "metadata": {
        "id": "pTx8EVe-Cd-r"
      },
      "source": [
        "#def encode\n",
        "\n",
        "def convert_facts(df) :\n",
        "  subdf = df[[\"Claim\", \"Evidence\", \"Label\"]]\n",
        "  return [tuple(x) for x in subdf.to_numpy()]"
      ],
      "execution_count": 8,
      "outputs": []
    },
    {
      "cell_type": "code",
      "metadata": {
        "id": "rTOKlA6yNvFh"
      },
      "source": [
        "from tensorflow.keras.preprocessing.text import Tokenizer\n",
        "import gensim.downloader as api\n",
        "from nltk.tokenize.treebank import TreebankWordTokenizer\n",
        "\n",
        "embedding_dimension = 50\n",
        "glove = api.load(f\"glove-wiki-gigaword-{embedding_dimension}\")"
      ],
      "execution_count": 9,
      "outputs": []
    },
    {
      "cell_type": "code",
      "metadata": {
        "id": "Gh0ZbOrs-MoK"
      },
      "source": [
        "# tokenizer based on penn treebank\n",
        "def tokenize_df(df) :\n",
        "  word_tokenizer = TreebankWordTokenizer()\n",
        "  tmp = pd.DataFrame(columns=[\"Claim\", \"Evidence\", \"Label\"])\n",
        "  for col in [\"Claim\", \"Evidence\"]:\n",
        "    tmp[col] = df[col].apply(lambda r: word_tokenizer.tokenize(r))\n",
        "    #tmp[col] = np.array([word_tokenizer.tokenize(r) for r in tmp[col]])\n",
        "  tmp[\"Label\"] = df[\"Label\"]\n",
        "  return tmp"
      ],
      "execution_count": 10,
      "outputs": []
    },
    {
      "cell_type": "code",
      "metadata": {
        "id": "WxCmr7Gdesue"
      },
      "source": [
        "tok_train_df = tokenize_df(train_df)"
      ],
      "execution_count": 11,
      "outputs": []
    },
    {
      "cell_type": "code",
      "metadata": {
        "id": "RShM58yRk5xg"
      },
      "source": [
        "# build vocab\n",
        "def build_vocab_from_df(df) :\n",
        "  ret = []\n",
        "  for col in [\"Claim\", \"Evidence\"] :\n",
        "    for r in df[col] :\n",
        "      ret += r\n",
        "  return ret\n",
        "\n",
        "vocab = list(glove.vocab.keys())                                    # glove vocab\n",
        "vocab += build_vocab_from_df(tok_train_df)   # add unique terms from claims\n",
        "# remove duplicates between glove vocab and dataset vocab while preserving order\n",
        "vocab = list(dict.fromkeys(vocab))"
      ],
      "execution_count": 12,
      "outputs": []
    },
    {
      "cell_type": "code",
      "metadata": {
        "id": "aMkztzj5MxKZ"
      },
      "source": [
        "# build word -> int encoding \n",
        "word_to_idx = dict(zip(vocab, range(1, len(vocab)+1))) # start from 1 to reserve 0 to padding"
      ],
      "execution_count": 13,
      "outputs": []
    },
    {
      "cell_type": "code",
      "metadata": {
        "id": "H0FpcuZziZ5T"
      },
      "source": [
        "def encode_sent(sent, word_to_idx=word_to_idx) :\n",
        "  return [word_to_idx[w] for w in sent]\n",
        "\n",
        "def encode_df(tok_df, word_to_idx) :\n",
        "  enc_df = pd.DataFrame(columns=[\"Claim\", \"Evidence\", \"Label\"])\n",
        "  for col in [\"Claim\", \"Evidence\"] :\n",
        "    enc_df[col] = tok_df[col].apply(lambda s: encode_sent(s, word_to_idx))\n",
        "  enc_df[\"Label\"] = tok_df[\"Label\"].apply(lambda x: 1 if x==\"SUPPORTS\" else 0)\n",
        "  return enc_df"
      ],
      "execution_count": 14,
      "outputs": []
    },
    {
      "cell_type": "code",
      "metadata": {
        "id": "D9N5pMhWz-b-"
      },
      "source": [
        "# encode dataset\n",
        "enc_train_df = encode_df(tok_train_df, word_to_idx)"
      ],
      "execution_count": 15,
      "outputs": []
    },
    {
      "cell_type": "code",
      "metadata": {
        "colab": {
          "base_uri": "https://localhost:8080/",
          "height": 201
        },
        "id": "yKh0MYoo3L4F",
        "outputId": "c76f7c6f-3c8d-4626-8ba1-274c98604010"
      },
      "source": [
        "enc_train_df.head()"
      ],
      "execution_count": 16,
      "outputs": [
        {
          "output_type": "execute_result",
          "data": {
            "text/html": [
              "<div>\n",
              "<style scoped>\n",
              "    .dataframe tbody tr th:only-of-type {\n",
              "        vertical-align: middle;\n",
              "    }\n",
              "\n",
              "    .dataframe tbody tr th {\n",
              "        vertical-align: top;\n",
              "    }\n",
              "\n",
              "    .dataframe thead th {\n",
              "        text-align: right;\n",
              "    }\n",
              "</style>\n",
              "<table border=\"1\" class=\"dataframe\">\n",
              "  <thead>\n",
              "    <tr style=\"text-align: right;\">\n",
              "      <th></th>\n",
              "      <th>Claim</th>\n",
              "      <th>Evidence</th>\n",
              "      <th>Label</th>\n",
              "    </tr>\n",
              "  </thead>\n",
              "  <tbody>\n",
              "    <tr>\n",
              "      <th>0</th>\n",
              "      <td>[400001, 400002, 790, 7, 400003, 400004, 40000...</td>\n",
              "      <td>[400002, 32, 53, 790, 7, 1, 1122, 3955, 609, 3...</td>\n",
              "      <td>1</td>\n",
              "    </tr>\n",
              "    <tr>\n",
              "      <th>1</th>\n",
              "      <td>[400006, 400007, 15, 8, 1542, 3]</td>\n",
              "      <td>[400006, 400007, 24, 677, 400434, 6907, 12, 10...</td>\n",
              "      <td>1</td>\n",
              "    </tr>\n",
              "    <tr>\n",
              "      <th>2</th>\n",
              "      <td>[400006, 400007, 15, 8, 1005, 3]</td>\n",
              "      <td>[400006, 400007, 24, 677, 400434, 6907, 12, 10...</td>\n",
              "      <td>0</td>\n",
              "    </tr>\n",
              "    <tr>\n",
              "      <th>3</th>\n",
              "      <td>[400008, 32, 2224, 46585, 2755, 3]</td>\n",
              "      <td>[400018, 584, 10, 4214, 7817, 2224, 46585, 275...</td>\n",
              "      <td>1</td>\n",
              "    </tr>\n",
              "    <tr>\n",
              "      <th>4</th>\n",
              "      <td>[400008, 261, 37, 34, 2224, 46585, 2755, 3]</td>\n",
              "      <td>[400018, 584, 10, 4214, 7817, 2224, 46585, 275...</td>\n",
              "      <td>0</td>\n",
              "    </tr>\n",
              "  </tbody>\n",
              "</table>\n",
              "</div>"
            ],
            "text/plain": [
              "                                               Claim  ... Label\n",
              "0  [400001, 400002, 790, 7, 400003, 400004, 40000...  ...     1\n",
              "1                   [400006, 400007, 15, 8, 1542, 3]  ...     1\n",
              "2                   [400006, 400007, 15, 8, 1005, 3]  ...     0\n",
              "3                 [400008, 32, 2224, 46585, 2755, 3]  ...     1\n",
              "4        [400008, 261, 37, 34, 2224, 46585, 2755, 3]  ...     0\n",
              "\n",
              "[5 rows x 3 columns]"
            ]
          },
          "metadata": {
            "tags": []
          },
          "execution_count": 16
        }
      ]
    },
    {
      "cell_type": "code",
      "metadata": {
        "id": "dSlPHZ_eeg7g"
      },
      "source": [
        "def build_embedding_matrix(vocab=vocab, embedding_model=glove, embedding_dimension=50) :\n",
        "  matrix = [np.zeros((embedding_dimension))] # first element reserved to padding and set to all zeros\n",
        "  for w in vocab :\n",
        "    if w in embedding_model.vocab :\n",
        "      matrix.append(embedding_model[w])\n",
        "    else:\n",
        "      matrix.append(np.random.uniform(low=-1.0, high=1.0, size=embedding_dimension))\n",
        "  return np.array(matrix)"
      ],
      "execution_count": 17,
      "outputs": []
    },
    {
      "cell_type": "code",
      "metadata": {
        "colab": {
          "base_uri": "https://localhost:8080/"
        },
        "id": "3KoXDFWFggYm",
        "outputId": "513846fc-ee68-462a-b58a-b25ce313554c"
      },
      "source": [
        "embedding_matrix = build_embedding_matrix(vocab, glove, 50)\n",
        "embedding_matrix.shape"
      ],
      "execution_count": 18,
      "outputs": [
        {
          "output_type": "execute_result",
          "data": {
            "text/plain": [
              "(422358, 50)"
            ]
          },
          "metadata": {
            "tags": []
          },
          "execution_count": 18
        }
      ]
    },
    {
      "cell_type": "code",
      "metadata": {
        "id": "OgzuV5-OgxCQ"
      },
      "source": [
        "import tensorflow as tf\n",
        "from tensorflow.keras.models import Sequential\n",
        "from tensorflow.keras.layers import Input, Dense, Embedding, Bidirectional, \\\n",
        "                                    LSTM, GRU, SimpleRNN, Lambda, TimeDistributed, \\\n",
        "                                    Masking, GlobalMaxPool1D, GlobalAveragePooling1D\n",
        "\n",
        "from tensorflow.keras.preprocessing.sequence import pad_sequences\n",
        "from sklearn.metrics.pairwise import cosine_similarity\n",
        "\n",
        "tf.random.set_seed(42)"
      ],
      "execution_count": 210,
      "outputs": []
    },
    {
      "cell_type": "code",
      "metadata": {
        "id": "dBJQgMhuEmeR"
      },
      "source": [
        "embedding_layer = Embedding(\n",
        "    embedding_matrix.shape[0],    # vocab size \n",
        "    embedding_matrix.shape[1],    # embedding dimension\n",
        "    embeddings_initializer=tf.initializers.Constant(embedding_matrix),\n",
        "    mask_zero = True,\n",
        "    name = 'embedding',\n",
        "    trainable = False\n",
        ")"
      ],
      "execution_count": 233,
      "outputs": []
    },
    {
      "cell_type": "code",
      "metadata": {
        "id": "a8EgkVgv0G5s"
      },
      "source": [
        "max_length = pad_sequences(enc_train_df['Claim'], padding='post').shape[1]"
      ],
      "execution_count": 234,
      "outputs": []
    },
    {
      "cell_type": "code",
      "metadata": {
        "id": "vsgHKP72EG3i"
      },
      "source": [
        "sent_emb = Sequential([\n",
        "  Input((max_length,)),\n",
        "  embedding_layer,\n",
        "  Bidirectional(LSTM(64, dropout=0.1, return_sequences=True)),\n",
        "  #Masking(mask_value=0.0),\n",
        "  #Lambda(lambda x: tf.keras.backend.max(x, axis=1)),\n",
        "  GlobalAveragePooling1D(),\n",
        "  #Dense(64, activation='relu'),\n",
        "  Dense(max_length),\n",
        "])"
      ],
      "execution_count": 235,
      "outputs": []
    },
    {
      "cell_type": "code",
      "metadata": {
        "colab": {
          "base_uri": "https://localhost:8080/"
        },
        "id": "Z1dtoIXR2jkj",
        "outputId": "2cfceba1-eba1-440a-c87b-908cde93d05b"
      },
      "source": [
        "# Example 1\n",
        "id1 = 7612\n",
        "id2 = 78061\n",
        "v1 = sent_emb(pad_sequences(enc_train_df['Claim'], padding='post')[id1].reshape(1, -1))\n",
        "v2 = sent_emb(pad_sequences(enc_train_df['Claim'], padding='post')[id2].reshape(1, -1))\n",
        "sim = cosine_similarity(v1, v2)\n",
        "print(f'similarity between \\\"{train_df[\"Claim\"][id1]}\\\" and \\\"{train_df[\"Claim\"][id2]}\\\":')\n",
        "print(sim)"
      ],
      "execution_count": 236,
      "outputs": [
        {
          "output_type": "stream",
          "text": [
            "similarity between \"Taylor Swift is American.\" and \"Taylor Swift is Swedish.\":\n",
            "[[0.89258456]]\n"
          ],
          "name": "stdout"
        }
      ]
    },
    {
      "cell_type": "code",
      "metadata": {
        "colab": {
          "base_uri": "https://localhost:8080/"
        },
        "id": "CMMPsVr_4hNy",
        "outputId": "d045542e-42ca-40b1-fe67-5c2758c1ca6d"
      },
      "source": [
        "# Example 2\n",
        "id1 = 1\n",
        "id2 = 2\n",
        "v1 = sent_emb(pad_sequences(enc_train_df['Claim'], padding='post')[id1].reshape(1, -1))\n",
        "v2 = sent_emb(pad_sequences(enc_train_df['Claim'], padding='post')[id2].reshape(1, -1))\n",
        "sim = cosine_similarity(v1, v2)\n",
        "print(f'similarity between \\\"{train_df[\"Claim\"][id1]}\\\" and \\\"{train_df[\"Claim\"][id2]}\\\":')\n",
        "print(sim)\n",
        "#embedding_layer(pad_sequences(enc_train_df['Claim'], padding='post')[0].reshape(1, -1)).shape"
      ],
      "execution_count": 239,
      "outputs": [
        {
          "output_type": "stream",
          "text": [
            "similarity between \"Roald Dahl is a writer.\" and \"Roald Dahl is a governor.\":\n",
            "[[0.94960487]]\n"
          ],
          "name": "stdout"
        }
      ]
    },
    {
      "cell_type": "code",
      "metadata": {
        "colab": {
          "base_uri": "https://localhost:8080/"
        },
        "id": "kkSBdwbaJEjg",
        "outputId": "b065427b-be1c-4f29-b683-71948cac4b3a"
      },
      "source": [
        "# Example 3\n",
        "id1 = 1\n",
        "id2 = 3\n",
        "v1 = sent_emb(pad_sequences(enc_train_df['Claim'], padding='post')[id1].reshape(1, -1))\n",
        "v2 = sent_emb(pad_sequences(enc_train_df['Claim'], padding='post')[id2].reshape(1, -1))\n",
        "sim = cosine_similarity(v1, v2)\n",
        "print(f'similarity between \\\"{train_df[\"Claim\"][id1]}\\\" and \\\"{train_df[\"Claim\"][id2]}\\\":')\n",
        "print(sim)\n",
        "#embedding_layer(pad_sequences(enc_train_df['Claim'], padding='post')[0].reshape(1, -1)).shape"
      ],
      "execution_count": 243,
      "outputs": [
        {
          "output_type": "stream",
          "text": [
            "similarity between \"Roald Dahl is a writer.\" and \"Ireland has relatively low-lying mountains.\":\n",
            "[[0.65764445]]\n"
          ],
          "name": "stdout"
        }
      ]
    },
    {
      "cell_type": "code",
      "metadata": {
        "colab": {
          "base_uri": "https://localhost:8080/"
        },
        "id": "H8Ha0LFP6Sy2",
        "outputId": "ae94323d-04df-46b1-c048-c4e184fb0d13"
      },
      "source": [
        "v1, v2"
      ],
      "execution_count": 238,
      "outputs": [
        {
          "output_type": "execute_result",
          "data": {
            "text/plain": [
              "(<tf.Tensor: shape=(1, 106), dtype=float32, numpy=\n",
              " array([[ 0.0733469 ,  0.15251358,  0.0106275 ,  0.1457072 ,  0.12304851,\n",
              "         -0.0996315 ,  0.09482317, -0.1737584 , -0.0511913 ,  0.16300121,\n",
              "         -0.01943305,  0.03660396,  0.19104612,  0.15384607, -0.02332837,\n",
              "          0.13408595,  0.10740199, -0.01351242, -0.01488731,  0.00768281,\n",
              "          0.03895962,  0.03393174,  0.12546334,  0.09452496,  0.06591238,\n",
              "         -0.08842507, -0.05251417, -0.13804843, -0.01463151,  0.04025523,\n",
              "         -0.15449685, -0.03164444,  0.18245469,  0.10937086,  0.06823758,\n",
              "          0.03931943, -0.0211962 ,  0.07966524, -0.00847159, -0.08341931,\n",
              "         -0.05444301, -0.17080972,  0.03284662,  0.03441506,  0.1025279 ,\n",
              "          0.0669111 , -0.03682306,  0.12638684, -0.02077837, -0.16984269,\n",
              "         -0.00961331,  0.01115265, -0.04577965, -0.166597  , -0.02705538,\n",
              "          0.2305887 ,  0.08687927, -0.0527461 ,  0.08031794, -0.04739888,\n",
              "         -0.00123595,  0.0892166 ,  0.03746177, -0.08503419,  0.05043335,\n",
              "          0.07475829,  0.09399326,  0.05616642,  0.03682089, -0.12498435,\n",
              "         -0.0242916 ,  0.16414289, -0.118781  ,  0.00330313, -0.09345733,\n",
              "          0.12516086, -0.09452781,  0.01418127,  0.31107962,  0.02890048,\n",
              "         -0.05280032, -0.06386844, -0.0070296 ,  0.09475721,  0.14963984,\n",
              "          0.10131809,  0.11419717,  0.01499697, -0.016808  , -0.12764221,\n",
              "         -0.0020509 ,  0.00558113, -0.08763428, -0.02632595,  0.0615172 ,\n",
              "         -0.13572283, -0.07648131,  0.03058829, -0.09267229,  0.11318029,\n",
              "         -0.0094252 ,  0.01211992,  0.04538459,  0.07132506, -0.05274675,\n",
              "          0.10395636]], dtype=float32)>,\n",
              " <tf.Tensor: shape=(1, 106), dtype=float32, numpy=\n",
              " array([[ 0.00249777,  0.06778762, -0.07781335,  0.22560024,  0.07401801,\n",
              "         -0.20155829,  0.04831507, -0.23665388,  0.07570941,  0.21263203,\n",
              "         -0.06877746,  0.03586778,  0.10235178,  0.10500574, -0.155661  ,\n",
              "          0.1339657 ,  0.01551916, -0.03071048,  0.25779527, -0.13658154,\n",
              "          0.02465812, -0.12258892,  0.20496318,  0.02303348, -0.0592071 ,\n",
              "          0.18020763, -0.03419645, -0.22036093, -0.01251205,  0.09657443,\n",
              "          0.11011284, -0.08609866,  0.16813692,  0.13897768,  0.14222224,\n",
              "          0.09403703,  0.09915241,  0.05597076, -0.08523887, -0.24637856,\n",
              "         -0.0612254 , -0.32339334, -0.0563896 ,  0.07545735,  0.03225944,\n",
              "          0.09502034,  0.00150067,  0.12020565, -0.11476448, -0.0954713 ,\n",
              "         -0.15572633,  0.08133167, -0.12250811, -0.26799476,  0.13949832,\n",
              "          0.13440716,  0.14591408,  0.19680396,  0.27484274,  0.07234387,\n",
              "         -0.01455697, -0.03951086,  0.02661025,  0.07076336,  0.01027851,\n",
              "          0.17862684,  0.19953063,  0.1427472 ,  0.23728776, -0.16494179,\n",
              "         -0.06048761,  0.08888065, -0.21916652,  0.18977557, -0.01391181,\n",
              "          0.08262792, -0.17502844,  0.14545774,  0.37336963,  0.27788994,\n",
              "         -0.00784994, -0.16958688,  0.02399789,  0.15536767,  0.38626793,\n",
              "          0.14871426,  0.14207235,  0.06784365, -0.0177986 , -0.11749393,\n",
              "          0.02449063, -0.07822753, -0.16983064, -0.04363032, -0.00105091,\n",
              "         -0.1996206 ,  0.06931978,  0.04226697, -0.24040246,  0.06419014,\n",
              "          0.07503444,  0.06758572,  0.04863206,  0.04389858, -0.32711446,\n",
              "         -0.04299685]], dtype=float32)>)"
            ]
          },
          "metadata": {
            "tags": []
          },
          "execution_count": 238
        }
      ]
    },
    {
      "cell_type": "code",
      "metadata": {
        "colab": {
          "base_uri": "https://localhost:8080/",
          "height": 1000
        },
        "id": "5uozkFV_HdGs",
        "outputId": "bacefe98-404b-4084-9985-59a7a727eda6"
      },
      "source": [
        "# debug\n",
        "train_df[train_df[\"Evidence\"].str.contains(\"Swift\")]"
      ],
      "execution_count": 148,
      "outputs": [
        {
          "output_type": "execute_result",
          "data": {
            "text/html": [
              "<div>\n",
              "<style scoped>\n",
              "    .dataframe tbody tr th:only-of-type {\n",
              "        vertical-align: middle;\n",
              "    }\n",
              "\n",
              "    .dataframe tbody tr th {\n",
              "        vertical-align: top;\n",
              "    }\n",
              "\n",
              "    .dataframe thead th {\n",
              "        text-align: right;\n",
              "    }\n",
              "</style>\n",
              "<table border=\"1\" class=\"dataframe\">\n",
              "  <thead>\n",
              "    <tr style=\"text-align: right;\">\n",
              "      <th></th>\n",
              "      <th>Unnamed: 0</th>\n",
              "      <th>Claim</th>\n",
              "      <th>Evidence</th>\n",
              "      <th>ID</th>\n",
              "      <th>Label</th>\n",
              "    </tr>\n",
              "  </thead>\n",
              "  <tbody>\n",
              "    <tr>\n",
              "      <th>2941</th>\n",
              "      <td>2941</td>\n",
              "      <td>Taylor Swift has a Grammy award.</td>\n",
              "      <td>The album won four Grammy Awards , with Swift ...</td>\n",
              "      <td>4887</td>\n",
              "      <td>SUPPORTS</td>\n",
              "    </tr>\n",
              "    <tr>\n",
              "      <th>2942</th>\n",
              "      <td>2942</td>\n",
              "      <td>A Grammy award has been earned by Taylor Swift.</td>\n",
              "      <td>The album won four Grammy Awards , with Swift ...</td>\n",
              "      <td>4888</td>\n",
              "      <td>SUPPORTS</td>\n",
              "    </tr>\n",
              "    <tr>\n",
              "      <th>6725</th>\n",
              "      <td>6725</td>\n",
              "      <td>Taylor Swift was the first act to have three a...</td>\n",
              "      <td>Taylor Swift is the debut studio album by Amer...</td>\n",
              "      <td>11063</td>\n",
              "      <td>REFUTES</td>\n",
              "    </tr>\n",
              "    <tr>\n",
              "      <th>7612</th>\n",
              "      <td>7612</td>\n",
              "      <td>Taylor Swift is American.</td>\n",
              "      <td>Taylor Alison Swift ( born December 13 , 1989 ...</td>\n",
              "      <td>12513</td>\n",
              "      <td>SUPPORTS</td>\n",
              "    </tr>\n",
              "    <tr>\n",
              "      <th>7613</th>\n",
              "      <td>7613</td>\n",
              "      <td>Taylor Swift is a person.</td>\n",
              "      <td>Taylor Alison Swift ( born December 13 , 1989 ...</td>\n",
              "      <td>12514</td>\n",
              "      <td>SUPPORTS</td>\n",
              "    </tr>\n",
              "    <tr>\n",
              "      <th>7685</th>\n",
              "      <td>7685</td>\n",
              "      <td>Taylor Swift is a music artist.</td>\n",
              "      <td>Taylor Alison Swift ( born December 13 , 1989 ...</td>\n",
              "      <td>12606</td>\n",
              "      <td>SUPPORTS</td>\n",
              "    </tr>\n",
              "    <tr>\n",
              "      <th>7686</th>\n",
              "      <td>7686</td>\n",
              "      <td>Taylor Swift plays music.</td>\n",
              "      <td>Taylor Alison Swift ( born December 13 , 1989 ...</td>\n",
              "      <td>12607</td>\n",
              "      <td>SUPPORTS</td>\n",
              "    </tr>\n",
              "    <tr>\n",
              "      <th>8181</th>\n",
              "      <td>8181</td>\n",
              "      <td>Taylor Swift is not American.</td>\n",
              "      <td>Taylor Alison Swift ( born December 13 , 1989 ...</td>\n",
              "      <td>13434</td>\n",
              "      <td>REFUTES</td>\n",
              "    </tr>\n",
              "    <tr>\n",
              "      <th>8860</th>\n",
              "      <td>8860</td>\n",
              "      <td>Taylor Swift has sold millions of albums.</td>\n",
              "      <td>Swift is one of the best-selling artists of al...</td>\n",
              "      <td>14575</td>\n",
              "      <td>SUPPORTS</td>\n",
              "    </tr>\n",
              "    <tr>\n",
              "      <th>9359</th>\n",
              "      <td>9359</td>\n",
              "      <td>Taylor Swift is a singer-songwriter.</td>\n",
              "      <td>Taylor Alison Swift ( born December 13 , 1989 ...</td>\n",
              "      <td>15400</td>\n",
              "      <td>SUPPORTS</td>\n",
              "    </tr>\n",
              "    <tr>\n",
              "      <th>11392</th>\n",
              "      <td>11392</td>\n",
              "      <td>Taylor Swift was released before January 2015.</td>\n",
              "      <td>Taylor Swift is the debut studio album by Amer...</td>\n",
              "      <td>18719</td>\n",
              "      <td>SUPPORTS</td>\n",
              "    </tr>\n",
              "    <tr>\n",
              "      <th>11393</th>\n",
              "      <td>11393</td>\n",
              "      <td>Taylor Swift 's release occurred prior to the ...</td>\n",
              "      <td>Taylor Swift is the debut studio album by Amer...</td>\n",
              "      <td>18720</td>\n",
              "      <td>SUPPORTS</td>\n",
              "    </tr>\n",
              "    <tr>\n",
              "      <th>13367</th>\n",
              "      <td>13367</td>\n",
              "      <td>Taylor Swift is not a singer-songwriter.</td>\n",
              "      <td>Taylor Alison Swift ( born December 13 , 1989 ...</td>\n",
              "      <td>21972</td>\n",
              "      <td>REFUTES</td>\n",
              "    </tr>\n",
              "    <tr>\n",
              "      <th>26629</th>\n",
              "      <td>26629</td>\n",
              "      <td>Taylor Swift is an album.</td>\n",
              "      <td>Taylor Swift is the debut studio album by Amer...</td>\n",
              "      <td>44469</td>\n",
              "      <td>SUPPORTS</td>\n",
              "    </tr>\n",
              "    <tr>\n",
              "      <th>26630</th>\n",
              "      <td>26630</td>\n",
              "      <td>Taylor Swift is a song.</td>\n",
              "      <td>Taylor Swift is the debut studio album by Amer...</td>\n",
              "      <td>44470</td>\n",
              "      <td>REFUTES</td>\n",
              "    </tr>\n",
              "    <tr>\n",
              "      <th>32927</th>\n",
              "      <td>32927</td>\n",
              "      <td>Taylor Swift has earned awards.</td>\n",
              "      <td>The album won four Grammy Awards , with Swift ...</td>\n",
              "      <td>55982</td>\n",
              "      <td>SUPPORTS</td>\n",
              "    </tr>\n",
              "    <tr>\n",
              "      <th>33809</th>\n",
              "      <td>33809</td>\n",
              "      <td>Taylor Swift is a musician.</td>\n",
              "      <td>Taylor Alison Swift ( born December 13 , 1989 ...</td>\n",
              "      <td>57520</td>\n",
              "      <td>SUPPORTS</td>\n",
              "    </tr>\n",
              "    <tr>\n",
              "      <th>37768</th>\n",
              "      <td>37768</td>\n",
              "      <td>In 2014, Taylor Swift released 1989.</td>\n",
              "      <td>1989 is the fifth studio album by American sin...</td>\n",
              "      <td>64773</td>\n",
              "      <td>SUPPORTS</td>\n",
              "    </tr>\n",
              "    <tr>\n",
              "      <th>42215</th>\n",
              "      <td>42215</td>\n",
              "      <td>Taylor Swift is a vocalist.</td>\n",
              "      <td>Taylor Alison Swift ( born December 13 , 1989 ...</td>\n",
              "      <td>73108</td>\n",
              "      <td>SUPPORTS</td>\n",
              "    </tr>\n",
              "    <tr>\n",
              "      <th>43216</th>\n",
              "      <td>43216</td>\n",
              "      <td>Taylor Swift was released.</td>\n",
              "      <td>Taylor Swift is the debut studio album by Amer...</td>\n",
              "      <td>75040</td>\n",
              "      <td>SUPPORTS</td>\n",
              "    </tr>\n",
              "    <tr>\n",
              "      <th>44367</th>\n",
              "      <td>44367</td>\n",
              "      <td>Taylor Swift is only the name of a performer.</td>\n",
              "      <td>Taylor Swift is the debut studio album by Amer...</td>\n",
              "      <td>77200</td>\n",
              "      <td>REFUTES</td>\n",
              "    </tr>\n",
              "    <tr>\n",
              "      <th>52762</th>\n",
              "      <td>52762</td>\n",
              "      <td>Taylor Swift was released in 2017.</td>\n",
              "      <td>Taylor Swift is the debut studio album by Amer...</td>\n",
              "      <td>93163</td>\n",
              "      <td>REFUTES</td>\n",
              "    </tr>\n",
              "    <tr>\n",
              "      <th>58140</th>\n",
              "      <td>58140</td>\n",
              "      <td>Taylor Swift released 1989 in 2014, her fifth ...</td>\n",
              "      <td>1989 is the fifth studio album by American sin...</td>\n",
              "      <td>103729</td>\n",
              "      <td>SUPPORTS</td>\n",
              "    </tr>\n",
              "    <tr>\n",
              "      <th>59122</th>\n",
              "      <td>59122</td>\n",
              "      <td>Taylor Swift released an album called Taylor S...</td>\n",
              "      <td>Taylor Swift is the debut studio album by Amer...</td>\n",
              "      <td>105616</td>\n",
              "      <td>SUPPORTS</td>\n",
              "    </tr>\n",
              "    <tr>\n",
              "      <th>59202</th>\n",
              "      <td>59202</td>\n",
              "      <td>There is a collection of songs sold as a unit ...</td>\n",
              "      <td>Taylor Swift is the debut studio album by Amer...</td>\n",
              "      <td>105770</td>\n",
              "      <td>SUPPORTS</td>\n",
              "    </tr>\n",
              "    <tr>\n",
              "      <th>60543</th>\n",
              "      <td>60543</td>\n",
              "      <td>Taylor Swift is a pop singer.</td>\n",
              "      <td>Taylor Swift is the debut studio album by Amer...</td>\n",
              "      <td>108461</td>\n",
              "      <td>REFUTES</td>\n",
              "    </tr>\n",
              "    <tr>\n",
              "      <th>60885</th>\n",
              "      <td>60885</td>\n",
              "      <td>Taylor Swift is a musician.</td>\n",
              "      <td>Taylor Alison Swift ( born December 13 , 1989 ...</td>\n",
              "      <td>109106</td>\n",
              "      <td>SUPPORTS</td>\n",
              "    </tr>\n",
              "    <tr>\n",
              "      <th>69168</th>\n",
              "      <td>69168</td>\n",
              "      <td>Taylor Swift made an album with the name Taylo...</td>\n",
              "      <td>Taylor Swift is the debut studio album by Amer...</td>\n",
              "      <td>125532</td>\n",
              "      <td>SUPPORTS</td>\n",
              "    </tr>\n",
              "    <tr>\n",
              "      <th>70732</th>\n",
              "      <td>70732</td>\n",
              "      <td>Taylor Swift is an American singer-songwriter.</td>\n",
              "      <td>Taylor Alison Swift ( born December 13 , 1989 ...</td>\n",
              "      <td>128713</td>\n",
              "      <td>SUPPORTS</td>\n",
              "    </tr>\n",
              "    <tr>\n",
              "      <th>70962</th>\n",
              "      <td>70962</td>\n",
              "      <td>Taylor Swift writes and sings.</td>\n",
              "      <td>Taylor Alison Swift ( born December 13 , 1989 ...</td>\n",
              "      <td>129164</td>\n",
              "      <td>SUPPORTS</td>\n",
              "    </tr>\n",
              "    <tr>\n",
              "      <th>71517</th>\n",
              "      <td>71517</td>\n",
              "      <td>Taylor Swift is not a music artist.</td>\n",
              "      <td>Taylor Alison Swift ( born December 13 , 1989 ...</td>\n",
              "      <td>130334</td>\n",
              "      <td>REFUTES</td>\n",
              "    </tr>\n",
              "    <tr>\n",
              "      <th>72353</th>\n",
              "      <td>72353</td>\n",
              "      <td>Taylor Swift is Taylor Swift 's fourth album.</td>\n",
              "      <td>Taylor Swift is the debut studio album by Amer...</td>\n",
              "      <td>131944</td>\n",
              "      <td>REFUTES</td>\n",
              "    </tr>\n",
              "    <tr>\n",
              "      <th>74082</th>\n",
              "      <td>74082</td>\n",
              "      <td>Me Before You stars Sam Claflin as Francis.</td>\n",
              "      <td>He is known for portraying Finnick Odair in th...</td>\n",
              "      <td>135410</td>\n",
              "      <td>REFUTES</td>\n",
              "    </tr>\n",
              "    <tr>\n",
              "      <th>74374</th>\n",
              "      <td>74374</td>\n",
              "      <td>Taylor Swift is a commercial work.</td>\n",
              "      <td>Taylor Swift is the debut studio album by Amer...</td>\n",
              "      <td>135999</td>\n",
              "      <td>SUPPORTS</td>\n",
              "    </tr>\n",
              "    <tr>\n",
              "      <th>74375</th>\n",
              "      <td>74375</td>\n",
              "      <td>Taylor Swift is a commercial work.</td>\n",
              "      <td>The album enjoyed commercial success and launc...</td>\n",
              "      <td>135999</td>\n",
              "      <td>SUPPORTS</td>\n",
              "    </tr>\n",
              "    <tr>\n",
              "      <th>76042</th>\n",
              "      <td>76042</td>\n",
              "      <td>Taylor Swift is from America.</td>\n",
              "      <td>Taylor Alison Swift ( born December 13 , 1989 ...</td>\n",
              "      <td>139514</td>\n",
              "      <td>SUPPORTS</td>\n",
              "    </tr>\n",
              "    <tr>\n",
              "      <th>78061</th>\n",
              "      <td>78061</td>\n",
              "      <td>Taylor Swift is Swedish.</td>\n",
              "      <td>Taylor Alison Swift ( born December 13 , 1989 ...</td>\n",
              "      <td>143677</td>\n",
              "      <td>REFUTES</td>\n",
              "    </tr>\n",
              "    <tr>\n",
              "      <th>79106</th>\n",
              "      <td>79106</td>\n",
              "      <td>Taylor Swift was released in October 2014.</td>\n",
              "      <td>Taylor Swift is the debut studio album by Amer...</td>\n",
              "      <td>145783</td>\n",
              "      <td>REFUTES</td>\n",
              "    </tr>\n",
              "    <tr>\n",
              "      <th>88449</th>\n",
              "      <td>88449</td>\n",
              "      <td>Taylor Swift was successful in Canada.</td>\n",
              "      <td>The album was also successful outside of Swift...</td>\n",
              "      <td>165268</td>\n",
              "      <td>SUPPORTS</td>\n",
              "    </tr>\n",
              "    <tr>\n",
              "      <th>88450</th>\n",
              "      <td>88450</td>\n",
              "      <td>Taylor Swift is a self-named album by Taylor S...</td>\n",
              "      <td>Taylor Swift is the debut studio album by Amer...</td>\n",
              "      <td>165270</td>\n",
              "      <td>SUPPORTS</td>\n",
              "    </tr>\n",
              "    <tr>\n",
              "      <th>88451</th>\n",
              "      <td>88451</td>\n",
              "      <td>Taylor Swift was successful in Australia.</td>\n",
              "      <td>The album was also successful outside of Swift...</td>\n",
              "      <td>165272</td>\n",
              "      <td>SUPPORTS</td>\n",
              "    </tr>\n",
              "    <tr>\n",
              "      <th>88452</th>\n",
              "      <td>88452</td>\n",
              "      <td>Taylor Swift was successful in Australia and t...</td>\n",
              "      <td>The album was also successful outside of Swift...</td>\n",
              "      <td>165273</td>\n",
              "      <td>SUPPORTS</td>\n",
              "    </tr>\n",
              "    <tr>\n",
              "      <th>88454</th>\n",
              "      <td>88454</td>\n",
              "      <td>Taylor Swift was successful in the United King...</td>\n",
              "      <td>The album was also successful outside of Swift...</td>\n",
              "      <td>165279</td>\n",
              "      <td>SUPPORTS</td>\n",
              "    </tr>\n",
              "    <tr>\n",
              "      <th>88455</th>\n",
              "      <td>88455</td>\n",
              "      <td>Taylor Swift was successful in at east one nat...</td>\n",
              "      <td>The album was also successful outside of Swift...</td>\n",
              "      <td>165281</td>\n",
              "      <td>SUPPORTS</td>\n",
              "    </tr>\n",
              "    <tr>\n",
              "      <th>88456</th>\n",
              "      <td>88456</td>\n",
              "      <td>Taylor Swift was unsuccessful in Australia.</td>\n",
              "      <td>The album was also successful outside of Swift...</td>\n",
              "      <td>165284</td>\n",
              "      <td>REFUTES</td>\n",
              "    </tr>\n",
              "    <tr>\n",
              "      <th>88457</th>\n",
              "      <td>88457</td>\n",
              "      <td>Taylor Swift is a collection of songs released...</td>\n",
              "      <td>Taylor Swift is the debut studio album by Amer...</td>\n",
              "      <td>165285</td>\n",
              "      <td>SUPPORTS</td>\n",
              "    </tr>\n",
              "    <tr>\n",
              "      <th>88458</th>\n",
              "      <td>88458</td>\n",
              "      <td>Taylor Swift was successful in Canada and Aust...</td>\n",
              "      <td>The album was also successful outside of Swift...</td>\n",
              "      <td>165286</td>\n",
              "      <td>SUPPORTS</td>\n",
              "    </tr>\n",
              "    <tr>\n",
              "      <th>88459</th>\n",
              "      <td>88459</td>\n",
              "      <td>Taylor Swift is a collection of music.</td>\n",
              "      <td>Taylor Swift is the debut studio album by Amer...</td>\n",
              "      <td>165289</td>\n",
              "      <td>SUPPORTS</td>\n",
              "    </tr>\n",
              "    <tr>\n",
              "      <th>88460</th>\n",
              "      <td>88460</td>\n",
              "      <td>Taylor Swift was unsuccessful in Canada.</td>\n",
              "      <td>The album was also successful outside of Swift...</td>\n",
              "      <td>165290</td>\n",
              "      <td>REFUTES</td>\n",
              "    </tr>\n",
              "    <tr>\n",
              "      <th>88461</th>\n",
              "      <td>88461</td>\n",
              "      <td>Taylor Swift is an EP.</td>\n",
              "      <td>Taylor Swift is the debut studio album by Amer...</td>\n",
              "      <td>165293</td>\n",
              "      <td>REFUTES</td>\n",
              "    </tr>\n",
              "    <tr>\n",
              "      <th>88462</th>\n",
              "      <td>88462</td>\n",
              "      <td>Taylor Swift was successful outside of Swift '...</td>\n",
              "      <td>The album was also successful outside of Swift...</td>\n",
              "      <td>165295</td>\n",
              "      <td>SUPPORTS</td>\n",
              "    </tr>\n",
              "  </tbody>\n",
              "</table>\n",
              "</div>"
            ],
            "text/plain": [
              "       Unnamed: 0  ...     Label\n",
              "2941         2941  ...  SUPPORTS\n",
              "2942         2942  ...  SUPPORTS\n",
              "6725         6725  ...   REFUTES\n",
              "7612         7612  ...  SUPPORTS\n",
              "7613         7613  ...  SUPPORTS\n",
              "7685         7685  ...  SUPPORTS\n",
              "7686         7686  ...  SUPPORTS\n",
              "8181         8181  ...   REFUTES\n",
              "8860         8860  ...  SUPPORTS\n",
              "9359         9359  ...  SUPPORTS\n",
              "11392       11392  ...  SUPPORTS\n",
              "11393       11393  ...  SUPPORTS\n",
              "13367       13367  ...   REFUTES\n",
              "26629       26629  ...  SUPPORTS\n",
              "26630       26630  ...   REFUTES\n",
              "32927       32927  ...  SUPPORTS\n",
              "33809       33809  ...  SUPPORTS\n",
              "37768       37768  ...  SUPPORTS\n",
              "42215       42215  ...  SUPPORTS\n",
              "43216       43216  ...  SUPPORTS\n",
              "44367       44367  ...   REFUTES\n",
              "52762       52762  ...   REFUTES\n",
              "58140       58140  ...  SUPPORTS\n",
              "59122       59122  ...  SUPPORTS\n",
              "59202       59202  ...  SUPPORTS\n",
              "60543       60543  ...   REFUTES\n",
              "60885       60885  ...  SUPPORTS\n",
              "69168       69168  ...  SUPPORTS\n",
              "70732       70732  ...  SUPPORTS\n",
              "70962       70962  ...  SUPPORTS\n",
              "71517       71517  ...   REFUTES\n",
              "72353       72353  ...   REFUTES\n",
              "74082       74082  ...   REFUTES\n",
              "74374       74374  ...  SUPPORTS\n",
              "74375       74375  ...  SUPPORTS\n",
              "76042       76042  ...  SUPPORTS\n",
              "78061       78061  ...   REFUTES\n",
              "79106       79106  ...   REFUTES\n",
              "88449       88449  ...  SUPPORTS\n",
              "88450       88450  ...  SUPPORTS\n",
              "88451       88451  ...  SUPPORTS\n",
              "88452       88452  ...  SUPPORTS\n",
              "88454       88454  ...  SUPPORTS\n",
              "88455       88455  ...  SUPPORTS\n",
              "88456       88456  ...   REFUTES\n",
              "88457       88457  ...  SUPPORTS\n",
              "88458       88458  ...  SUPPORTS\n",
              "88459       88459  ...  SUPPORTS\n",
              "88460       88460  ...   REFUTES\n",
              "88461       88461  ...   REFUTES\n",
              "88462       88462  ...  SUPPORTS\n",
              "\n",
              "[51 rows x 5 columns]"
            ]
          },
          "metadata": {
            "tags": []
          },
          "execution_count": 148
        }
      ]
    },
    {
      "cell_type": "markdown",
      "metadata": {
        "id": "DnFTWyj3CnCW"
      },
      "source": [
        "## Model definition"
      ]
    },
    {
      "cell_type": "markdown",
      "metadata": {
        "id": "OAsqp1XhCsEf"
      },
      "source": [
        "## Training"
      ]
    },
    {
      "cell_type": "markdown",
      "metadata": {
        "id": "dzxK6rQRC0pC"
      },
      "source": [
        "## Evaluation"
      ]
    }
  ]
}