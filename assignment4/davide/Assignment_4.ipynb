{
  "nbformat": 4,
  "nbformat_minor": 0,
  "metadata": {
    "colab": {
      "name": "Assignment_4.ipynb",
      "provenance": [],
      "collapsed_sections": [
        "3GM9DBN-Qz3k",
        "tO_-4CZeRCO7",
        "hGDwg78PS_uy",
        "4Oa5FpVpT7p4",
        "nex_8UM4VWuY",
        "RbH_8errW5MH",
        "gH8hIK21Xrl0",
        "E46flIz_zQy-",
        "LsiTV-NVdgsF",
        "ZJBQm47fe7iE",
        "Gypl5z5ElJo1",
        "IhVg9ZLymOUc",
        "Nd74ULgpnJrc",
        "W4LJ2yPxsUOV",
        "Uf80UVRNrXve",
        "COXeCXdYsBEf",
        "Ejv6SDE8xc4_",
        "9DR70uh7pabo",
        "OAsqp1XhCsEf",
        "dzxK6rQRC0pC",
        "-lcB4gMa550_"
      ],
      "toc_visible": true
    },
    "kernelspec": {
      "name": "python3",
      "display_name": "Python 3"
    },
    "accelerator": "GPU"
  },
  "cells": [
    {
      "cell_type": "markdown",
      "metadata": {
        "id": "3GM9DBN-Qz3k"
      },
      "source": [
        "# Assignment 4\n",
        "\n",
        "**Due to**: TBD\n",
        "\n",
        "**Credits**: Andrea Galassi, Federico Ruggeri, Paolo Torroni\n",
        "\n",
        "**Summary**: Fact checking, Neural Languange Inference (**NLI**)"
      ]
    },
    {
      "cell_type": "markdown",
      "metadata": {
        "id": "tO_-4CZeRCO7"
      },
      "source": [
        "# Intro\n",
        "\n",
        "This assignment is centred on a particular and emerging NLP task, formally known as **fact checking** (or fake checking). As AI techniques become more and more powerful, reaching amazing results, such as image and text generation, it is more than ever necessary to build tools able to distinguish what is real from what is fake.\n",
        "\n",
        "Here we focus on a small portion of the whole fact checking problem, which aims to determine whether a given statement (fact) conveys a trustworthy information or not. \n",
        "\n",
        "More precisely, given a set of evidences and a fact to verify, we would like our model to correctly predict whether the fact is true or fake.\n",
        "\n",
        "In particular, we will see:\n",
        "\n",
        "*   Dataset preparation (analysis and pre-processing)\n",
        "*   Problem formulation: multi-input binary classification\n",
        "*   Defining an evaluation method\n",
        "*   Simple sentence embedding\n",
        "*   Neural building blocks\n",
        "*   Neural architecture extension"
      ]
    },
    {
      "cell_type": "markdown",
      "metadata": {
        "id": "hGDwg78PS_uy"
      },
      "source": [
        "# The FEVER dataset\n",
        "\n",
        "First of all, we need to choose a dataset. In this assignment we will rely on the [FEVER dataset](https://fever.ai).\n",
        "\n",
        "The dataset is about facts taken from Wikipedia documents that have to be verified. In particular, facts could face manual modifications in order to define fake information or to give different formulations of the same concept.\n",
        "\n",
        "The dataset consists of 185,445 claims manually verified against the introductory sections of Wikipedia pages and classified as ```Supported```, ```Refuted``` or ```NotEnoughInfo```. For the first two classes, systems and annotators need to also return the combination of sentences forming the necessary evidence supporting or refuting the claim."
      ]
    },
    {
      "cell_type": "markdown",
      "metadata": {
        "id": "4Oa5FpVpT7p4"
      },
      "source": [
        "## Dataset structure\n",
        "\n",
        "Relevant data is divided into two file types. Information concerning the fact to verify, its verdict and associated supporting/opposing statements are stored in **.jsonl** format. In particular, each JSON element is a python dictionary with the following relevant fields:\n",
        "\n",
        "*    **ID**: ID associated to the fact to verify.\n",
        "\n",
        "*    **Verifiable**: whether the fact has been verified or not: ```VERIFIABLE``` or ```NOT VERIFIABLE```.\n",
        "    \n",
        "*    **Label**: the final verdict on the fact to verify: ```SUPPORTS```, ```REFUTES``` or ```NOT ENOUGH INFO```.\n",
        "    \n",
        "*    **Claim**: the fact to verify.\n",
        "    \n",
        "*    **Evidence**: a nested list of document IDs along with the sentence ID that is associated to the fact to verify. In particular, each list element is a tuple of four elements: the first two are internal annotator IDs that can be safely ignored; the third term is the document ID (called URL) and the last one is the sentence number (ID) in the pointed document to consider.\n",
        "\n",
        "**Some Examples**\n",
        "\n",
        "---\n",
        "\n",
        "**Verifiable**\n",
        "\n",
        "{\"id\": 202314, \"verifiable\": \"VERIFIABLE\", \"label\": \"REFUTES\", \"claim\": \"The New Jersey Turnpike has zero shoulders.\", \"evidence\": [[[238335, 240393, \"New_Jersey_Turnpike\", 15]]]}\n",
        "\n",
        "---\n",
        "\n",
        "**Not Verifiable**\n",
        "\n",
        "{\"id\": 113501, \"verifiable\": \"NOT VERIFIABLE\", \"label\": \"NOT ENOUGH INFO\", \"claim\": \"Grease had bad reviews.\", \"evidence\": [[[133128, null, null, null]]]}\n",
        "\n",
        "---"
      ]
    },
    {
      "cell_type": "markdown",
      "metadata": {
        "id": "nex_8UM4VWuY"
      },
      "source": [
        "## Some simplifications and pre-processing\n",
        "\n",
        "We are only interested in verifiable facts. Thus, we can filter out all non-verifiable claims.\n",
        "\n",
        "Additionally, the current dataset format does not contain all necessary information for our classification purposes. In particular, we need to download Wikipedia documents and replace reported evidence IDs with the corresponding text.\n",
        "\n",
        "Don't worry about that! We are providing you the already pre-processed dataset so that you can concentrate on the classification pipeline (pre-processing, model definition, evaluation and training).\n",
        "\n",
        "You can download the zip file containing all set splits (train, validation and test) of the FEVER dataset by clicking on this [link](https://drive.google.com/file/d/1wArZhF9_SHW17WKNGeLmX-QTYw9Zscl1/view?usp=sharing). Alternatively, run the below code cell to automatically download it on this notebook.\n",
        "\n",
        "**Note**: each dataset split is in .csv format. Feel free to inspect the whole dataset!"
      ]
    },
    {
      "cell_type": "code",
      "metadata": {
        "id": "BspxZcRjW0NG",
        "colab": {
          "base_uri": "https://localhost:8080/"
        },
        "outputId": "77a13f9f-2011-45a9-e621-2f34b6a05b57"
      },
      "source": [
        "import os\n",
        "import requests\n",
        "import zipfile\n",
        "\n",
        "def save_response_content(response, destination):\n",
        "    CHUNK_SIZE = 32768\n",
        "\n",
        "    with open(destination, \"wb\") as f:\n",
        "        for chunk in response.iter_content(CHUNK_SIZE):\n",
        "            if chunk: # filter out keep-alive new chunks\n",
        "                f.write(chunk)\n",
        "\n",
        "def download_data(data_path):\n",
        "    toy_data_path = os.path.join(data_path, 'fever_data.zip')\n",
        "    toy_data_url_id = \"1wArZhF9_SHW17WKNGeLmX-QTYw9Zscl1\"\n",
        "    toy_url = \"https://docs.google.com/uc?export=download\"\n",
        "\n",
        "    if not os.path.exists(data_path):\n",
        "        os.makedirs(data_path)\n",
        "\n",
        "    if not os.path.exists(toy_data_path):\n",
        "        print(\"Downloading FEVER data splits...\")\n",
        "        with requests.Session() as current_session:\n",
        "            response = current_session.get(toy_url,\n",
        "                                   params={'id': toy_data_url_id},\n",
        "                                   stream=True)\n",
        "        save_response_content(response, toy_data_path)\n",
        "        print(\"Download completed!\")\n",
        "\n",
        "        print(\"Extracting dataset...\")\n",
        "        with zipfile.ZipFile(toy_data_path) as loaded_zip:\n",
        "            loaded_zip.extractall(data_path)\n",
        "        print(\"Extraction completed!\")\n",
        "\n",
        "download_data('dataset')"
      ],
      "execution_count": 1,
      "outputs": [
        {
          "output_type": "stream",
          "text": [
            "Downloading FEVER data splits...\n",
            "Download completed!\n",
            "Extracting dataset...\n",
            "Extraction completed!\n"
          ],
          "name": "stdout"
        }
      ]
    },
    {
      "cell_type": "markdown",
      "metadata": {
        "id": "RbH_8errW5MH"
      },
      "source": [
        "# Classification dataset\n",
        "\n",
        "At this point, you should have a reay-to-go dataset! Note that the dataset format changed as well! In particular, we split the evidence set associated to each claim, in order to build (claim, evidence) pairs. The classification label is propagated as well.\n",
        "\n",
        "We'll motivate this decision in the next section!\n",
        "\n",
        "Just for clarity, here's an example of the pre-processed dataset:\n",
        "\n",
        "---\n",
        "\n",
        "**Claim**: \"Wentworth Miller is yet to make his screenwriting debut.\"\n",
        "\n",
        "**Evidence**: \"2\tHe made his screenwriting debut with the 2013 thriller film Stoker .\tStoker\tStoker (film)\"\n",
        "\n",
        "**Label**: Refutes\n",
        "\n",
        "---\n",
        "\n",
        "**Note**: The dataset requires some text cleaning as you may notice!\n"
      ]
    },
    {
      "cell_type": "markdown",
      "metadata": {
        "id": "gH8hIK21Xrl0"
      },
      "source": [
        "# Problem formulation\n",
        "\n",
        "As mentioned at the beginning of the assignment, we are going to formulate the fact checking problem as a binary classification task.\n",
        "\n",
        "In particular, each dataset sample is comprised of:\n",
        "\n",
        "*     A claim to verify\n",
        "*     A set of semantically related statements (evidence set)\n",
        "*     Fact checking label: either evidences support or refute the claim.\n",
        "\n",
        "Handling the evidence set from the point of view of neural models may imply some additional complexity: if the evidence set is comprised of several sentences we might incur in memory problems.\n",
        "\n",
        "To this end, we further simplify the problem by building (claim, evidence) pairs. The fact checking label is propagated as well.\n",
        "\n",
        "Example:\n",
        "\n",
        "     Claim: c1 \n",
        "     Evidence set: [e1, e2, e3]\n",
        "     Label: S (support)\n",
        "\n",
        "--->\n",
        "\n",
        "    (c1, e1, S),\n",
        "    (c1, e2, S),\n",
        "    (c1, e3, S)"
      ]
    },
    {
      "cell_type": "markdown",
      "metadata": {
        "id": "E46flIz_zQy-"
      },
      "source": [
        "## Schema\n",
        "\n",
        "The overall binary classification problem is summed up by the following (simplified) schema\n",
        "\n",
        "![](https://drive.google.com/uc?export=view&id=1Wm_YBnFwgJtxcWEBpPbTBEVkpKaL08Jp)\n",
        "\n",
        "Don't worry too much about the **Encoding** block for now. We'll give you some simple guidelines about its definition. For the moment, stick to the binary classification task definition where, in this case, we have 2 inputs: the claim to verify and one of its associated evidences."
      ]
    },
    {
      "cell_type": "markdown",
      "metadata": {
        "id": "LsiTV-NVdgsF"
      },
      "source": [
        "# Architecture Guidelines\n",
        "\n",
        "There are many neural architectures that follow the above schema. To avoid phenomena like the writer's block, in this section we are going to give you some implementation guidelines.\n",
        "\n",
        "In particular, we would like you to test some implementations so that you explore basic approaches (neural baselines) and use them as building blocks for possible extensions."
      ]
    },
    {
      "cell_type": "markdown",
      "metadata": {
        "id": "ZJBQm47fe7iE"
      },
      "source": [
        "## Handling multiple inputs\n",
        "\n",
        "The first thing to notice is that we are in a multi-input scenario. In particular, each sample is comprised of a fact and its asssociated evidence statement.\n",
        "\n",
        "Each of these input is encoded as a sequence of tokens. In particular, we will have the following input matrices:\n",
        "\n",
        "*    Claim: [batch_size, max_tokens]\n",
        "*    Evidence: [batch_size, max_tokens]\n",
        "\n",
        "Moreover, after the embedding layer, we'll have:\n",
        "\n",
        "*    Claim: [batch_size, max_tokens, embedding_dim]\n",
        "*    Evidence: [batch_size, max_tokens, embedding_dim]\n",
        "\n",
        "But, we would like to have a 2D input to our classifier, since we have to give an answer at pair level. Therefore, for each sample, we would expect the following input shape to our classification block:\n",
        "\n",
        "*   Classification input shape: [batch_size, dim]\n",
        "\n",
        "**How to do that?**\n",
        "\n",
        "We inherently need to reduce the token sequence to a single representation. This operation is formally known as **sentence embedding**. Indeed, we are trying to compress the information of a whole sequence into a single embedding vector.\n",
        "\n",
        "Here are some simple solutions that we ask you to try out:\n",
        "\n",
        "*   Encode token sequences via a RNN and take the last state as the sentence embedding.\n",
        "\n",
        "*   Encode token sequences via a RNN and average all the output states.\n",
        "\n",
        "*   Encode token sequences via a simple MLP layer. In particular, if your input is a [batch_size, max_tokens, embedding_dim] tensor, the matrix multiplication works on the **max_tokens** dimension, resulting in a [batch_size, embedding_dim] 2D matrix.\n",
        "\n",
        "*   Compute the sentence embedding as the mean of its token embeddings (**bag of vectors**)."
      ]
    },
    {
      "cell_type": "markdown",
      "metadata": {
        "id": "Gypl5z5ElJo1"
      },
      "source": [
        "## Merging multi-inputs\n",
        "\n",
        "At this point, we have to think about **how** we should merge evidence and claim sentence embeddings.\n",
        "\n",
        "For simplicity, we stick to simple merging strategies:\n",
        "\n",
        "*     **Concatenation**: define the classification input as the concatenation of evidence and claim sentence embeddings\n",
        "\n",
        "*     **Sum**: define the classification input as the sum of evidence and claim sentence embeddings\n",
        "\n",
        "*     **Mean**: define the classification input as the mean of evidence and claim sentence embeddings\n",
        "\n",
        "For clarity, if we the sentence embedding of a single input has shape [batch_size, embedding_dim], then the classification input has shape:\n",
        "\n",
        "*     **Concatenation**: [batch_size, 2 * embedding_dim]\n",
        "\n",
        "*     **Sum**: [batch_size, embedding_dim]\n",
        "\n",
        "*     **Mean**: [batch_size, embedding_dim]"
      ]
    },
    {
      "cell_type": "markdown",
      "metadata": {
        "id": "IhVg9ZLymOUc"
      },
      "source": [
        "# A simple extension\n",
        "\n",
        "Lastly, we ask you to modify previously defined neural architectures by adding an additional feature to the classification input.\n",
        "\n",
        "We would like to see if some similarity information between the claim to verify and one of its associated evidence might be useful to the classification.\n",
        "\n",
        "Compute the cosine similarity metric between the two sentence embeddings and concatenate the result to the classification input.\n",
        "\n",
        "For clarity, since the cosine similarity of two vectors outputs a scalar value, the classification input shape is modified as follows:\n",
        "\n",
        "*     **Concatenation**: [batch_size, 2 * embedding_dim + 1]\n",
        "\n",
        "*     **Sum**: [batch_size, embedding_dim + 1]\n",
        "\n",
        "*     **Mean**: [batch_size, embedding_dim + 1]\n",
        "\n"
      ]
    },
    {
      "cell_type": "markdown",
      "metadata": {
        "id": "Nd74ULgpnJrc"
      },
      "source": [
        "# Performance evaluation\n",
        "\n",
        "Due to our simplifications, obtained results are not directly compatible with a traditional fact checking method that considers the evidence set as a whole.\n",
        "\n",
        "Thus, we need to consider two types of evaluations.\n",
        "\n",
        "**Multi-input classification evaluation**\n",
        "\n",
        "This type of evaluation is the easiest and concerns computing evaluation metrics, such as accuracy, f1-score, recall and precision, of our pre-processed dataset.\n",
        "\n",
        "In other words, we assess the performance of chosen classifiers.\n",
        "\n",
        "**Claim verification evaluation**\n",
        "\n",
        "However, if we want to give an answer concerning the claim itself, we need to consider the whole evidence set. \n",
        "\n",
        "Intuitively, for a given claim, we consider all its corresponding (claim, evidence) pairs and their corresponding classification outputs. \n",
        "\n",
        "At this point, all we need to do is to compute the final predicted claim label via majority voting.\n",
        "\n",
        "Example:\n",
        "\n",
        "    Claim: c1\n",
        "    Evidence set: e1, e2, e3\n",
        "    True label: S\n",
        "\n",
        "    Pair outputs:\n",
        "    (c1, e1) -> S (supports)\n",
        "    (c1, e2) -> S (supports)\n",
        "    (c1, e3) -> R (refutes)\n",
        "\n",
        "    Majority voting:\n",
        "    S -> 2 votes\n",
        "    R -> 1 vote\n",
        "\n",
        "    Final label:\n",
        "    c1 -> S\n",
        "\n",
        "Lastly, we have to compute classification metrics just like before."
      ]
    },
    {
      "cell_type": "markdown",
      "metadata": {
        "id": "W4LJ2yPxsUOV"
      },
      "source": [
        "# Tips and Extras"
      ]
    },
    {
      "cell_type": "markdown",
      "metadata": {
        "id": "Uf80UVRNrXve"
      },
      "source": [
        "## Extensions are welcome!\n",
        "\n",
        "Is this task too easy for you? Are you curious to try out things you have seen during lectures (e.g. attention)? Feel free to try everything you want!\n",
        "\n",
        "Don't forget to try neural baselines first!"
      ]
    },
    {
      "cell_type": "markdown",
      "metadata": {
        "id": "COXeCXdYsBEf"
      },
      "source": [
        "## Comments and documentation\n",
        "\n",
        "Remember to properly comment your code (it is not necessary to comment each single line) and don't forget to describe your work!"
      ]
    },
    {
      "cell_type": "markdown",
      "metadata": {
        "id": "Ejv6SDE8xc4_"
      },
      "source": [
        "## Organization\n",
        "\n",
        "We suggest you to divide your work into sections. This allows you to build clean and modular code, as well as easy to read and to debug.\n",
        "\n",
        "A possible schema:\n",
        "\n",
        "*   Dataset pre-processing\n",
        "*   Dataset conversion\n",
        "*   Model definition\n",
        "*   Training\n",
        "*   Evaluation\n",
        "*   Comments/Summary"
      ]
    },
    {
      "cell_type": "markdown",
      "metadata": {
        "id": "9DR70uh7pabo"
      },
      "source": [
        "# Contact\n",
        "\n",
        "For any doubt, question, issue or help, you can always contact us at the following email addresses:\n",
        "\n",
        "Teaching Assistants:\n",
        "\n",
        "* Andrea Galassi -> a.galassi@unibo.it\n",
        "* Federico Ruggeri -> federico.ruggeri6@unibo.it\n",
        "\n",
        "Professor:\n",
        "\n",
        "* Paolo Torroni -> p.torroni@unibo.it\n",
        "\n",
        "Don't forget that your feedback is very important! Your suggestions help us improving course material."
      ]
    },
    {
      "cell_type": "markdown",
      "metadata": {
        "id": "Jc0gNWU2pgKQ"
      },
      "source": [
        "# FAQ\n",
        "\n",
        "---\n",
        "\n",
        "**Q: Can I do something text pre-processing?**\n",
        "\n",
        "**A:** You have to! If you check text data, the majority of sentences need some cleaning.\n",
        "\n",
        "---\n",
        "\n",
        "**Q: I'm struggling with the implementation. Can you help me?**\n",
        "\n",
        "**A:** Yes sure! Write us an email about your issue. If you are looking for a particular type of operation, you can easily check the documentation of the deep learning framework you are using (google is your friend).\n",
        "\n",
        "---\n",
        "\n",
        "**Q: Can I try other encoding strategies or neural architectures?**\n",
        "\n",
        "**A:** Absolutely! Remember to try out recommended neural baselines first and only then proceed with your extensions.\n",
        "\n",
        "---"
      ]
    },
    {
      "cell_type": "markdown",
      "metadata": {
        "id": "_stjmjcSx7cO"
      },
      "source": [
        "## Dataset pre-processing"
      ]
    },
    {
      "cell_type": "markdown",
      "metadata": {
        "id": "TnEY9yI3y0aU"
      },
      "source": [
        "### Dataset loading and inspection"
      ]
    },
    {
      "cell_type": "code",
      "metadata": {
        "id": "saWDqtJyx-90"
      },
      "source": [
        "import pandas as pd\n",
        "import numpy as np\n",
        "\n",
        "train_df = pd.read_csv(\"dataset/train_pairs.csv\")\n",
        "val_df   = pd.read_csv(\"dataset/val_pairs.csv\")\n",
        "test_df  = pd.read_csv(\"dataset/test_pairs.csv\")"
      ],
      "execution_count": 2,
      "outputs": []
    },
    {
      "cell_type": "code",
      "metadata": {
        "colab": {
          "base_uri": "https://localhost:8080/",
          "height": 201
        },
        "id": "IxsqxB6zyTXq",
        "outputId": "a0c05516-2b68-40dd-9907-e98a4fc105a0"
      },
      "source": [
        "# inspect dataset\n",
        "train_df.head()"
      ],
      "execution_count": 3,
      "outputs": [
        {
          "output_type": "execute_result",
          "data": {
            "text/html": [
              "<div>\n",
              "<style scoped>\n",
              "    .dataframe tbody tr th:only-of-type {\n",
              "        vertical-align: middle;\n",
              "    }\n",
              "\n",
              "    .dataframe tbody tr th {\n",
              "        vertical-align: top;\n",
              "    }\n",
              "\n",
              "    .dataframe thead th {\n",
              "        text-align: right;\n",
              "    }\n",
              "</style>\n",
              "<table border=\"1\" class=\"dataframe\">\n",
              "  <thead>\n",
              "    <tr style=\"text-align: right;\">\n",
              "      <th></th>\n",
              "      <th>Unnamed: 0</th>\n",
              "      <th>Claim</th>\n",
              "      <th>Evidence</th>\n",
              "      <th>ID</th>\n",
              "      <th>Label</th>\n",
              "    </tr>\n",
              "  </thead>\n",
              "  <tbody>\n",
              "    <tr>\n",
              "      <th>0</th>\n",
              "      <td>0</td>\n",
              "      <td>Chris Hemsworth appeared in A Perfect Getaway.</td>\n",
              "      <td>2\\tHemsworth has also appeared in the science ...</td>\n",
              "      <td>3</td>\n",
              "      <td>SUPPORTS</td>\n",
              "    </tr>\n",
              "    <tr>\n",
              "      <th>1</th>\n",
              "      <td>1</td>\n",
              "      <td>Roald Dahl is a writer.</td>\n",
              "      <td>0\\tRoald Dahl -LRB- -LSB- langpronˈroʊ.əld _ ˈ...</td>\n",
              "      <td>7</td>\n",
              "      <td>SUPPORTS</td>\n",
              "    </tr>\n",
              "    <tr>\n",
              "      <th>2</th>\n",
              "      <td>2</td>\n",
              "      <td>Roald Dahl is a governor.</td>\n",
              "      <td>0\\tRoald Dahl -LRB- -LSB- langpronˈroʊ.əld _ ˈ...</td>\n",
              "      <td>8</td>\n",
              "      <td>REFUTES</td>\n",
              "    </tr>\n",
              "    <tr>\n",
              "      <th>3</th>\n",
              "      <td>3</td>\n",
              "      <td>Ireland has relatively low-lying mountains.</td>\n",
              "      <td>10\\tThe island 's geography comprises relative...</td>\n",
              "      <td>9</td>\n",
              "      <td>SUPPORTS</td>\n",
              "    </tr>\n",
              "    <tr>\n",
              "      <th>4</th>\n",
              "      <td>4</td>\n",
              "      <td>Ireland does not have relatively low-lying mou...</td>\n",
              "      <td>10\\tThe island 's geography comprises relative...</td>\n",
              "      <td>10</td>\n",
              "      <td>REFUTES</td>\n",
              "    </tr>\n",
              "  </tbody>\n",
              "</table>\n",
              "</div>"
            ],
            "text/plain": [
              "   Unnamed: 0                                              Claim  ...  ID     Label\n",
              "0           0     Chris Hemsworth appeared in A Perfect Getaway.  ...   3  SUPPORTS\n",
              "1           1                            Roald Dahl is a writer.  ...   7  SUPPORTS\n",
              "2           2                          Roald Dahl is a governor.  ...   8   REFUTES\n",
              "3           3        Ireland has relatively low-lying mountains.  ...   9  SUPPORTS\n",
              "4           4  Ireland does not have relatively low-lying mou...  ...  10   REFUTES\n",
              "\n",
              "[5 rows x 5 columns]"
            ]
          },
          "metadata": {
            "tags": []
          },
          "execution_count": 3
        }
      ]
    },
    {
      "cell_type": "markdown",
      "metadata": {
        "id": "Wf0sClvX4Wi0"
      },
      "source": [
        "### Preprocessing"
      ]
    },
    {
      "cell_type": "code",
      "metadata": {
        "colab": {
          "base_uri": "https://localhost:8080/"
        },
        "id": "3kHLyxhH4Vlu",
        "outputId": "01e87d2f-6fb8-4d8f-da2c-2bb98b5cd4a3"
      },
      "source": [
        "# examine evidences\n",
        "print(train_df[\"Evidence\"][0])\n",
        "print(train_df[\"Evidence\"][993])"
      ],
      "execution_count": 4,
      "outputs": [
        {
          "output_type": "stream",
          "text": [
            "2\tHemsworth has also appeared in the science fiction action film Star Trek -LRB- 2009 -RRB- , the thriller adventure A Perfect Getaway -LRB- 2009 -RRB- , the horror comedy The Cabin in the Woods -LRB- 2012 -RRB- , the dark-fantasy action film Snow White and the Huntsman -LRB- 2012 -RRB- , the war film Red Dawn -LRB- 2012 -RRB- , and the biographical sports drama film Rush -LRB- 2013 -RRB- .\tStar Trek\tStar Trek (film)\tA Perfect Getaway\tA Perfect Getaway\tThe Cabin in the Woods\tThe Cabin in the Woods\tSnow White and the Huntsman\tSnow White and the Huntsman\tRed Dawn\tRed Dawn (2012 film)\tRush\tRush (2013 film)\n",
            "25\tShe has appeared in Time 100 most influential people in the world -LRB- 2010 and 2015 -RRB- , Forbes top-earning women in music -LRB- 2011 -- 2015 -RRB- , Forbes 100 most powerful women -LRB- 2015 -RRB- , and Forbes Celebrity 100 -LRB- 2016 -RRB- .\tTime\tTime (magazine)\t100 most influential people in the world\tTime 100\tForbes\tForbes\t100 most powerful women\tThe World's 100 Most Powerful Women\n"
          ],
          "name": "stdout"
        }
      ]
    },
    {
      "cell_type": "code",
      "metadata": {
        "id": "MDEwLHAv7ZaE",
        "colab": {
          "base_uri": "https://localhost:8080/"
        },
        "outputId": "5aaae5ba-89a1-41b0-ed8c-6a3697fe71aa"
      },
      "source": [
        "import re\n",
        "import nltk\n",
        "from nltk.corpus import stopwords\n",
        "\n",
        "try:\n",
        "    STOPWORDS = set(stopwords.words('english'))\n",
        "except LookupError:\n",
        "    nltk.download('stopwords')\n",
        "    STOPWORDS = set(stopwords.words('english'))\n",
        "\n",
        "def preprocess_text(evidence) :\n",
        "  # remove leading tabs\n",
        "  pattern = r'[0-9]+\\t'\n",
        "  evidence = re.sub(pattern, '', evidence)\n",
        "\n",
        "  # remove pronunciations\n",
        "  pattern = r'-LSB-.*-RSB-(\\s;)*'\n",
        "  evidence = re.sub(pattern, '', evidence)\n",
        "\n",
        "  # convert -LRB- -RRB- to ( or )\n",
        "  pattern = r'-LRB-'\n",
        "  evidence = re.sub(pattern, '(', evidence)\n",
        "  pattern = r'-RRB-'\n",
        "  evidence = re.sub(pattern, ')', evidence)\n",
        "\n",
        "  # fix double dashes (--)\n",
        "  pattern = r'\\-\\-'\n",
        "  evidence = re.sub(pattern, '-', evidence)\n",
        "\n",
        "  # remove double spaces\n",
        "  pattern = r'(\\s)\\s+'\n",
        "  evidence = re.sub(pattern, r'\\1', evidence)\n",
        "\n",
        "  # remove trailing words (hyperlinks)\n",
        "  pattern = r'.\\t.*$'\n",
        "  evidence = re.sub(pattern, '.', evidence)\n",
        "\n",
        "  # make sure all possesive 's are split from other words\n",
        "  pattern = r\"(\\s.+)'s\"\n",
        "  evidence = re.sub(pattern, r\"\\1 's\", evidence)\n",
        "\n",
        "  REPLACE_BY_SPACE_RE = re.compile('[/(){}\\[\\]\\|@,;]')\n",
        "  #evidence = re.sub(REPLACE_BY_SPACE_RE, ' ', evidence)\n",
        "\n",
        "  return evidence\n",
        "\n",
        "train_df[\"Claim\"] = train_df[\"Claim\"].apply(preprocess_text)\n",
        "train_df[\"Evidence\"] = train_df[\"Evidence\"].apply(preprocess_text)\n",
        "val_df[\"Claim\"] = val_df[\"Claim\"].apply(preprocess_text)\n",
        "val_df[\"Evidence\"] = val_df[\"Evidence\"].apply(preprocess_text)\n",
        "test_df[\"Claim\"] = test_df[\"Claim\"].apply(preprocess_text)\n",
        "test_df[\"Evidence\"] = test_df[\"Evidence\"].apply(preprocess_text)"
      ],
      "execution_count": 5,
      "outputs": [
        {
          "output_type": "stream",
          "text": [
            "[nltk_data] Downloading package stopwords to /root/nltk_data...\n",
            "[nltk_data]   Unzipping corpora/stopwords.zip.\n"
          ],
          "name": "stdout"
        }
      ]
    },
    {
      "cell_type": "code",
      "metadata": {
        "colab": {
          "base_uri": "https://localhost:8080/"
        },
        "id": "qOAg0oo-9C4v",
        "outputId": "99275b70-d8f8-4313-fd1c-527a333043cf"
      },
      "source": [
        "print(train_df[\"Claim\"][0])\n",
        "print(train_df[\"Evidence\"][0])"
      ],
      "execution_count": 6,
      "outputs": [
        {
          "output_type": "stream",
          "text": [
            "Chris Hemsworth appeared in A Perfect Getaway.\n",
            "Hemsworth has also appeared in the science fiction action film Star Trek ( 2009 ) , the thriller adventure A Perfect Getaway ( 2009 ) , the horror comedy The Cabin in the Woods ( 2012 ) , the dark-fantasy action film Snow White and the Huntsman ( 2012 ) , the war film Red Dawn ( 2012 ) , and the biographical sports drama film Rush ( 2013 ) .\n"
          ],
          "name": "stdout"
        }
      ]
    },
    {
      "cell_type": "markdown",
      "metadata": {
        "id": "VY8kXXkECfun"
      },
      "source": [
        "## Dataset conversion"
      ]
    },
    {
      "cell_type": "code",
      "metadata": {
        "id": "pTx8EVe-Cd-r"
      },
      "source": [
        "def convert_facts(df) :\n",
        "  subdf = df[[\"Claim\", \"Evidence\", \"Label\"]]\n",
        "  return [tuple(x) for x in subdf.to_numpy()]"
      ],
      "execution_count": 7,
      "outputs": []
    },
    {
      "cell_type": "code",
      "metadata": {
        "id": "rTOKlA6yNvFh",
        "colab": {
          "base_uri": "https://localhost:8080/"
        },
        "outputId": "976b80ff-f6c1-46ad-8e57-6c02e15498d5"
      },
      "source": [
        "from tensorflow.keras.preprocessing.text import Tokenizer\n",
        "import gensim.downloader as api\n",
        "from nltk.tokenize.treebank import TreebankWordTokenizer\n",
        "\n",
        "embedding_dimension = 50\n",
        "glove = api.load(f\"glove-wiki-gigaword-{embedding_dimension}\")"
      ],
      "execution_count": 8,
      "outputs": [
        {
          "output_type": "stream",
          "text": [
            "[==================================================] 100.0% 66.0/66.0MB downloaded\n"
          ],
          "name": "stdout"
        }
      ]
    },
    {
      "cell_type": "code",
      "metadata": {
        "id": "Gh0ZbOrs-MoK"
      },
      "source": [
        "# tokenizer based on penn treebank\n",
        "def tokenize_df(df) :\n",
        "  word_tokenizer = TreebankWordTokenizer()\n",
        "  tmp = pd.DataFrame(columns=[\"Claim\", \"Evidence\", \"Label\"])\n",
        "  for col in [\"Claim\", \"Evidence\"]:\n",
        "    tmp[col] = df[col].apply(lambda r: word_tokenizer.tokenize(r.lower()))\n",
        "    #tmp[col] = np.array([word_tokenizer.tokenize(r) for r in tmp[col]])\n",
        "  tmp[\"Label\"] = df[\"Label\"]\n",
        "  return tmp"
      ],
      "execution_count": 9,
      "outputs": []
    },
    {
      "cell_type": "code",
      "metadata": {
        "id": "WxCmr7Gdesue",
        "colab": {
          "base_uri": "https://localhost:8080/",
          "height": 201
        },
        "outputId": "cdd1ff68-d5fd-40eb-d65e-315d25eb011f"
      },
      "source": [
        "tok_train_df = tokenize_df(train_df)\n",
        "tok_train_df.head()"
      ],
      "execution_count": 10,
      "outputs": [
        {
          "output_type": "execute_result",
          "data": {
            "text/html": [
              "<div>\n",
              "<style scoped>\n",
              "    .dataframe tbody tr th:only-of-type {\n",
              "        vertical-align: middle;\n",
              "    }\n",
              "\n",
              "    .dataframe tbody tr th {\n",
              "        vertical-align: top;\n",
              "    }\n",
              "\n",
              "    .dataframe thead th {\n",
              "        text-align: right;\n",
              "    }\n",
              "</style>\n",
              "<table border=\"1\" class=\"dataframe\">\n",
              "  <thead>\n",
              "    <tr style=\"text-align: right;\">\n",
              "      <th></th>\n",
              "      <th>Claim</th>\n",
              "      <th>Evidence</th>\n",
              "      <th>Label</th>\n",
              "    </tr>\n",
              "  </thead>\n",
              "  <tbody>\n",
              "    <tr>\n",
              "      <th>0</th>\n",
              "      <td>[chris, hemsworth, appeared, in, a, perfect, g...</td>\n",
              "      <td>[hemsworth, has, also, appeared, in, the, scie...</td>\n",
              "      <td>SUPPORTS</td>\n",
              "    </tr>\n",
              "    <tr>\n",
              "      <th>1</th>\n",
              "      <td>[roald, dahl, is, a, writer, .]</td>\n",
              "      <td>[roald, dahl, (, 13, september, 1916, -, 23, n...</td>\n",
              "      <td>SUPPORTS</td>\n",
              "    </tr>\n",
              "    <tr>\n",
              "      <th>2</th>\n",
              "      <td>[roald, dahl, is, a, governor, .]</td>\n",
              "      <td>[roald, dahl, (, 13, september, 1916, -, 23, n...</td>\n",
              "      <td>REFUTES</td>\n",
              "    </tr>\n",
              "    <tr>\n",
              "      <th>3</th>\n",
              "      <td>[ireland, has, relatively, low-lying, mountain...</td>\n",
              "      <td>[the, island, 's, geography, comprises, relati...</td>\n",
              "      <td>SUPPORTS</td>\n",
              "    </tr>\n",
              "    <tr>\n",
              "      <th>4</th>\n",
              "      <td>[ireland, does, not, have, relatively, low-lyi...</td>\n",
              "      <td>[the, island, 's, geography, comprises, relati...</td>\n",
              "      <td>REFUTES</td>\n",
              "    </tr>\n",
              "  </tbody>\n",
              "</table>\n",
              "</div>"
            ],
            "text/plain": [
              "                                               Claim  ...     Label\n",
              "0  [chris, hemsworth, appeared, in, a, perfect, g...  ...  SUPPORTS\n",
              "1                    [roald, dahl, is, a, writer, .]  ...  SUPPORTS\n",
              "2                  [roald, dahl, is, a, governor, .]  ...   REFUTES\n",
              "3  [ireland, has, relatively, low-lying, mountain...  ...  SUPPORTS\n",
              "4  [ireland, does, not, have, relatively, low-lyi...  ...   REFUTES\n",
              "\n",
              "[5 rows x 3 columns]"
            ]
          },
          "metadata": {
            "tags": []
          },
          "execution_count": 10
        }
      ]
    },
    {
      "cell_type": "code",
      "metadata": {
        "id": "RShM58yRk5xg",
        "colab": {
          "base_uri": "https://localhost:8080/"
        },
        "outputId": "8859c48c-af72-4b14-c8e3-5689f936e64c"
      },
      "source": [
        "# build vocab\n",
        "def build_vocab_from_df(df) :\n",
        "  ret = []\n",
        "  for col in [\"Claim\", \"Evidence\"] :\n",
        "    for r in df[col] :\n",
        "      ret += r\n",
        "  ret = list(dict.fromkeys(ret))\n",
        "  return ret\n",
        "\n",
        "vocab = list(glove.vocab.keys())               # glove vocab\n",
        "\n",
        "vocab_v1 = build_vocab_from_df(tok_train_df)   # add unique terms from claims\n",
        "oov_v1 = [w for w in vocab_v1 if w not in vocab]\n",
        "vocab += oov_v1 # remove duplicates between glove vocab and dataset vocab while preserving order\n",
        "\n",
        "vocab_v2 = build_vocab_from_df(tokenize_df(val_df))\n",
        "oov_v2 = [w for w in vocab_v2 if w not in vocab]\n",
        "vocab += oov_v2\n",
        "\n",
        "vocab_v3 = build_vocab_from_df(tokenize_df(test_df))\n",
        "oov_v3 = [w for w in vocab_v3 if w not in vocab]\n",
        "vocab += oov_v3\n",
        "\n",
        "#vocab = list(dict.fromkeys(vocab))\n",
        "print(f\"vocab len: {len(vocab)}\")"
      ],
      "execution_count": 11,
      "outputs": [
        {
          "output_type": "stream",
          "text": [
            "vocab len: 404454\n"
          ],
          "name": "stdout"
        }
      ]
    },
    {
      "cell_type": "code",
      "metadata": {
        "id": "aMkztzj5MxKZ"
      },
      "source": [
        "# build word -> int encoding \n",
        "word_to_idx = dict(zip(vocab, range(1, len(vocab)+1))) # start from 1 to reserve 0 to padding"
      ],
      "execution_count": 12,
      "outputs": []
    },
    {
      "cell_type": "code",
      "metadata": {
        "id": "H0FpcuZziZ5T"
      },
      "source": [
        "def encode_sent(sent, word_to_idx=word_to_idx) :\n",
        "  return [word_to_idx[w] for w in sent]\n",
        "\n",
        "def encode_df(tok_df, word_to_idx) :\n",
        "  enc_df = pd.DataFrame(columns=[\"Claim\", \"Evidence\", \"Label\"])\n",
        "  for col in [\"Claim\", \"Evidence\"] :\n",
        "    enc_df[col] = tok_df[col].apply(lambda s: encode_sent(s, word_to_idx))\n",
        "  enc_df[\"Label\"] = tok_df[\"Label\"].apply(lambda x: 1 if x==\"SUPPORTS\" else 0)\n",
        "  return enc_df"
      ],
      "execution_count": 13,
      "outputs": []
    },
    {
      "cell_type": "code",
      "metadata": {
        "id": "D9N5pMhWz-b-"
      },
      "source": [
        "# encode dataset\n",
        "enc_train_df = encode_df(tok_train_df, word_to_idx)"
      ],
      "execution_count": 14,
      "outputs": []
    },
    {
      "cell_type": "code",
      "metadata": {
        "colab": {
          "base_uri": "https://localhost:8080/",
          "height": 201
        },
        "id": "yKh0MYoo3L4F",
        "outputId": "219c74b5-cc27-4405-8953-085fee01e49b"
      },
      "source": [
        "enc_train_df.head()"
      ],
      "execution_count": 15,
      "outputs": [
        {
          "output_type": "execute_result",
          "data": {
            "text/html": [
              "<div>\n",
              "<style scoped>\n",
              "    .dataframe tbody tr th:only-of-type {\n",
              "        vertical-align: middle;\n",
              "    }\n",
              "\n",
              "    .dataframe tbody tr th {\n",
              "        vertical-align: top;\n",
              "    }\n",
              "\n",
              "    .dataframe thead th {\n",
              "        text-align: right;\n",
              "    }\n",
              "</style>\n",
              "<table border=\"1\" class=\"dataframe\">\n",
              "  <thead>\n",
              "    <tr style=\"text-align: right;\">\n",
              "      <th></th>\n",
              "      <th>Claim</th>\n",
              "      <th>Evidence</th>\n",
              "      <th>Label</th>\n",
              "    </tr>\n",
              "  </thead>\n",
              "  <tbody>\n",
              "    <tr>\n",
              "      <th>0</th>\n",
              "      <td>[2103, 107954, 790, 7, 8, 2616, 20647, 3]</td>\n",
              "      <td>[107954, 32, 53, 790, 7, 1, 1122, 3955, 609, 3...</td>\n",
              "      <td>1</td>\n",
              "    </tr>\n",
              "    <tr>\n",
              "      <th>1</th>\n",
              "      <td>[53403, 21758, 15, 8, 1542, 3]</td>\n",
              "      <td>[53403, 21758, 24, 677, 442, 6907, 12, 1022, 4...</td>\n",
              "      <td>1</td>\n",
              "    </tr>\n",
              "    <tr>\n",
              "      <th>2</th>\n",
              "      <td>[53403, 21758, 15, 8, 1005, 3]</td>\n",
              "      <td>[53403, 21758, 24, 677, 442, 6907, 12, 1022, 4...</td>\n",
              "      <td>0</td>\n",
              "    </tr>\n",
              "    <tr>\n",
              "      <th>3</th>\n",
              "      <td>[1323, 32, 2224, 46585, 2755, 3]</td>\n",
              "      <td>[1, 584, 10, 4214, 7817, 2224, 46585, 2755, 27...</td>\n",
              "      <td>1</td>\n",
              "    </tr>\n",
              "    <tr>\n",
              "      <th>4</th>\n",
              "      <td>[1323, 261, 37, 34, 2224, 46585, 2755, 3]</td>\n",
              "      <td>[1, 584, 10, 4214, 7817, 2224, 46585, 2755, 27...</td>\n",
              "      <td>0</td>\n",
              "    </tr>\n",
              "  </tbody>\n",
              "</table>\n",
              "</div>"
            ],
            "text/plain": [
              "                                       Claim  ... Label\n",
              "0  [2103, 107954, 790, 7, 8, 2616, 20647, 3]  ...     1\n",
              "1             [53403, 21758, 15, 8, 1542, 3]  ...     1\n",
              "2             [53403, 21758, 15, 8, 1005, 3]  ...     0\n",
              "3           [1323, 32, 2224, 46585, 2755, 3]  ...     1\n",
              "4  [1323, 261, 37, 34, 2224, 46585, 2755, 3]  ...     0\n",
              "\n",
              "[5 rows x 3 columns]"
            ]
          },
          "metadata": {
            "tags": []
          },
          "execution_count": 15
        }
      ]
    },
    {
      "cell_type": "code",
      "metadata": {
        "id": "dSlPHZ_eeg7g"
      },
      "source": [
        "def build_embedding_matrix(vocab=vocab, embedding_model=glove, embedding_dimension=50) :\n",
        "  matrix = [np.zeros((embedding_dimension))] # first element reserved to padding and set to all zeros\n",
        "  for w in vocab :\n",
        "    if w in embedding_model.vocab :\n",
        "      matrix.append(embedding_model[w])\n",
        "    else:\n",
        "      matrix.append(np.random.uniform(low=-1.0, high=1.0, size=embedding_dimension))\n",
        "  return np.array(matrix)"
      ],
      "execution_count": 16,
      "outputs": []
    },
    {
      "cell_type": "code",
      "metadata": {
        "colab": {
          "base_uri": "https://localhost:8080/"
        },
        "id": "3KoXDFWFggYm",
        "outputId": "14f7f016-3e94-49b0-8c38-bdf7c5553d02"
      },
      "source": [
        "embedding_matrix = build_embedding_matrix(vocab, glove, 50)\n",
        "embedding_matrix.shape"
      ],
      "execution_count": 17,
      "outputs": [
        {
          "output_type": "execute_result",
          "data": {
            "text/plain": [
              "(404455, 50)"
            ]
          },
          "metadata": {
            "tags": []
          },
          "execution_count": 17
        }
      ]
    },
    {
      "cell_type": "code",
      "metadata": {
        "id": "OgzuV5-OgxCQ"
      },
      "source": [
        "import tensorflow as tf\n",
        "from tensorflow.keras.models import Sequential, Model\n",
        "from tensorflow.keras.layers import Input, Dense, Embedding, Bidirectional, \\\n",
        "                                    LSTM, GRU, SimpleRNN, Lambda, TimeDistributed, \\\n",
        "                                    Masking, GlobalMaxPool1D, GlobalAveragePooling1D, \\\n",
        "                                    Activation, Concatenate, Flatten, Reshape, SpatialDropout1D, Dropout\n",
        "\n",
        "from tensorflow.keras.preprocessing.sequence import pad_sequences\n",
        "from sklearn.metrics.pairwise import cosine_similarity\n",
        "\n",
        "tf.random.set_seed(42)"
      ],
      "execution_count": 18,
      "outputs": []
    },
    {
      "cell_type": "code",
      "metadata": {
        "id": "dBJQgMhuEmeR"
      },
      "source": [
        "embedding_layer = Embedding(\n",
        "    embedding_matrix.shape[0],    # vocab size \n",
        "    embedding_matrix.shape[1],    # embedding dimension\n",
        "    embeddings_initializer=tf.initializers.Constant(embedding_matrix),\n",
        "    mask_zero = True,\n",
        "    name = 'embedding',\n",
        "    trainable = False\n",
        ")"
      ],
      "execution_count": 19,
      "outputs": []
    },
    {
      "cell_type": "code",
      "metadata": {
        "id": "a8EgkVgv0G5s"
      },
      "source": [
        "max_length = pad_sequences(enc_train_df['Evidence'], padding='post').shape[1]"
      ],
      "execution_count": 20,
      "outputs": []
    },
    {
      "cell_type": "code",
      "metadata": {
        "id": "vsgHKP72EG3i"
      },
      "source": [
        "sent_emb = Sequential([\n",
        "  #Input((max_length,embedding_dimension,)),\n",
        "  Bidirectional(LSTM(64, return_sequences=False)),\n",
        "  #Masking(mask_value=0.0),\n",
        "  #Lambda(lambda x: tf.reduce_max(x, axis=1)),\n",
        "  #GlobalAveragePooling1D(),\n",
        "  #GlobalMaxPool1D(),\n",
        "  Dense(64),\n",
        "  Dense(embedding_dimension),\n",
        "], name=\"sentence_embedding\")"
      ],
      "execution_count": 31,
      "outputs": []
    },
    {
      "cell_type": "code",
      "metadata": {
        "id": "iiuWDcydpcch"
      },
      "source": [
        "enc_val_df = encode_df(tokenize_df(val_df), word_to_idx)\n",
        "enc_test_df = encode_df(tokenize_df(test_df), word_to_idx)"
      ],
      "execution_count": 22,
      "outputs": []
    },
    {
      "cell_type": "code",
      "metadata": {
        "id": "AdeqmHXT0ogd"
      },
      "source": [
        "padded_train_claim = pad_sequences(enc_train_df['Claim'], maxlen=max_length, padding='post')\n",
        "padded_train_evidence = pad_sequences(enc_train_df['Evidence'], maxlen=max_length, padding='post')\n",
        "\n",
        "padded_val_claim = pad_sequences(enc_val_df['Claim'], maxlen=max_length, padding='post')\n",
        "padded_val_evidence = pad_sequences(enc_val_df['Evidence'], maxlen=max_length, padding='post')\n",
        "\n",
        "padded_test_claim = pad_sequences(enc_test_df['Claim'], maxlen=max_length, padding='post')\n",
        "padded_test_evidence = pad_sequences(enc_test_df['Evidence'], maxlen=max_length, padding='post')"
      ],
      "execution_count": 23,
      "outputs": []
    },
    {
      "cell_type": "markdown",
      "metadata": {
        "id": "DnFTWyj3CnCW"
      },
      "source": [
        "## Model definition"
      ]
    },
    {
      "cell_type": "code",
      "metadata": {
        "id": "hrjJ9z2gtD2o"
      },
      "source": [
        "tf.keras.backend.clear_session()\n",
        "\n",
        "def build_model(max_length) :\n",
        "\n",
        "  claim = Input((max_length,), name='claim')\n",
        "  evidence = Input((max_length), name='evidence')\n",
        "\n",
        "  embedding_c = embedding_layer(claim)\n",
        "  embedding_e = embedding_layer(evidence)\n",
        "\n",
        "  sent_emb_c = sent_emb(embedding_c)\n",
        "  sent_emb_e = sent_emb(embedding_e)\n",
        "\n",
        "  output = Concatenate(name='refined_input')([sent_emb_c, sent_emb_e])\n",
        "  \n",
        "  #output = Reshape((2*embedding_dimension,1))(output)\n",
        "  #output = Bidirectional(LSTM(64, dropout=0.5, return_sequences=True))(output)\n",
        "  #output = TimeDistributed(Dense(32, activation='relu'))(output)\n",
        "  #output = Flatten()(output)\n",
        "  output = Dense(64, activation='relu')(output)\n",
        "  output = Dense(32, activation='relu')(output)\n",
        "  output = Dropout(0.5)(output)\n",
        "  #output = Flatten()(output)\n",
        "  output = Dense(1, activation='sigmoid')(output)\n",
        "\n",
        "  return Model([claim, evidence], output)\n",
        "\n",
        "\n",
        "model = build_model(max_length)"
      ],
      "execution_count": 32,
      "outputs": []
    },
    {
      "cell_type": "code",
      "metadata": {
        "colab": {
          "base_uri": "https://localhost:8080/"
        },
        "id": "IiDyD1yJyWFY",
        "outputId": "e306f1c8-9d80-407f-b43c-ba641b01decb"
      },
      "source": [
        "model.compile(optimizer='adam', loss='binary_crossentropy', metrics=['acc'])\n",
        "model.summary()"
      ],
      "execution_count": 33,
      "outputs": [
        {
          "output_type": "stream",
          "text": [
            "Model: \"functional_1\"\n",
            "__________________________________________________________________________________________________\n",
            "Layer (type)                    Output Shape         Param #     Connected to                     \n",
            "==================================================================================================\n",
            "claim (InputLayer)              [(None, 144)]        0                                            \n",
            "__________________________________________________________________________________________________\n",
            "evidence (InputLayer)           [(None, 144)]        0                                            \n",
            "__________________________________________________________________________________________________\n",
            "embedding (Embedding)           (None, 144, 50)      20222750    claim[0][0]                      \n",
            "                                                                 evidence[0][0]                   \n",
            "__________________________________________________________________________________________________\n",
            "sentence_embedding (Sequential) (None, 50)           70386       embedding[6][0]                  \n",
            "                                                                 embedding[7][0]                  \n",
            "__________________________________________________________________________________________________\n",
            "refined_input (Concatenate)     (None, 100)          0           sentence_embedding[0][0]         \n",
            "                                                                 sentence_embedding[1][0]         \n",
            "__________________________________________________________________________________________________\n",
            "dense (Dense)                   (None, 64)           6464        refined_input[0][0]              \n",
            "__________________________________________________________________________________________________\n",
            "dense_1 (Dense)                 (None, 32)           2080        dense[0][0]                      \n",
            "__________________________________________________________________________________________________\n",
            "dropout (Dropout)               (None, 32)           0           dense_1[0][0]                    \n",
            "__________________________________________________________________________________________________\n",
            "dense_2 (Dense)                 (None, 1)            33          dropout[0][0]                    \n",
            "==================================================================================================\n",
            "Total params: 20,301,713\n",
            "Trainable params: 78,963\n",
            "Non-trainable params: 20,222,750\n",
            "__________________________________________________________________________________________________\n"
          ],
          "name": "stdout"
        }
      ]
    },
    {
      "cell_type": "code",
      "metadata": {
        "colab": {
          "base_uri": "https://localhost:8080/"
        },
        "id": "emdezuhn3vlc",
        "outputId": "bf462651-6c0a-4196-8390-409b6d332bdc"
      },
      "source": [
        "model.fit(x=(padded_train_claim, padded_train_evidence), \n",
        "          y=enc_train_df['Label'],\n",
        "          batch_size=32,\n",
        "          #steps_per_epoch=1000,\n",
        "          epochs=20,\n",
        "          validation_data=((padded_val_claim,padded_val_evidence), enc_val_df['Label'])\n",
        "          )"
      ],
      "execution_count": null,
      "outputs": [
        {
          "output_type": "stream",
          "text": [
            "Epoch 1/20\n",
            "3805/3805 [==============================] - 96s 25ms/step - loss: 0.4641 - acc: 0.8010 - val_loss: 0.5968 - val_acc: 0.6775\n",
            "Epoch 2/20\n",
            "3805/3805 [==============================] - 91s 24ms/step - loss: 0.3972 - acc: 0.8364 - val_loss: 0.6275 - val_acc: 0.6955\n",
            "Epoch 3/20\n",
            "3660/3805 [===========================>..] - ETA: 3s - loss: 0.3712 - acc: 0.8454"
          ],
          "name": "stdout"
        }
      ]
    },
    {
      "cell_type": "code",
      "metadata": {
        "id": "SAhLDFbhzUlz"
      },
      "source": [
        "X1 = padded_train_claim[2].reshape(1, -1)\n",
        "X2 = padded_train_evidence[2].reshape(1, -1)"
      ],
      "execution_count": null,
      "outputs": []
    },
    {
      "cell_type": "code",
      "metadata": {
        "id": "dCrgyjNZAZ9z"
      },
      "source": [
        "model((X1,X2))"
      ],
      "execution_count": null,
      "outputs": []
    },
    {
      "cell_type": "code",
      "metadata": {
        "id": "VY1CLP6y2jvo"
      },
      "source": [
        "sent_emb(embedding_layer(X1))"
      ],
      "execution_count": null,
      "outputs": []
    },
    {
      "cell_type": "markdown",
      "metadata": {
        "id": "OAsqp1XhCsEf"
      },
      "source": [
        "## Training"
      ]
    },
    {
      "cell_type": "markdown",
      "metadata": {
        "id": "dzxK6rQRC0pC"
      },
      "source": [
        "## Evaluation"
      ]
    },
    {
      "cell_type": "markdown",
      "metadata": {
        "id": "-lcB4gMa550_"
      },
      "source": [
        "## Debug"
      ]
    },
    {
      "cell_type": "code",
      "metadata": {
        "id": "zeaKEOpyesqA"
      },
      "source": [
        "# Example 4\n",
        "id1 = 0\n",
        "#id1 = 78061\n",
        "#id1 = 7612\n",
        "v1 = sent_emb(pad_sequences(enc_train_df['Claim'], maxlen=max_length, padding='post')[id1].reshape(1, -1))\n",
        "v2 = sent_emb(pad_sequences(enc_train_df['Evidence'], maxlen=max_length, padding='post')[id1].reshape(1, -1))\n",
        "sim = cosine_similarity(v1, v2)\n",
        "print(f'similarity between \\\"{train_df[\"Claim\"][id1]}\\\" and \\\"{train_df[\"Evidence\"][id1]}\\\":')\n",
        "print(sim)"
      ],
      "execution_count": null,
      "outputs": []
    },
    {
      "cell_type": "code",
      "metadata": {
        "id": "Z1dtoIXR2jkj"
      },
      "source": [
        "# Example 1\n",
        "id1 = 7612\n",
        "id2 = 78061\n",
        "v1 = sent_emb(pad_sequences(enc_train_df['Claim'], padding='post')[id1].reshape(1, -1))\n",
        "v2 = sent_emb(pad_sequences(enc_train_df['Claim'], padding='post')[id2].reshape(1, -1))\n",
        "sim = cosine_similarity(v1, v2)\n",
        "print(f'similarity between \\\"{train_df[\"Claim\"][id1]}\\\" and \\\"{train_df[\"Claim\"][id2]}\\\":')\n",
        "print(sim)"
      ],
      "execution_count": null,
      "outputs": []
    },
    {
      "cell_type": "code",
      "metadata": {
        "id": "CMMPsVr_4hNy"
      },
      "source": [
        "# Example 2\n",
        "id1 = 1\n",
        "id2 = 2\n",
        "v1 = sent_emb(pad_sequences(enc_train_df['Claim'], padding='post')[id1].reshape(1, -1))\n",
        "v2 = sent_emb(pad_sequences(enc_train_df['Claim'], padding='post')[id2].reshape(1, -1))\n",
        "sim = cosine_similarity(v1, v2)\n",
        "print(f'similarity between \\\"{train_df[\"Claim\"][id1]}\\\" and \\\"{train_df[\"Claim\"][id2]}\\\":')\n",
        "print(sim)\n",
        "#embedding_layer(pad_sequences(enc_train_df['Claim'], padding='post')[0].reshape(1, -1)).shape"
      ],
      "execution_count": null,
      "outputs": []
    },
    {
      "cell_type": "code",
      "metadata": {
        "id": "kkSBdwbaJEjg"
      },
      "source": [
        "# Example 3\n",
        "id1 = 0\n",
        "id2 = 3\n",
        "v1 = sent_emb(pad_sequences(enc_train_df['Claim'], padding='post')[id1].reshape(1, -1))\n",
        "v2 = sent_emb(pad_sequences(enc_train_df['Claim'], padding='post')[id2].reshape(1, -1))\n",
        "sim = cosine_similarity(v1, v2)\n",
        "print(f'similarity between \\\"{train_df[\"Claim\"][id1]}\\\" and \\\"{train_df[\"Claim\"][id2]}\\\":')\n",
        "print(sim)\n",
        "#embedding_layer(pad_sequences(enc_train_df['Claim'], padding='post')[0].reshape(1, -1)).shape"
      ],
      "execution_count": null,
      "outputs": []
    },
    {
      "cell_type": "code",
      "metadata": {
        "id": "q5j1ow_NdLOi"
      },
      "source": [
        "glove.similarity('american', 'swedish')"
      ],
      "execution_count": null,
      "outputs": []
    },
    {
      "cell_type": "code",
      "metadata": {
        "id": "H8Ha0LFP6Sy2"
      },
      "source": [
        "len(enc_train_df[\"Evidence\"][3])"
      ],
      "execution_count": null,
      "outputs": []
    },
    {
      "cell_type": "code",
      "metadata": {
        "id": "5uozkFV_HdGs"
      },
      "source": [
        "# debug\n",
        "train_df[train_df[\"Evidence\"].str.contains(\"Swift\")]"
      ],
      "execution_count": null,
      "outputs": []
    }
  ]
}