{
 "cells": [
  {
   "cell_type": "markdown",
   "metadata": {
    "id": "3GM9DBN-Qz3k"
   },
   "source": [
    "# Assignment 4\n",
    "\n",
    "**Due to**: TBD\n",
    "\n",
    "**Credits**: Andrea Galassi, Federico Ruggeri, Paolo Torroni\n",
    "\n",
    "**Summary**: Fact checking, Neural Languange Inference (**NLI**)"
   ]
  },
  {
   "cell_type": "markdown",
   "metadata": {
    "id": "tO_-4CZeRCO7"
   },
   "source": [
    "# Intro\n",
    "\n",
    "This assignment is centred on a particular and emerging NLP task, formally known as **fact checking** (or fake checking). As AI techniques become more and more powerful, reaching amazing results, such as image and text generation, it is more than ever necessary to build tools able to distinguish what is real from what is fake.\n",
    "\n",
    "Here we focus on a small portion of the whole fact checking problem, which aims to determine whether a given statement (fact) conveys a trustworthy information or not. \n",
    "\n",
    "More precisely, given a set of evidences and a fact to verify, we would like our model to correctly predict whether the fact is true or fake.\n",
    "\n",
    "In particular, we will see:\n",
    "\n",
    "*   Dataset preparation (analysis and pre-processing)\n",
    "*   Problem formulation: multi-input binary classification\n",
    "*   Defining an evaluation method\n",
    "*   Simple sentence embedding\n",
    "*   Neural building blocks\n",
    "*   Neural architecture extension"
   ]
  },
  {
   "cell_type": "markdown",
   "metadata": {
    "id": "hGDwg78PS_uy"
   },
   "source": [
    "# The FEVER dataset\n",
    "\n",
    "First of all, we need to choose a dataset. In this assignment we will rely on the [FEVER dataset](https://fever.ai).\n",
    "\n",
    "The dataset is about facts taken from Wikipedia documents that have to be verified. In particular, facts could face manual modifications in order to define fake information or to give different formulations of the same concept.\n",
    "\n",
    "The dataset consists of 185,445 claims manually verified against the introductory sections of Wikipedia pages and classified as ```Supported```, ```Refuted``` or ```NotEnoughInfo```. For the first two classes, systems and annotators need to also return the combination of sentences forming the necessary evidence supporting or refuting the claim."
   ]
  },
  {
   "cell_type": "markdown",
   "metadata": {
    "id": "4Oa5FpVpT7p4"
   },
   "source": [
    "## Dataset structure\n",
    "\n",
    "Relevant data is divided into two file types. Information concerning the fact to verify, its verdict and associated supporting/opposing statements are stored in **.jsonl** format. In particular, each JSON element is a python dictionary with the following relevant fields:\n",
    "\n",
    "*    **ID**: ID associated to the fact to verify.\n",
    "\n",
    "*    **Verifiable**: whether the fact has been verified or not: ```VERIFIABLE``` (or ```NOT VERIFIABLE```).\n",
    "    \n",
    "*    **Label**: the final verdict on the fact to verify: ```SUPPORTS```, ```REFUTES``` (or ```NOT ENOUGH INFO```).\n",
    "    \n",
    "*    **Claim**: the fact to verify.\n",
    "    \n",
    "*    **Evidence**: a nested list of document IDs along with the sentence ID that is associated to the fact to verify. In particular, each list element is a tuple of four elements: the first two are internal annotator IDs that can be safely ignored; the third term is the document ID (called URL) and the last one is the sentence number (ID) in the pointed document to consider.\n",
    "\n",
    "**Some Examples**\n",
    "\n",
    "---\n",
    "\n",
    "**Verifiable**\n",
    "\n",
    "{\"id\": 202314, \"verifiable\": \"VERIFIABLE\", \"label\": \"REFUTES\", \"claim\": \"The New Jersey Turnpike has zero shoulders.\", \"evidence\": [[[238335, 240393, \"New_Jersey_Turnpike\", 15]]]}\n",
    "\n",
    "---\n",
    "\n",
    "**Not Verifiable**\n",
    "\n",
    "{\"id\": 113501, \"verifiable\": \"NOT VERIFIABLE\", \"label\": \"NOT ENOUGH INFO\", \"claim\": \"Grease had bad reviews.\", \"evidence\": [[[133128, null, null, null]]]}\n",
    "\n",
    "---"
   ]
  },
  {
   "cell_type": "markdown",
   "metadata": {
    "id": "nex_8UM4VWuY"
   },
   "source": [
    "## Some simplifications and pre-processing\n",
    "\n",
    "We are only interested in verifiable facts. Thus, we can filter out all non-verifiable claims.\n",
    "\n",
    "Additionally, the current dataset format does not contain all necessary information for our classification purposes. In particular, we need to download Wikipedia documents and replace reported evidence IDs with the corresponding text.\n",
    "\n",
    "Don't worry about that! We are providing you the already pre-processed dataset so that you can concentrate on the classification pipeline (pre-processing, model definition, evaluation and training).\n",
    "\n",
    "You can download the zip file containing all set splits (train, validation and test) of the FEVER dataset by clicking on this [link](https://drive.google.com/file/d/1wArZhF9_SHW17WKNGeLmX-QTYw9Zscl1/view?usp=sharing). Alternatively, run the below code cell to automatically download it on this notebook.\n",
    "\n",
    "**Note**: each dataset split is in .csv format. Feel free to inspect the whole dataset!"
   ]
  },
  {
   "cell_type": "code",
   "execution_count": 2,
   "metadata": {
    "colab": {
     "base_uri": "https://localhost:8080/"
    },
    "id": "BspxZcRjW0NG",
    "outputId": "23dd2947-797f-4d0a-e307-7666d1e2e7ae"
   },
   "outputs": [],
   "source": [
    "import os\n",
    "import requests\n",
    "import zipfile\n",
    "\n",
    "def save_response_content(response, destination):\n",
    "    CHUNK_SIZE = 32768\n",
    "\n",
    "    with open(destination, \"wb\") as f:\n",
    "        for chunk in response.iter_content(CHUNK_SIZE):\n",
    "            if chunk: # filter out keep-alive new chunks\n",
    "                f.write(chunk)\n",
    "\n",
    "def download_data(data_path):\n",
    "    toy_data_path = os.path.join(data_path, 'fever_data.zip')\n",
    "    toy_data_url_id = \"1wArZhF9_SHW17WKNGeLmX-QTYw9Zscl1\"\n",
    "    toy_url = \"https://docs.google.com/uc?export=download\"\n",
    "\n",
    "    if not os.path.exists(data_path):\n",
    "        os.makedirs(data_path)\n",
    "\n",
    "    if not os.path.exists(toy_data_path):\n",
    "        print(\"Downloading FEVER data splits...\")\n",
    "        with requests.Session() as current_session:\n",
    "            response = current_session.get(toy_url,\n",
    "                                   params={'id': toy_data_url_id},\n",
    "                                   stream=True)\n",
    "        save_response_content(response, toy_data_path)\n",
    "        print(\"Download completed!\")\n",
    "\n",
    "        print(\"Extracting dataset...\")\n",
    "        with zipfile.ZipFile(toy_data_path) as loaded_zip:\n",
    "            loaded_zip.extractall(data_path)\n",
    "        print(\"Extraction completed!\")\n",
    "\n",
    "download_data('dataset')"
   ]
  },
  {
   "cell_type": "markdown",
   "metadata": {
    "id": "RbH_8errW5MH"
   },
   "source": [
    "# Classification dataset\n",
    "\n",
    "At this point, you should have a reay-to-go dataset! Note that the dataset format changed as well! In particular, we split the evidence set associated to each claim, in order to build (claim, evidence) pairs. The classification label is propagated as well.\n",
    "\n",
    "We'll motivate this decision in the next section!\n",
    "\n",
    "Just for clarity, here's an example of the pre-processed dataset:\n",
    "\n",
    "---\n",
    "\n",
    "**Claim**: \"Wentworth Miller is yet to make his screenwriting debut.\"\n",
    "\n",
    "**Evidence**: \"2\tHe made his screenwriting debut with the 2013 thriller film Stoker .\tStoker\tStoker (film)\"\n",
    "\n",
    "**Label**: Refutes\n",
    "\n",
    "---\n",
    "\n",
    "**Note**: The dataset requires some text cleaning as you may notice!\n"
   ]
  },
  {
   "cell_type": "markdown",
   "metadata": {
    "id": "gH8hIK21Xrl0"
   },
   "source": [
    "# Problem formulation\n",
    "\n",
    "As mentioned at the beginning of the assignment, we are going to formulate the fact checking problem as a binary classification task.\n",
    "\n",
    "In particular, each dataset sample is comprised of:\n",
    "\n",
    "*     A claim to verify\n",
    "*     A set of semantically related statements (evidence set)\n",
    "*     Fact checking label: either evidences support or refute the claim.\n",
    "\n",
    "Handling the evidence set from the point of view of neural models may imply some additional complexity: if the evidence set is comprised of several sentences we might incur in memory problems.\n",
    "\n",
    "To this end, we further simplify the problem by building (claim, evidence) pairs. The fact checking label is propagated as well.\n",
    "\n",
    "Example:\n",
    "\n",
    "     Claim: c1 \n",
    "     Evidence set: [e1, e2, e3]\n",
    "     Label: S (support)\n",
    "\n",
    "--->\n",
    "\n",
    "    (c1, e1, S),\n",
    "    (c1, e2, S),\n",
    "    (c1, e3, S)"
   ]
  },
  {
   "cell_type": "markdown",
   "metadata": {
    "id": "E46flIz_zQy-"
   },
   "source": [
    "## Schema\n",
    "\n",
    "The overall binary classification problem is summed up by the following (simplified) schema\n",
    "\n",
    "![](https://drive.google.com/uc?export=view&id=1Wm_YBnFwgJtxcWEBpPbTBEVkpKaL08Jp)\n",
    "\n",
    "Don't worry too much about the **Encoding** block for now. We'll give you some simple guidelines about its definition. For the moment, stick to the binary classification task definition where, in this case, we have 2 inputs: the claim to verify and one of its associated evidences."
   ]
  },
  {
   "cell_type": "markdown",
   "metadata": {
    "id": "LsiTV-NVdgsF"
   },
   "source": [
    "# Architecture Guidelines\n",
    "\n",
    "There are many neural architectures that follow the above schema. To avoid phenomena like the writer's block, in this section we are going to give you some implementation guidelines.\n",
    "\n",
    "In particular, we would like you to test some implementations so that you explore basic approaches (neural baselines) and use them as building blocks for possible extensions."
   ]
  },
  {
   "cell_type": "markdown",
   "metadata": {
    "id": "ZJBQm47fe7iE"
   },
   "source": [
    "## Handling multiple inputs\n",
    "\n",
    "The first thing to notice is that we are in a multi-input scenario. In particular, each sample is comprised of a fact and its asssociated evidence statement.\n",
    "\n",
    "Each of these input is encoded as a sequence of tokens. In particular, we will have the following input matrices:\n",
    "\n",
    "*    Claim: [batch_size, max_tokens]\n",
    "*    Evidence: [batch_size, max_tokens]\n",
    "\n",
    "Moreover, after the embedding layer, we'll have:\n",
    "\n",
    "*    Claim: [batch_size, max_tokens, embedding_dim]\n",
    "*    Evidence: [batch_size, max_tokens, embedding_dim]\n",
    "\n",
    "But, we would like to have a 2D input to our classifier, since we have to give an answer at pair level. Therefore, for each sample, we would expect the following input shape to our classification block:\n",
    "\n",
    "*   Classification input shape: [batch_size, dim]\n",
    "\n",
    "**How to do that?**\n",
    "\n",
    "We inherently need to reduce the token sequence to a single representation. This operation is formally known as **sentence embedding**. Indeed, we are trying to compress the information of a whole sequence into a single embedding vector.\n",
    "\n",
    "Here are some simple solutions that we ask you to try out:\n",
    "\n",
    "*   Encode token sequences via a RNN and take the last state as the sentence embedding.\n",
    "\n",
    "*   Encode token sequences via a RNN and average all the output states.\n",
    "\n",
    "*   Encode token sequences via a simple MLP layer. In particular, if your input is a [batch_size, max_tokens, embedding_dim] tensor, the matrix multiplication works on the **max_tokens** dimension, resulting in a [batch_size, embedding_dim] 2D matrix.\n",
    "\n",
    "*   Compute the sentence embedding as the mean of its token embeddings (**bag of vectors**)."
   ]
  },
  {
   "cell_type": "markdown",
   "metadata": {},
   "source": [
    "## from here"
   ]
  },
  {
   "cell_type": "code",
   "execution_count": 3,
   "metadata": {},
   "outputs": [],
   "source": [
    "import pandas as pd\n",
    "# import necessary libraries\n",
    "import warnings\n",
    "warnings.filterwarnings(\"ignore\")\n",
    "\n",
    "import numpy as np\n",
    "\n",
    "from matplotlib import pyplot as plt\n",
    "\n",
    "from nltk.corpus import brown\n",
    "from nltk.corpus import treebank\n",
    "from nltk.corpus import conll2000\n",
    "\n",
    "import seaborn as sns\n",
    "\n",
    "from gensim.models import KeyedVectors\n",
    "\n",
    "from keras.preprocessing.sequence import pad_sequences\n",
    "from keras.utils.np_utils import to_categorical\n",
    "from keras.models import Sequential\n",
    "from keras.layers import Embedding\n",
    "from keras.layers import Dense, Input\n",
    "from keras.layers import TimeDistributed\n",
    "from keras.layers import LSTM, GRU, Bidirectional, SimpleRNN, RNN\n",
    "from keras.models import Model\n",
    "from keras.preprocessing.text import Tokenizer\n",
    "\n",
    "from sklearn.model_selection import train_test_split\n",
    "from sklearn.utils import shuffle"
   ]
  },
  {
   "cell_type": "code",
   "execution_count": 24,
   "metadata": {},
   "outputs": [],
   "source": [
    "train_df = pd.read_csv('dataset/train_pairs.csv')\n",
    "val_df = pd.read_csv('dataset/val_pairs.csv')\n",
    "test_df = pd.read_csv('dataset/test_pairs.csv')"
   ]
  },
  {
   "cell_type": "code",
   "execution_count": 25,
   "metadata": {},
   "outputs": [
    {
     "data": {
      "text/html": [
       "<div>\n",
       "<style scoped>\n",
       "    .dataframe tbody tr th:only-of-type {\n",
       "        vertical-align: middle;\n",
       "    }\n",
       "\n",
       "    .dataframe tbody tr th {\n",
       "        vertical-align: top;\n",
       "    }\n",
       "\n",
       "    .dataframe thead th {\n",
       "        text-align: right;\n",
       "    }\n",
       "</style>\n",
       "<table border=\"1\" class=\"dataframe\">\n",
       "  <thead>\n",
       "    <tr style=\"text-align: right;\">\n",
       "      <th></th>\n",
       "      <th>Unnamed: 0</th>\n",
       "      <th>Claim</th>\n",
       "      <th>Evidence</th>\n",
       "      <th>ID</th>\n",
       "      <th>Label</th>\n",
       "    </tr>\n",
       "  </thead>\n",
       "  <tbody>\n",
       "    <tr>\n",
       "      <th>0</th>\n",
       "      <td>0</td>\n",
       "      <td>Chris Hemsworth appeared in A Perfect Getaway.</td>\n",
       "      <td>2\\tHemsworth has also appeared in the science ...</td>\n",
       "      <td>3</td>\n",
       "      <td>SUPPORTS</td>\n",
       "    </tr>\n",
       "    <tr>\n",
       "      <th>1</th>\n",
       "      <td>1</td>\n",
       "      <td>Roald Dahl is a writer.</td>\n",
       "      <td>0\\tRoald Dahl -LRB- -LSB- langpronˈroʊ.əld _ ˈ...</td>\n",
       "      <td>7</td>\n",
       "      <td>SUPPORTS</td>\n",
       "    </tr>\n",
       "    <tr>\n",
       "      <th>2</th>\n",
       "      <td>2</td>\n",
       "      <td>Roald Dahl is a governor.</td>\n",
       "      <td>0\\tRoald Dahl -LRB- -LSB- langpronˈroʊ.əld _ ˈ...</td>\n",
       "      <td>8</td>\n",
       "      <td>REFUTES</td>\n",
       "    </tr>\n",
       "    <tr>\n",
       "      <th>3</th>\n",
       "      <td>3</td>\n",
       "      <td>Ireland has relatively low-lying mountains.</td>\n",
       "      <td>10\\tThe island 's geography comprises relative...</td>\n",
       "      <td>9</td>\n",
       "      <td>SUPPORTS</td>\n",
       "    </tr>\n",
       "    <tr>\n",
       "      <th>4</th>\n",
       "      <td>4</td>\n",
       "      <td>Ireland does not have relatively low-lying mou...</td>\n",
       "      <td>10\\tThe island 's geography comprises relative...</td>\n",
       "      <td>10</td>\n",
       "      <td>REFUTES</td>\n",
       "    </tr>\n",
       "  </tbody>\n",
       "</table>\n",
       "</div>"
      ],
      "text/plain": [
       "   Unnamed: 0                                              Claim  \\\n",
       "0           0     Chris Hemsworth appeared in A Perfect Getaway.   \n",
       "1           1                            Roald Dahl is a writer.   \n",
       "2           2                          Roald Dahl is a governor.   \n",
       "3           3        Ireland has relatively low-lying mountains.   \n",
       "4           4  Ireland does not have relatively low-lying mou...   \n",
       "\n",
       "                                            Evidence  ID     Label  \n",
       "0  2\\tHemsworth has also appeared in the science ...   3  SUPPORTS  \n",
       "1  0\\tRoald Dahl -LRB- -LSB- langpronˈroʊ.əld _ ˈ...   7  SUPPORTS  \n",
       "2  0\\tRoald Dahl -LRB- -LSB- langpronˈroʊ.əld _ ˈ...   8   REFUTES  \n",
       "3  10\\tThe island 's geography comprises relative...   9  SUPPORTS  \n",
       "4  10\\tThe island 's geography comprises relative...  10   REFUTES  "
      ]
     },
     "execution_count": 25,
     "metadata": {},
     "output_type": "execute_result"
    }
   ],
   "source": [
    "train_df.head()"
   ]
  },
  {
   "cell_type": "code",
   "execution_count": 26,
   "metadata": {},
   "outputs": [],
   "source": [
    "# data cleaning"
   ]
  },
  {
   "cell_type": "code",
   "execution_count": 27,
   "metadata": {},
   "outputs": [
    {
     "name": "stdout",
     "output_type": "stream",
     "text": [
      "Pre-processing text...\n",
      "Pre-processing completed!\n"
     ]
    }
   ],
   "source": [
    "import re\n",
    "from functools import reduce\n",
    "import nltk\n",
    "from nltk.corpus import stopwords\n",
    "\n",
    "# Config\n",
    "\n",
    "REPLACE_BY_SPACE_RE = re.compile('[/(){}\\[\\]\\|@,;]')\n",
    "GOOD_SYMBOLS_RE = re.compile('[^0-9a-z #+_]')\n",
    "try:\n",
    "    STOPWORDS = set(stopwords.words('english'))\n",
    "except LookupError:\n",
    "    nltk.download('stopwords')\n",
    "    STOPWORDS = set(stopwords.words('english'))\n",
    "\n",
    "def lower(text):\n",
    "    return text.lower()\n",
    "\n",
    "def replace_special_characters(text):\n",
    "    return REPLACE_BY_SPACE_RE.sub(' ', text)\n",
    "\n",
    "def filter_out_uncommon_symbols(text):\n",
    "    return GOOD_SYMBOLS_RE.sub('', text)\n",
    "\n",
    "def remove_stopwords(text):\n",
    "    return ' '.join([x for x in text.split() if x and x not in STOPWORDS])\n",
    "\n",
    "def strip_text(text):\n",
    "    return text.strip()\n",
    "\n",
    "def remove_numbers(text):\n",
    "    return ''.join([i for i in text if not i.isdigit()])\n",
    "\n",
    "PREPROCESSING_PIPELINE = [\n",
    "                          lower,\n",
    "                          replace_special_characters,\n",
    "                          filter_out_uncommon_symbols,\n",
    "                          remove_stopwords,\n",
    "                          strip_text,\n",
    "                          remove_numbers\n",
    "                          ]\n",
    "\n",
    "\n",
    "def text_prepare(text, filter_methods=None):\n",
    "    \"\"\"\n",
    "    Applies a list of pre-processing functions in sequence (reduce).\n",
    "    Note that the order is important here!\n",
    "    \"\"\"\n",
    "    filter_methods = filter_methods if filter_methods is not None else PREPROCESSING_PIPELINE\n",
    "    return reduce(lambda txt, f: f(txt), filter_methods, text)\n",
    "\n",
    "# Pre-processing\n",
    "print('Pre-processing text...')\n",
    "# Replace each sentence with its pre-processed version\n",
    "train_df['Claim'] = train_df['Claim'].apply(lambda txt: text_prepare(txt))\n",
    "train_df['Evidence'] = train_df['Evidence'].apply(lambda txt: text_prepare(txt))\n",
    "\n",
    "val_df['Claim'] = val_df['Claim'].apply(lambda txt: text_prepare(txt))\n",
    "val_df['Evidence'] = val_df['Evidence'].apply(lambda txt: text_prepare(txt))\n",
    "\n",
    "test_df['Claim'] = test_df['Claim'].apply(lambda txt: text_prepare(txt))\n",
    "test_df['Evidence'] = test_df['Evidence'].apply(lambda txt: text_prepare(txt))\n",
    "\n",
    "print(\"Pre-processing completed!\")"
   ]
  },
  {
   "cell_type": "code",
   "execution_count": 6,
   "metadata": {},
   "outputs": [],
   "source": [
    "# build vocabulary"
   ]
  },
  {
   "cell_type": "code",
   "execution_count": 28,
   "metadata": {},
   "outputs": [],
   "source": [
    "def build_voc(df):\n",
    "    voc_inverted = {}\n",
    "    current_index = 0\n",
    "    df_text = np.array(df)\n",
    "    for i in range(df_text.shape[0]):\n",
    "        df_text_split = df_text[i].split(' ')\n",
    "        for word in df_text_split:\n",
    "            if word not in voc_inverted:\n",
    "                voc_inverted[word] = current_index\n",
    "                current_index += 1\n",
    "    \n",
    "    voc = {v: k for k, v in voc_inverted.items()}\n",
    "    \n",
    "    return voc, voc_inverted, voc_inverted.keys()\n",
    "# idx_to_word, word_to_idx, word_listing\n",
    "train_voc_claim = build_voc(train_df['Claim'])\n",
    "train_voc_evidence = build_voc(train_df['Evidence'])\n",
    "\n",
    "val_voc_claim = build_voc(val_df['Claim'])\n",
    "val_voc_evidence = build_voc(val_df['Evidence'])\n",
    "\n",
    "test_voc_claim = build_voc(test_df['Claim'])\n",
    "test_voc_evidence = build_voc(test_df['Evidence'])"
   ]
  },
  {
   "cell_type": "code",
   "execution_count": 8,
   "metadata": {},
   "outputs": [],
   "source": [
    "import gensim\n",
    "import gensim.downloader as gloader\n",
    "\n",
    "def load_embedding_model(model_type, embedding_dimension=300):\n",
    "    download_path = \"\"\n",
    "\n",
    "    # Find the correct embedding model name\n",
    "    if model_type.strip().lower() == 'word2vec':\n",
    "        download_path = \"word2vec-google-news-300\"\n",
    "\n",
    "    elif model_type.strip().lower() == 'glove':\n",
    "        download_path = \"glove-wiki-gigaword-{}\".format(embedding_dimension)\n",
    "\n",
    "    else:\n",
    "        raise AttributeError(\"Unsupported embedding model type! Available ones: word2vec, glove\")\n",
    "\n",
    "    # Check download\n",
    "    try:\n",
    "        emb_model = gloader.load(download_path)\n",
    "    except ValueError as e:\n",
    "        print(\"Invalid embedding model name! Check the embedding dimension:\")\n",
    "        print(\"Word2Vec: 300\")\n",
    "        print(\"Glove: 50, 100, 200, 300\")\n",
    "        raise e\n",
    "\n",
    "    return emb_model\n",
    "\n",
    "embedding_model_type = \"glove\"\n",
    "embedding_dimension = 50\n",
    "\n",
    "embedding_model = load_embedding_model(embedding_model_type, embedding_dimension)"
   ]
  },
  {
   "cell_type": "code",
   "execution_count": 30,
   "metadata": {},
   "outputs": [],
   "source": [
    "def check_OOV_terms(embedding_model, word_listing):\n",
    "    model_vocab_array = np.array(list(embedding_model.vocab.keys()))\n",
    "    word_listing_array = np.array(list(word_listing))\n",
    "    return list(np.setdiff1d(word_listing_array, model_vocab_array))\n",
    "# claim train\n",
    "train_oov_terms_claim = check_OOV_terms(embedding_model, train_voc_claim[2]) # voc_claim[2] represents\n",
    "                                                                       # the word listing\n",
    "# evidence train\n",
    "train_oov_terms_evidence = check_OOV_terms(embedding_model, train_voc_evidence[2])\n",
    "\n",
    "\n",
    "# claim val\n",
    "val_oov_terms_claim = check_OOV_terms(embedding_model, val_voc_claim[2])\n",
    "# evidence val\n",
    "val_oov_terms_evidence = check_OOV_terms(embedding_model, val_voc_evidence[2])\n",
    "\n",
    "# claim test\n",
    "test_oov_terms_claim = check_OOV_terms(embedding_model, test_voc_claim[2])\n",
    "# evidence test\n",
    "test_oov_terms_evidence = check_OOV_terms(embedding_model, test_voc_evidence[2])"
   ]
  },
  {
   "cell_type": "code",
   "execution_count": 31,
   "metadata": {},
   "outputs": [],
   "source": [
    "def build_embedding_matrix(embedding_model, embedding_dimension, word_to_idx, oov_terms):\n",
    "    words = np.array(list(word_to_idx.keys()))\n",
    "    embedding_matrix = np.zeros((len(words), embedding_dimension))    \n",
    "    for idx, w in enumerate(words):\n",
    "        if w not in oov_terms:\n",
    "            embedding_matrix[idx, :] = np.array(embedding_model.wv[w])\n",
    "        else:\n",
    "           # random vectors\n",
    "            mu, sigma = 0, 0.1 # mean and standard deviation\n",
    "            embedding_matrix[idx, :] = np.random.normal(mu, sigma, embedding_dimension)\n",
    "    return embedding_matrix\n",
    "train_embedding_matrix_claim = build_embedding_matrix(embedding_model, embedding_dimension, train_voc_claim[1], train_oov_terms_claim)\n",
    "train_embedding_matrix_evidence = build_embedding_matrix(embedding_model, embedding_dimension, train_voc_evidence[1], train_oov_terms_evidence)\n",
    "\n",
    "val_embedding_matrix_claim = build_embedding_matrix(embedding_model, embedding_dimension, val_voc_claim[1], val_oov_terms_claim)\n",
    "val_embedding_matrix_evidence = build_embedding_matrix(embedding_model, embedding_dimension, val_voc_evidence[1], val_oov_terms_evidence)\n",
    "\n",
    "test_embedding_matrix_claim = build_embedding_matrix(embedding_model, embedding_dimension, test_voc_claim[1], test_oov_terms_claim)\n",
    "test_embedding_matrix_evidence = build_embedding_matrix(embedding_model, embedding_dimension, test_voc_evidence[1], test_oov_terms_evidence)"
   ]
  },
  {
   "cell_type": "code",
   "execution_count": 37,
   "metadata": {},
   "outputs": [],
   "source": [
    "embedding_matrix = np.vstack(((train_embedding_matrix_claim,\n",
    "                               train_embedding_matrix_evidence,\n",
    "                               val_embedding_matrix_claim,\n",
    "                               val_embedding_matrix_evidence,\n",
    "                               test_embedding_matrix_claim,\n",
    "                               test_embedding_matrix_evidence\n",
    "                              )))"
   ]
  },
  {
   "cell_type": "code",
   "execution_count": 53,
   "metadata": {},
   "outputs": [
    {
     "data": {
      "text/plain": [
       "(127372, 50)"
      ]
     },
     "execution_count": 53,
     "metadata": {},
     "output_type": "execute_result"
    }
   ],
   "source": [
    "embedding_matrix.shape"
   ]
  },
  {
   "cell_type": "code",
   "execution_count": 14,
   "metadata": {},
   "outputs": [],
   "source": [
    "def create_3D_matrix(train_df, voc_df, max_length, embedding_matrix, embedding_dimension):\n",
    "    train_df_array = np.array(train_df)\n",
    "    # zero padding\n",
    "    three_dim_matrix = np.zeros((train_df_array.shape[0], max_length, embedding_dimension))\n",
    "    for i in range(train_df_array.shape[0]):\n",
    "        df_claim_row = train_df_array[i].split(' ')\n",
    "        for idx, word in enumerate(df_claim_row):\n",
    "            three_dim_matrix[i, idx, :] = embedding_matrix[voc_df[1][word]]\n",
    "    return three_dim_matrix"
   ]
  },
  {
   "cell_type": "code",
   "execution_count": 42,
   "metadata": {},
   "outputs": [],
   "source": [
    "max_length = 150"
   ]
  },
  {
   "cell_type": "code",
   "execution_count": 56,
   "metadata": {},
   "outputs": [],
   "source": [
    "import tensorflow as tf\n",
    "from tensorflow.keras.models import Sequential\n",
    "from tensorflow.keras.layers import Input, Dense, Embedding, Bidirectional, \\\n",
    "                                    LSTM, GRU, SimpleRNN, Lambda, TimeDistributed, \\\n",
    "                                    Masking, GlobalMaxPool1D, GlobalAveragePooling1D, \\\n",
    "                                    Activation, Concatenate, Flatten, Reshape, SpatialDropout1D, Dropout\n",
    "\n",
    "from tensorflow.keras.preprocessing.sequence import pad_sequences\n",
    "from sklearn.metrics.pairwise import cosine_similarity\n",
    "from tensorflow.keras.models import Model\n",
    "from tensorflow.keras.layers import Layer\n",
    "tf.random.set_seed(42)"
   ]
  },
  {
   "cell_type": "code",
   "execution_count": 57,
   "metadata": {},
   "outputs": [],
   "source": [
    "## test"
   ]
  },
  {
   "cell_type": "code",
   "execution_count": 45,
   "metadata": {},
   "outputs": [],
   "source": [
    "# for trining data\n",
    "word_tokenizer = Tokenizer()                      # instantiate tokeniser\n",
    "word_tokenizer.fit_on_texts(train_df['Claim'])    # fit tokeniser on data\n",
    "train_df_claim_enc = word_tokenizer.texts_to_sequences(train_df['Claim'])\n",
    "\n",
    "word_tokenizer = Tokenizer()                      \n",
    "word_tokenizer.fit_on_texts(train_df['Evidence'])\n",
    "train_df_evidence_enc = word_tokenizer.texts_to_sequences(train_df['Evidence'])\n",
    "\n",
    "# for val data\n",
    "word_tokenizer = Tokenizer()\n",
    "word_tokenizer.fit_on_texts(val_df['Claim'])\n",
    "val_df_claim_enc = word_tokenizer.texts_to_sequences(val_df['Claim'])\n",
    "\n",
    "word_tokenizer = Tokenizer()                      \n",
    "word_tokenizer.fit_on_texts(val_df['Evidence'])\n",
    "val_df_evidence_enc = word_tokenizer.texts_to_sequences(val_df['Evidence'])"
   ]
  },
  {
   "cell_type": "code",
   "execution_count": 46,
   "metadata": {},
   "outputs": [],
   "source": [
    "embedding_layer = Embedding(\n",
    "    embedding_matrix.shape[0],    # vocab size \n",
    "    embedding_matrix.shape[1],    # embedding dimension\n",
    "    embeddings_initializer=tf.initializers.Constant(embedding_matrix),\n",
    "    mask_zero = True,\n",
    "    name = 'Embedding',\n",
    "    trainable = False\n",
    ")"
   ]
  },
  {
   "cell_type": "code",
   "execution_count": 48,
   "metadata": {},
   "outputs": [
    {
     "data": {
      "text/plain": [
       "133"
      ]
     },
     "execution_count": 48,
     "metadata": {},
     "output_type": "execute_result"
    }
   ],
   "source": [
    "max_length = pad_sequences(train_df_evidence_enc, padding='post').shape[1]\n",
    "max_length"
   ]
  },
  {
   "cell_type": "code",
   "execution_count": 49,
   "metadata": {},
   "outputs": [],
   "source": [
    "sent_emb = Sequential([\n",
    "  Bidirectional(LSTM(64, return_sequences=False)),\n",
    "  Dense(64),\n",
    "  Dense(embedding_dimension),\n",
    "], name=\"sentence_embedding\")"
   ]
  },
  {
   "cell_type": "code",
   "execution_count": 50,
   "metadata": {},
   "outputs": [],
   "source": [
    "pad_train_claim = pad_sequences(train_df_claim_enc, maxlen=max_length, padding='post')\n",
    "pad_train_evidence = pad_sequences(train_df_evidence_enc, maxlen=max_length, padding='post')"
   ]
  },
  {
   "cell_type": "code",
   "execution_count": 51,
   "metadata": {},
   "outputs": [],
   "source": [
    "pad_val_claim = pad_sequences(val_df_claim_enc, maxlen=max_length, padding='post')\n",
    "pad_val_evidence = pad_sequences(val_df_evidence_enc, maxlen=max_length, padding='post')"
   ]
  },
  {
   "cell_type": "code",
   "execution_count": 52,
   "metadata": {},
   "outputs": [
    {
     "data": {
      "text/plain": [
       "((121740, 133), (121740, 133))"
      ]
     },
     "execution_count": 52,
     "metadata": {},
     "output_type": "execute_result"
    }
   ],
   "source": [
    "pad_train_claim.shape, pad_train_evidence.shape"
   ]
  },
  {
   "cell_type": "code",
   "execution_count": 58,
   "metadata": {},
   "outputs": [],
   "source": [
    "tf.keras.backend.clear_session()\n",
    "\n",
    "def build_model(max_length):\n",
    "  claim = Input((max_length,), name='claim')\n",
    "  evidence = Input((max_length,), name='evidence')\n",
    "\n",
    "  embedding_c = embedding_layer(claim)\n",
    "  embedding_e = embedding_layer(evidence)\n",
    "\n",
    "  sent_emb_c = sent_emb(embedding_c)\n",
    "  sent_emb_e = sent_emb(embedding_e)\n",
    "\n",
    "  output = Concatenate(name='refined_input')([sent_emb_c, sent_emb_e])\n",
    "\n",
    "  output = Dense(64, activation='relu')(output)\n",
    "  output = Dense(32, activation='relu')(output)\n",
    "  output = Dropout(0.5)(output)\n",
    "  \n",
    "  output = Dense(1, activation='sigmoid')(output)\n",
    "\n",
    "  return Model([claim, evidence], output)\n",
    "\n",
    "\n",
    "model = build_model(max_length)"
   ]
  },
  {
   "cell_type": "code",
   "execution_count": 59,
   "metadata": {},
   "outputs": [
    {
     "name": "stdout",
     "output_type": "stream",
     "text": [
      "Model: \"model\"\n",
      "__________________________________________________________________________________________________\n",
      "Layer (type)                    Output Shape         Param #     Connected to                     \n",
      "==================================================================================================\n",
      "claim (InputLayer)              [(None, 133)]        0                                            \n",
      "__________________________________________________________________________________________________\n",
      "evidence (InputLayer)           [(None, 133)]        0                                            \n",
      "__________________________________________________________________________________________________\n",
      "Embedding (Embedding)           (None, 133, 50)      6368600     claim[0][0]                      \n",
      "                                                                 evidence[0][0]                   \n",
      "__________________________________________________________________________________________________\n",
      "sentence_embedding (Sequential) (None, 50)           70386       Embedding[2][0]                  \n",
      "                                                                 Embedding[3][0]                  \n",
      "__________________________________________________________________________________________________\n",
      "refined_input (Concatenate)     (None, 100)          0           sentence_embedding[2][0]         \n",
      "                                                                 sentence_embedding[3][0]         \n",
      "__________________________________________________________________________________________________\n",
      "dense (Dense)                   (None, 64)           6464        refined_input[0][0]              \n",
      "__________________________________________________________________________________________________\n",
      "dense_1 (Dense)                 (None, 32)           2080        dense[0][0]                      \n",
      "__________________________________________________________________________________________________\n",
      "dropout (Dropout)               (None, 32)           0           dense_1[0][0]                    \n",
      "__________________________________________________________________________________________________\n",
      "dense_2 (Dense)                 (None, 1)            33          dropout[0][0]                    \n",
      "==================================================================================================\n",
      "Total params: 6,447,563\n",
      "Trainable params: 78,963\n",
      "Non-trainable params: 6,368,600\n",
      "__________________________________________________________________________________________________\n"
     ]
    }
   ],
   "source": [
    "model.compile(optimizer='adam', loss='binary_crossentropy', metrics=['acc'])\n",
    "model.summary()"
   ]
  },
  {
   "cell_type": "code",
   "execution_count": 60,
   "metadata": {},
   "outputs": [],
   "source": [
    "train_df[\"Label\"] = train_df[\"Label\"].apply(lambda x: 1 if x==\"SUPPORTS\" else 0)\n",
    "val_df[\"Label\"] = val_df[\"Label\"].apply(lambda x: 1 if x==\"SUPPORTS\" else 0)\n",
    "                                        \n",
    "y_train = np.array(train_df[\"Label\"])\n",
    "y_val = np.array(val_df[\"Label\"])"
   ]
  },
  {
   "cell_type": "code",
   "execution_count": 62,
   "metadata": {},
   "outputs": [
    {
     "name": "stdout",
     "output_type": "stream",
     "text": [
      "Train on 121740 samples, validate on 7165 samples\n",
      "Epoch 1/20\n",
      "   416/121740 [..............................] - ETA: 35:11 - loss: 0.5979 - acc: 0.7500"
     ]
    },
    {
     "ename": "KeyboardInterrupt",
     "evalue": "",
     "output_type": "error",
     "traceback": [
      "\u001b[0;31m---------------------------------------------------------------------------\u001b[0m",
      "\u001b[0;31mKeyboardInterrupt\u001b[0m                         Traceback (most recent call last)",
      "\u001b[0;32m<ipython-input-62-7cf263c40ccc>\u001b[0m in \u001b[0;36m<module>\u001b[0;34m\u001b[0m\n\u001b[1;32m      3\u001b[0m           \u001b[0mbatch_size\u001b[0m\u001b[0;34m=\u001b[0m\u001b[0;36m32\u001b[0m\u001b[0;34m,\u001b[0m\u001b[0;34m\u001b[0m\u001b[0;34m\u001b[0m\u001b[0m\n\u001b[1;32m      4\u001b[0m           \u001b[0mepochs\u001b[0m\u001b[0;34m=\u001b[0m\u001b[0;36m20\u001b[0m\u001b[0;34m,\u001b[0m\u001b[0;34m\u001b[0m\u001b[0;34m\u001b[0m\u001b[0m\n\u001b[0;32m----> 5\u001b[0;31m           validation_data=([pad_val_claim, pad_val_evidence], y_val))\n\u001b[0m",
      "\u001b[0;32m~/.conda/envs/fastai/lib/python3.6/site-packages/tensorflow/python/keras/engine/training.py\u001b[0m in \u001b[0;36mfit\u001b[0;34m(self, x, y, batch_size, epochs, verbose, callbacks, validation_split, validation_data, shuffle, class_weight, sample_weight, initial_epoch, steps_per_epoch, validation_steps, validation_freq, max_queue_size, workers, use_multiprocessing, **kwargs)\u001b[0m\n\u001b[1;32m    871\u001b[0m           \u001b[0mvalidation_steps\u001b[0m\u001b[0;34m=\u001b[0m\u001b[0mvalidation_steps\u001b[0m\u001b[0;34m,\u001b[0m\u001b[0;34m\u001b[0m\u001b[0;34m\u001b[0m\u001b[0m\n\u001b[1;32m    872\u001b[0m           \u001b[0mvalidation_freq\u001b[0m\u001b[0;34m=\u001b[0m\u001b[0mvalidation_freq\u001b[0m\u001b[0;34m,\u001b[0m\u001b[0;34m\u001b[0m\u001b[0;34m\u001b[0m\u001b[0m\n\u001b[0;32m--> 873\u001b[0;31m           steps_name='steps_per_epoch')\n\u001b[0m\u001b[1;32m    874\u001b[0m \u001b[0;34m\u001b[0m\u001b[0m\n\u001b[1;32m    875\u001b[0m   def evaluate(self,\n",
      "\u001b[0;32m~/.conda/envs/fastai/lib/python3.6/site-packages/tensorflow/python/keras/engine/training_arrays.py\u001b[0m in \u001b[0;36mmodel_iteration\u001b[0;34m(model, inputs, targets, sample_weights, batch_size, epochs, verbose, callbacks, val_inputs, val_targets, val_sample_weights, shuffle, initial_epoch, steps_per_epoch, validation_steps, validation_freq, mode, validation_in_fit, prepared_feed_values_from_dataset, steps_name, **kwargs)\u001b[0m\n\u001b[1;32m    350\u001b[0m \u001b[0;34m\u001b[0m\u001b[0m\n\u001b[1;32m    351\u001b[0m         \u001b[0;31m# Get outputs.\u001b[0m\u001b[0;34m\u001b[0m\u001b[0;34m\u001b[0m\u001b[0;34m\u001b[0m\u001b[0m\n\u001b[0;32m--> 352\u001b[0;31m         \u001b[0mbatch_outs\u001b[0m \u001b[0;34m=\u001b[0m \u001b[0mf\u001b[0m\u001b[0;34m(\u001b[0m\u001b[0mins_batch\u001b[0m\u001b[0;34m)\u001b[0m\u001b[0;34m\u001b[0m\u001b[0;34m\u001b[0m\u001b[0m\n\u001b[0m\u001b[1;32m    353\u001b[0m         \u001b[0;32mif\u001b[0m \u001b[0;32mnot\u001b[0m \u001b[0misinstance\u001b[0m\u001b[0;34m(\u001b[0m\u001b[0mbatch_outs\u001b[0m\u001b[0;34m,\u001b[0m \u001b[0mlist\u001b[0m\u001b[0;34m)\u001b[0m\u001b[0;34m:\u001b[0m\u001b[0;34m\u001b[0m\u001b[0;34m\u001b[0m\u001b[0m\n\u001b[1;32m    354\u001b[0m           \u001b[0mbatch_outs\u001b[0m \u001b[0;34m=\u001b[0m \u001b[0;34m[\u001b[0m\u001b[0mbatch_outs\u001b[0m\u001b[0;34m]\u001b[0m\u001b[0;34m\u001b[0m\u001b[0;34m\u001b[0m\u001b[0m\n",
      "\u001b[0;32m~/.conda/envs/fastai/lib/python3.6/site-packages/tensorflow/python/keras/backend.py\u001b[0m in \u001b[0;36m__call__\u001b[0;34m(self, inputs)\u001b[0m\n\u001b[1;32m   3215\u001b[0m         \u001b[0mvalue\u001b[0m \u001b[0;34m=\u001b[0m \u001b[0mmath_ops\u001b[0m\u001b[0;34m.\u001b[0m\u001b[0mcast\u001b[0m\u001b[0;34m(\u001b[0m\u001b[0mvalue\u001b[0m\u001b[0;34m,\u001b[0m \u001b[0mtensor\u001b[0m\u001b[0;34m.\u001b[0m\u001b[0mdtype\u001b[0m\u001b[0;34m)\u001b[0m\u001b[0;34m\u001b[0m\u001b[0;34m\u001b[0m\u001b[0m\n\u001b[1;32m   3216\u001b[0m       \u001b[0mconverted_inputs\u001b[0m\u001b[0;34m.\u001b[0m\u001b[0mappend\u001b[0m\u001b[0;34m(\u001b[0m\u001b[0mvalue\u001b[0m\u001b[0;34m)\u001b[0m\u001b[0;34m\u001b[0m\u001b[0;34m\u001b[0m\u001b[0m\n\u001b[0;32m-> 3217\u001b[0;31m     \u001b[0moutputs\u001b[0m \u001b[0;34m=\u001b[0m \u001b[0mself\u001b[0m\u001b[0;34m.\u001b[0m\u001b[0m_graph_fn\u001b[0m\u001b[0;34m(\u001b[0m\u001b[0;34m*\u001b[0m\u001b[0mconverted_inputs\u001b[0m\u001b[0;34m)\u001b[0m\u001b[0;34m\u001b[0m\u001b[0;34m\u001b[0m\u001b[0m\n\u001b[0m\u001b[1;32m   3218\u001b[0m     return nest.pack_sequence_as(self._outputs_structure,\n\u001b[1;32m   3219\u001b[0m                                  [x.numpy() for x in outputs])\n",
      "\u001b[0;32m~/.conda/envs/fastai/lib/python3.6/site-packages/tensorflow/python/eager/function.py\u001b[0m in \u001b[0;36m__call__\u001b[0;34m(self, *args, **kwargs)\u001b[0m\n\u001b[1;32m    556\u001b[0m       raise TypeError(\"Keyword arguments {} unknown. Expected {}.\".format(\n\u001b[1;32m    557\u001b[0m           list(kwargs.keys()), list(self._arg_keywords)))\n\u001b[0;32m--> 558\u001b[0;31m     \u001b[0;32mreturn\u001b[0m \u001b[0mself\u001b[0m\u001b[0;34m.\u001b[0m\u001b[0m_call_flat\u001b[0m\u001b[0;34m(\u001b[0m\u001b[0margs\u001b[0m\u001b[0;34m)\u001b[0m\u001b[0;34m\u001b[0m\u001b[0;34m\u001b[0m\u001b[0m\n\u001b[0m\u001b[1;32m    559\u001b[0m \u001b[0;34m\u001b[0m\u001b[0m\n\u001b[1;32m    560\u001b[0m   \u001b[0;32mdef\u001b[0m \u001b[0m_filtered_call\u001b[0m\u001b[0;34m(\u001b[0m\u001b[0mself\u001b[0m\u001b[0;34m,\u001b[0m \u001b[0margs\u001b[0m\u001b[0;34m,\u001b[0m \u001b[0mkwargs\u001b[0m\u001b[0;34m)\u001b[0m\u001b[0;34m:\u001b[0m\u001b[0;34m\u001b[0m\u001b[0;34m\u001b[0m\u001b[0m\n",
      "\u001b[0;32m~/.conda/envs/fastai/lib/python3.6/site-packages/tensorflow/python/eager/function.py\u001b[0m in \u001b[0;36m_call_flat\u001b[0;34m(self, args)\u001b[0m\n\u001b[1;32m    625\u001b[0m     \u001b[0;31m# Only need to override the gradient in graph mode and when we have outputs.\u001b[0m\u001b[0;34m\u001b[0m\u001b[0;34m\u001b[0m\u001b[0;34m\u001b[0m\u001b[0m\n\u001b[1;32m    626\u001b[0m     \u001b[0;32mif\u001b[0m \u001b[0mcontext\u001b[0m\u001b[0;34m.\u001b[0m\u001b[0mexecuting_eagerly\u001b[0m\u001b[0;34m(\u001b[0m\u001b[0;34m)\u001b[0m \u001b[0;32mor\u001b[0m \u001b[0;32mnot\u001b[0m \u001b[0mself\u001b[0m\u001b[0;34m.\u001b[0m\u001b[0moutputs\u001b[0m\u001b[0;34m:\u001b[0m\u001b[0;34m\u001b[0m\u001b[0;34m\u001b[0m\u001b[0m\n\u001b[0;32m--> 627\u001b[0;31m       \u001b[0moutputs\u001b[0m \u001b[0;34m=\u001b[0m \u001b[0mself\u001b[0m\u001b[0;34m.\u001b[0m\u001b[0m_inference_function\u001b[0m\u001b[0;34m.\u001b[0m\u001b[0mcall\u001b[0m\u001b[0;34m(\u001b[0m\u001b[0mctx\u001b[0m\u001b[0;34m,\u001b[0m \u001b[0margs\u001b[0m\u001b[0;34m)\u001b[0m\u001b[0;34m\u001b[0m\u001b[0;34m\u001b[0m\u001b[0m\n\u001b[0m\u001b[1;32m    628\u001b[0m     \u001b[0;32melse\u001b[0m\u001b[0;34m:\u001b[0m\u001b[0;34m\u001b[0m\u001b[0;34m\u001b[0m\u001b[0m\n\u001b[1;32m    629\u001b[0m       \u001b[0mself\u001b[0m\u001b[0;34m.\u001b[0m\u001b[0m_register_gradient\u001b[0m\u001b[0;34m(\u001b[0m\u001b[0;34m)\u001b[0m\u001b[0;34m\u001b[0m\u001b[0;34m\u001b[0m\u001b[0m\n",
      "\u001b[0;32m~/.conda/envs/fastai/lib/python3.6/site-packages/tensorflow/python/eager/function.py\u001b[0m in \u001b[0;36mcall\u001b[0;34m(self, ctx, args)\u001b[0m\n\u001b[1;32m    413\u001b[0m             attrs=(\"executor_type\", executor_type,\n\u001b[1;32m    414\u001b[0m                    \"config_proto\", config),\n\u001b[0;32m--> 415\u001b[0;31m             ctx=ctx)\n\u001b[0m\u001b[1;32m    416\u001b[0m       \u001b[0;31m# Replace empty list with None\u001b[0m\u001b[0;34m\u001b[0m\u001b[0;34m\u001b[0m\u001b[0;34m\u001b[0m\u001b[0m\n\u001b[1;32m    417\u001b[0m       \u001b[0moutputs\u001b[0m \u001b[0;34m=\u001b[0m \u001b[0moutputs\u001b[0m \u001b[0;32mor\u001b[0m \u001b[0;32mNone\u001b[0m\u001b[0;34m\u001b[0m\u001b[0;34m\u001b[0m\u001b[0m\n",
      "\u001b[0;32m~/.conda/envs/fastai/lib/python3.6/site-packages/tensorflow/python/eager/execute.py\u001b[0m in \u001b[0;36mquick_execute\u001b[0;34m(op_name, num_outputs, inputs, attrs, ctx, name)\u001b[0m\n\u001b[1;32m     58\u001b[0m     tensors = pywrap_tensorflow.TFE_Py_Execute(ctx._handle, device_name,\n\u001b[1;32m     59\u001b[0m                                                \u001b[0mop_name\u001b[0m\u001b[0;34m,\u001b[0m \u001b[0minputs\u001b[0m\u001b[0;34m,\u001b[0m \u001b[0mattrs\u001b[0m\u001b[0;34m,\u001b[0m\u001b[0;34m\u001b[0m\u001b[0;34m\u001b[0m\u001b[0m\n\u001b[0;32m---> 60\u001b[0;31m                                                num_outputs)\n\u001b[0m\u001b[1;32m     61\u001b[0m   \u001b[0;32mexcept\u001b[0m \u001b[0mcore\u001b[0m\u001b[0;34m.\u001b[0m\u001b[0m_NotOkStatusException\u001b[0m \u001b[0;32mas\u001b[0m \u001b[0me\u001b[0m\u001b[0;34m:\u001b[0m\u001b[0;34m\u001b[0m\u001b[0;34m\u001b[0m\u001b[0m\n\u001b[1;32m     62\u001b[0m     \u001b[0;32mif\u001b[0m \u001b[0mname\u001b[0m \u001b[0;32mis\u001b[0m \u001b[0;32mnot\u001b[0m \u001b[0;32mNone\u001b[0m\u001b[0;34m:\u001b[0m\u001b[0;34m\u001b[0m\u001b[0;34m\u001b[0m\u001b[0m\n",
      "\u001b[0;31mKeyboardInterrupt\u001b[0m: "
     ]
    }
   ],
   "source": [
    "model.fit(x=(pad_train_claim, pad_train_evidence), \n",
    "          y = y_train,\n",
    "          batch_size=32,\n",
    "          epochs=20,\n",
    "          validation_data=([pad_val_claim, pad_val_evidence], y_val))"
   ]
  },
  {
   "cell_type": "code",
   "execution_count": null,
   "metadata": {},
   "outputs": [],
   "source": [
    "## embedd all claim matrix"
   ]
  },
  {
   "cell_type": "markdown",
   "metadata": {
    "id": "Gypl5z5ElJo1"
   },
   "source": [
    "## Merging multi-inputs\n",
    "\n",
    "At this point, we have to think about **how** we should merge evidence and claim sentence embeddings.\n",
    "\n",
    "For simplicity, we stick to simple merging strategies:\n",
    "\n",
    "*     **Concatenation**: define the classification input as the concatenation of evidence and claim sentence embeddings\n",
    "\n",
    "*     **Sum**: define the classification input as the sum of evidence and claim sentence embeddings\n",
    "\n",
    "*     **Mean**: define the classification input as the mean of evidence and claim sentence embeddings\n",
    "\n",
    "For clarity, if we the sentence embedding of a single input has shape [batch_size, embedding_dim], then the classification input has shape:\n",
    "\n",
    "*     **Concatenation**: [batch_size, 2 * embedding_dim]\n",
    "\n",
    "*     **Sum**: [batch_size, embedding_dim]\n",
    "\n",
    "*     **Mean**: [batch_size, embedding_dim]"
   ]
  },
  {
   "cell_type": "markdown",
   "metadata": {
    "id": "IhVg9ZLymOUc"
   },
   "source": [
    "# A simple extension\n",
    "\n",
    "Lastly, we ask you to modify previously defined neural architectures by adding an additional feature to the classification input.\n",
    "\n",
    "We would like to see if some similarity information between the claim to verify and one of its associated evidence might be useful to the classification.\n",
    "\n",
    "Compute the cosine similarity metric between the two sentence embeddings and concatenate the result to the classification input.\n",
    "\n",
    "For clarity, since the cosine similarity of two vectors outputs a scalar value, the classification input shape is modified as follows:\n",
    "\n",
    "*     **Concatenation**: [batch_size, 2 * embedding_dim + 1]\n",
    "\n",
    "*     **Sum**: [batch_size, embedding_dim + 1]\n",
    "\n",
    "*     **Mean**: [batch_size, embedding_dim + 1]\n",
    "\n"
   ]
  },
  {
   "cell_type": "markdown",
   "metadata": {
    "id": "Nd74ULgpnJrc"
   },
   "source": [
    "# Performance evaluation\n",
    "\n",
    "Due to our simplifications, obtained results are not directly compatible with a traditional fact checking method that considers the evidence set as a whole.\n",
    "\n",
    "Thus, we need to consider two types of evaluations.\n",
    "\n",
    "**Multi-input classification evaluation**\n",
    "\n",
    "This type of evaluation is the easiest and concerns computing evaluation metrics, such as accuracy, f1-score, recall and precision, of our pre-processed dataset.\n",
    "\n",
    "In other words, we assess the performance of chosen classifiers.\n",
    "\n",
    "**Claim verification evaluation**\n",
    "\n",
    "However, if we want to give an answer concerning the claim itself, we need to consider the whole evidence set. \n",
    "\n",
    "Intuitively, for a given claim, we consider all its corresponding (claim, evidence) pairs and their corresponding classification outputs. \n",
    "\n",
    "At this point, all we need to do is to compute the final predicted claim label via majority voting.\n",
    "\n",
    "Example:\n",
    "\n",
    "    Claim: c1\n",
    "    Evidence set: e1, e2, e3\n",
    "    True label: S\n",
    "\n",
    "    Pair outputs:\n",
    "    (c1, e1) -> S (supports)\n",
    "    (c1, e2) -> S (supports)\n",
    "    (c1, e3) -> R (refutes)\n",
    "\n",
    "    Majority voting:\n",
    "    S -> 2 votes\n",
    "    R -> 1 vote\n",
    "\n",
    "    Final label:\n",
    "    c1 -> S\n",
    "\n",
    "Lastly, we have to compute classification metrics just like before."
   ]
  },
  {
   "cell_type": "markdown",
   "metadata": {
    "id": "W4LJ2yPxsUOV"
   },
   "source": [
    "# Tips and Extras"
   ]
  },
  {
   "cell_type": "markdown",
   "metadata": {
    "id": "Uf80UVRNrXve"
   },
   "source": [
    "## Extensions are welcome!\n",
    "\n",
    "Is this task too easy for you? Are you curious to try out things you have seen during lectures (e.g. attention)? Feel free to try everything you want!\n",
    "\n",
    "Don't forget to try neural baselines first!"
   ]
  },
  {
   "cell_type": "markdown",
   "metadata": {
    "id": "COXeCXdYsBEf"
   },
   "source": [
    "## Comments and documentation\n",
    "\n",
    "Remember to properly comment your code (it is not necessary to comment each single line) and don't forget to describe your work!"
   ]
  },
  {
   "cell_type": "markdown",
   "metadata": {
    "id": "Ejv6SDE8xc4_"
   },
   "source": [
    "## Organization\n",
    "\n",
    "We suggest you to divide your work into sections. This allows you to build clean and modular code, as well as easy to read and to debug.\n",
    "\n",
    "A possible schema:\n",
    "\n",
    "*   Dataset pre-processing\n",
    "*   Dataset conversion\n",
    "*   Model definition\n",
    "*   Training\n",
    "*   Evaluation\n",
    "*   Comments/Summary"
   ]
  },
  {
   "cell_type": "markdown",
   "metadata": {
    "id": "9DR70uh7pabo"
   },
   "source": [
    "# Contact\n",
    "\n",
    "For any doubt, question, issue or help, you can always contact us at the following email addresses:\n",
    "\n",
    "Teaching Assistants:\n",
    "\n",
    "* Andrea Galassi -> a.galassi@unibo.it\n",
    "* Federico Ruggeri -> federico.ruggeri6@unibo.it\n",
    "\n",
    "Professor:\n",
    "\n",
    "* Paolo Torroni -> p.torroni@unibo.it\n",
    "\n",
    "Don't forget that your feedback is very important! Your suggestions help us improving course material."
   ]
  },
  {
   "cell_type": "markdown",
   "metadata": {
    "id": "Jc0gNWU2pgKQ"
   },
   "source": [
    "# FAQ\n",
    "\n",
    "---\n",
    "\n",
    "**Q: Can I do something text pre-processing?**\n",
    "\n",
    "**A:** You have to! If you check text data, the majority of sentences need some cleaning.\n",
    "\n",
    "---\n",
    "\n",
    "**Q: I'm struggling with the implementation. Can you help me?**\n",
    "\n",
    "**A:** Yes sure! Write us an email about your issue. If you are looking for a particular type of operation, you can easily check the documentation of the deep learning framework you are using (google is your friend).\n",
    "\n",
    "---\n",
    "\n",
    "**Q: Can I try other encoding strategies or neural architectures?**\n",
    "\n",
    "**A:** Absolutely! Remember to try out recommended neural baselines first and only then proceed with your extensions.\n",
    "\n",
    "---"
   ]
  }
 ],
 "metadata": {
  "colab": {
   "name": "Assignment 4.ipynb",
   "provenance": [],
   "toc_visible": true
  },
  "kernelspec": {
   "display_name": "Python 3",
   "language": "python",
   "name": "python3"
  },
  "language_info": {
   "codemirror_mode": {
    "name": "ipython",
    "version": 3
   },
   "file_extension": ".py",
   "mimetype": "text/x-python",
   "name": "python",
   "nbconvert_exporter": "python",
   "pygments_lexer": "ipython3",
   "version": "3.6.10"
  }
 },
 "nbformat": 4,
 "nbformat_minor": 1
}
